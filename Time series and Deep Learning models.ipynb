{
  "cells": [
    {
      "attachments": {},
      "cell_type": "markdown",
      "metadata": {
        "id": "jlUZyP2xFCZx"
      },
      "source": [
        "here, we will test various time series classification methods. We choose **three** datasets from [the UCR/UEA time series repository](http://timeseriesclassification.com) and perform the tasks by evaluating the models on three selected datasets.\n",
        "\n"
      ]
    },
    {
      "cell_type": "markdown",
      "metadata": {
        "id": "Va23r8yGIfjW"
      },
      "source": [
        "### Task 0: Preparation"
      ]
    },
    {
      "attachments": {},
      "cell_type": "markdown",
      "metadata": {
        "id": "v2oklHd9Igso"
      },
      "source": [
        "choosing **three** datasets from the UCR/UEA time series repository."
      ]
    },
    {
      "cell_type": "code",
      "execution_count": null,
      "metadata": {
        "colab": {
          "base_uri": "https://localhost:8080/"
        },
        "id": "OsP1q2UuIdwo",
        "outputId": "313a9494-da55-4cf8-8593-32af1f9d56aa"
      },
      "outputs": [
        {
          "name": "stdout",
          "output_type": "stream",
          "text": [
            "Looking in indexes: https://pypi.org/simple, https://us-python.pkg.dev/colab-wheels/public/simple/\n",
            "Collecting sktime\n",
            "  Downloading sktime-0.17.1-py3-none-any.whl (16.1 MB)\n",
            "\u001b[2K     \u001b[90m━━━━━━━━━━━━━━━━━━━━━━━━━━━━━━━━━━━━━━━━\u001b[0m \u001b[32m16.1/16.1 MB\u001b[0m \u001b[31m37.7 MB/s\u001b[0m eta \u001b[36m0:00:00\u001b[0m\n",
            "\u001b[?25hRequirement already satisfied: numpy<1.25,>=1.21.0 in /usr/local/lib/python3.9/dist-packages (from sktime) (1.22.4)\n",
            "Collecting deprecated>=1.2.13\n",
            "  Downloading Deprecated-1.2.13-py2.py3-none-any.whl (9.6 kB)\n",
            "Requirement already satisfied: numba>=0.53 in /usr/local/lib/python3.9/dist-packages (from sktime) (0.56.4)\n",
            "Requirement already satisfied: scipy<2.0.0,>=1.2.0 in /usr/local/lib/python3.9/dist-packages (from sktime) (1.10.1)\n",
            "Requirement already satisfied: pandas<2.0.0,>=1.1.0 in /usr/local/lib/python3.9/dist-packages (from sktime) (1.5.3)\n",
            "Requirement already satisfied: scikit-learn<1.3.0,>=0.24.0 in /usr/local/lib/python3.9/dist-packages (from sktime) (1.2.2)\n",
            "Requirement already satisfied: wrapt<2,>=1.10 in /usr/local/lib/python3.9/dist-packages (from deprecated>=1.2.13->sktime) (1.14.1)\n",
            "Requirement already satisfied: llvmlite<0.40,>=0.39.0dev0 in /usr/local/lib/python3.9/dist-packages (from numba>=0.53->sktime) (0.39.1)\n",
            "Requirement already satisfied: setuptools in /usr/local/lib/python3.9/dist-packages (from numba>=0.53->sktime) (67.6.1)\n",
            "Requirement already satisfied: python-dateutil>=2.8.1 in /usr/local/lib/python3.9/dist-packages (from pandas<2.0.0,>=1.1.0->sktime) (2.8.2)\n",
            "Requirement already satisfied: pytz>=2020.1 in /usr/local/lib/python3.9/dist-packages (from pandas<2.0.0,>=1.1.0->sktime) (2022.7.1)\n",
            "Requirement already satisfied: threadpoolctl>=2.0.0 in /usr/local/lib/python3.9/dist-packages (from scikit-learn<1.3.0,>=0.24.0->sktime) (3.1.0)\n",
            "Requirement already satisfied: joblib>=1.1.1 in /usr/local/lib/python3.9/dist-packages (from scikit-learn<1.3.0,>=0.24.0->sktime) (1.2.0)\n",
            "Requirement already satisfied: six>=1.5 in /usr/local/lib/python3.9/dist-packages (from python-dateutil>=2.8.1->pandas<2.0.0,>=1.1.0->sktime) (1.16.0)\n",
            "Installing collected packages: deprecated, sktime\n",
            "Successfully installed deprecated-1.2.13 sktime-0.17.1\n"
          ]
        }
      ],
      "source": [
        "!pip install sktime"
      ]
    },
    {
      "cell_type": "code",
      "execution_count": null,
      "metadata": {
        "id": "bnWbWKyUJZrY"
      },
      "outputs": [],
      "source": [
        "import numpy as np\n",
        "import tensorflow as tf\n",
        "import matplotlib.pyplot as plt\n",
        "from tensorflow import keras\n",
        "import pandas as pd\n",
        "from sktime.datasets import load_UCR_UEA_dataset"
      ]
    },
    {
      "cell_type": "code",
      "execution_count": null,
      "metadata": {
        "id": "mJ-GkYZvs_gS"
      },
      "outputs": [],
      "source": [
        "#First dataset\n",
        "X_train_Pro, y_train_Pro = load_UCR_UEA_dataset(name='ProximalPhalanxTW', split='train', return_type=\"numpy2D\")\n",
        "X_test_Pro , y_test_Pro = load_UCR_UEA_dataset(name='ProximalPhalanxTW', split='test', return_type=\"numpy2D\")\n"
      ]
    },
    {
      "cell_type": "code",
      "execution_count": null,
      "metadata": {
        "colab": {
          "base_uri": "https://localhost:8080/"
        },
        "id": "P-Gzbr09wTlX",
        "outputId": "794748ee-9f01-4306-8f8f-8d4ae9d57747"
      },
      "outputs": [
        {
          "data": {
            "text/plain": [
              "((400, 80), (400,), (205, 80), (205,))"
            ]
          },
          "execution_count": 59,
          "metadata": {},
          "output_type": "execute_result"
        }
      ],
      "source": [
        "X_train_Pro.shape , y_train_Pro.shape, X_test_Pro.shape, y_test_Pro.shape"
      ]
    },
    {
      "cell_type": "code",
      "execution_count": null,
      "metadata": {
        "colab": {
          "base_uri": "https://localhost:8080/"
        },
        "id": "ZsOmsMx6aKvr",
        "outputId": "6566568a-005f-44b6-ac30-89d91109cf0f"
      },
      "outputs": [
        {
          "data": {
            "text/plain": [
              "['3', '4', '5', '6', '7', '8']"
            ]
          },
          "execution_count": 60,
          "metadata": {},
          "output_type": "execute_result"
        }
      ],
      "source": [
        "labels = np.unique(y_train_Pro).tolist()\n",
        "labels"
      ]
    },
    {
      "cell_type": "code",
      "execution_count": null,
      "metadata": {
        "id": "LXpAAw3TZ8rY"
      },
      "outputs": [],
      "source": [
        "#one_hot_encode the labels\n",
        "\n",
        "# Define the labels\n",
        "labels = np.unique(y_train_Pro).tolist()\n",
        "\n",
        "# One-hot encode the labels\n",
        "label_map = {label: i for i, label in enumerate(labels)}\n",
        "# Convert the labels to integers using the label map\n",
        "y_train_Pro_encoded = [label_map[label] for label in y_train_Pro]\n",
        "y_test_Pro_encoded = [label_map[label] for label in y_test_Pro]\n",
        "# Perform one-hot encoding using TensorFlow\n",
        "y_train_Pro_encoded = tf.one_hot(y_train_Pro_encoded, len(labels))\n",
        "y_test_Pro_encoded = tf.one_hot(y_test_Pro_encoded, len(labels))\n",
        "\n",
        "y_train_Pro_encoded = y_train_Pro_encoded.numpy()\n",
        "y_test_Pro_encoded = y_test_Pro_encoded.numpy()"
      ]
    },
    {
      "cell_type": "code",
      "execution_count": null,
      "metadata": {
        "colab": {
          "base_uri": "https://localhost:8080/"
        },
        "id": "TsjMmxatZ88j",
        "outputId": "bda98b9a-4c0a-4e2a-b221-a347bb1face1"
      },
      "outputs": [
        {
          "data": {
            "text/plain": [
              "((400, 6), numpy.ndarray, (205, 6))"
            ]
          },
          "execution_count": 62,
          "metadata": {},
          "output_type": "execute_result"
        }
      ],
      "source": [
        "y_train_Pro_encoded.shape, type(y_train_Pro_encoded), y_test_Pro_encoded.shape"
      ]
    },
    {
      "cell_type": "code",
      "execution_count": null,
      "metadata": {
        "colab": {
          "base_uri": "https://localhost:8080/"
        },
        "id": "tvXedU_PhYnz",
        "outputId": "e62e1caa-0836-4807-afba-2597423138e4"
      },
      "outputs": [
        {
          "data": {
            "text/plain": [
              "array([[1., 0., 0., 0., 0., 0.],\n",
              "       [1., 0., 0., 0., 0., 0.],\n",
              "       [1., 0., 0., 0., 0., 0.],\n",
              "       ...,\n",
              "       [0., 1., 0., 0., 0., 0.],\n",
              "       [0., 0., 0., 0., 0., 1.],\n",
              "       [0., 0., 0., 0., 0., 1.]], dtype=float32)"
            ]
          },
          "execution_count": 63,
          "metadata": {},
          "output_type": "execute_result"
        }
      ],
      "source": [
        "y_train_Pro_encoded"
      ]
    },
    {
      "cell_type": "code",
      "execution_count": null,
      "metadata": {
        "id": "qIns0VwtwTo9"
      },
      "outputs": [],
      "source": [
        "# The second dataset\n",
        "X_train_Plane, y_train_Plane = load_UCR_UEA_dataset(name='Plane', split='train', return_type=\"numpy2D\")\n",
        "X_test_Plane , y_test_Plane = load_UCR_UEA_dataset(name='Plane', split='test', return_type=\"numpy2D\")"
      ]
    },
    {
      "cell_type": "code",
      "execution_count": null,
      "metadata": {
        "colab": {
          "base_uri": "https://localhost:8080/"
        },
        "id": "yGZ9eO2twTsU",
        "outputId": "e3704e7e-43ad-440e-a2b2-0dd4ebdae9ce"
      },
      "outputs": [
        {
          "data": {
            "text/plain": [
              "((105, 144), (105,), (105, 144), (105,))"
            ]
          },
          "execution_count": 65,
          "metadata": {},
          "output_type": "execute_result"
        }
      ],
      "source": [
        "X_train_Plane.shape , y_train_Plane.shape,X_test_Plane.shape, y_test_Plane.shape"
      ]
    },
    {
      "cell_type": "code",
      "execution_count": null,
      "metadata": {
        "colab": {
          "base_uri": "https://localhost:8080/"
        },
        "id": "aschAOaI28BP",
        "outputId": "db1fc319-ea84-4fcd-f8aa-5e594701dbaf"
      },
      "outputs": [
        {
          "data": {
            "text/plain": [
              "(array(['1', '2', '3', '4', '5', '6', '7'], dtype='<U1'), numpy.ndarray)"
            ]
          },
          "execution_count": 66,
          "metadata": {},
          "output_type": "execute_result"
        }
      ],
      "source": [
        "np.unique(y_train_Plane), type(y_train_Plane)"
      ]
    },
    {
      "cell_type": "code",
      "execution_count": null,
      "metadata": {
        "id": "xdslFBNNkznV"
      },
      "outputs": [],
      "source": [
        "#one_hot_encode the labels for the second dataset\n",
        "\n",
        "# Define the labels\n",
        "labels = np.unique(y_train_Plane).tolist()\n",
        "\n",
        "# # One-hot encode the labels\n",
        "label_map = {label: i for i, label in enumerate(labels)}\n",
        "# Convert the labels to integers using the label map\n",
        "y_train_Plane_encoded = [label_map[label] for label in y_train_Plane]\n",
        "y_test_Plane_encoded = [label_map[label] for label in y_test_Plane]\n",
        "# Perform one-hot encoding using TensorFlow\n",
        "y_train_Plane_encoded = tf.one_hot(y_train_Plane_encoded, len(labels))\n",
        "y_test_Plane_encoded = tf.one_hot(y_test_Plane_encoded, len(labels))\n",
        "\n",
        "y_train_Plane_encoded = y_train_Plane_encoded.numpy()\n",
        "y_test_Plane_encoded = y_test_Plane_encoded.numpy()"
      ]
    },
    {
      "cell_type": "code",
      "execution_count": null,
      "metadata": {
        "id": "59fCemfVwTvb"
      },
      "outputs": [],
      "source": [
        "#The third dataset\n",
        "#ECG200\n",
        "X_train_ECG, y_train_ECG = load_UCR_UEA_dataset(name='ECG200', split='train', return_type=\"numpy2D\")\n",
        "X_test_ECG , y_test_ECG = load_UCR_UEA_dataset(name='ECG200', split='test', return_type=\"numpy2D\")"
      ]
    },
    {
      "cell_type": "code",
      "execution_count": null,
      "metadata": {
        "colab": {
          "base_uri": "https://localhost:8080/"
        },
        "id": "hlYUnQhhy297",
        "outputId": "3345e19c-4c3f-4a46-c6d5-22bf160b6748"
      },
      "outputs": [
        {
          "data": {
            "text/plain": [
              "((100, 96), (100,), (100, 96), (100,))"
            ]
          },
          "execution_count": 69,
          "metadata": {},
          "output_type": "execute_result"
        }
      ],
      "source": [
        "X_train_ECG.shape , y_train_ECG.shape,X_test_ECG.shape, y_test_ECG.shape"
      ]
    },
    {
      "cell_type": "code",
      "execution_count": null,
      "metadata": {
        "colab": {
          "base_uri": "https://localhost:8080/"
        },
        "id": "OTJtB4IWy3Et",
        "outputId": "dd100192-e8c1-40f9-fb70-b0d740e4f8b7"
      },
      "outputs": [
        {
          "data": {
            "text/plain": [
              "(array(['-1', '1'], dtype='<U2'), numpy.ndarray)"
            ]
          },
          "execution_count": 70,
          "metadata": {},
          "output_type": "execute_result"
        }
      ],
      "source": [
        "np.unique(y_train_ECG), type(y_train_ECG)"
      ]
    },
    {
      "cell_type": "code",
      "execution_count": null,
      "metadata": {
        "id": "agkEh9RTy3Jg"
      },
      "outputs": [],
      "source": [
        "#one_hot_encode the labels for the third dataset\n",
        "\n",
        "# Define the labels\n",
        "labels = np.unique(y_train_ECG).tolist()\n",
        "# One-hot encode the labels\n",
        "label_map = {label: i for i, label in enumerate(labels)}\n",
        "# Convert the labels to integers using the label map\n",
        "y_train_ECG_encoded = [label_map[label] for label in y_train_ECG]\n",
        "y_test_ECG_encoded = [label_map[label] for label in y_test_ECG]\n",
        "# Perform one-hot encoding using TensorFlow\n",
        "y_train_ECG_encoded = tf.one_hot(y_train_ECG_encoded, len(labels))\n",
        "y_test_ECG_encoded = tf.one_hot(y_test_ECG_encoded, len(labels))\n",
        "\n",
        "y_train_ECG_encoded = y_train_ECG_encoded.numpy()\n",
        "y_test_ECG_encoded = y_test_ECG_encoded.numpy()"
      ]
    },
    {
      "cell_type": "markdown",
      "metadata": {
        "id": "h2NHZckcFUuu"
      },
      "source": [
        "### Task 1: Time series classification using deep learning 1\n"
      ]
    },
    {
      "attachments": {},
      "cell_type": "markdown",
      "metadata": {
        "id": "cT53IJowFR6e"
      },
      "source": [
        "\n",
        "Time series classification problems can be solved using networks like CNN, RNN, or FCN. We try to merge different networks. \n",
        "\n",
        "Try to implement four different models: 1) Fully connected network, 2) **[Bi-directional RNN](https://keras.io/api/layers/recurrent_layers/bidirectional/)**, 3) 1D-CNN only, and 4) 1D-CNN + Any RNN variant. Here it is thr following rules:\n",
        "\n",
        "- When initially loading the dataset, use sktime's `load_UCR_UEA_dataset` function. This is for our grading purpose.\n",
        "- We use at least **two** Tensorflow callbacks when you fit your model. These can be built-in ones or your personalized callback.\n",
        "- We use Tensorflow's data API (`tf.data`) to manage dataset and use `shuffle`, `batch,` and `prefetch` functions. This means that we need to convert the data format using the `from_tensor_slices` function. This also means that we need to create your own validation set. we are not limited to using any methods to do this, but we may also need to shuffle the dataset before (for that, you can use `np.random.permutation`).\n",
        "- We need to clearly report the **test accuracy** of the four models. Training and validation accuracy scores are not enough.\n",
        "- We need to deal with datasets of different sizes. In this case, it might be helpful to make a function to create a model that can receive different input sizes as a parameter.\n"
      ]
    },
    {
      "cell_type": "code",
      "execution_count": null,
      "metadata": {
        "id": "ejkNHc0eFB7w"
      },
      "outputs": [],
      "source": [
        "# Two Tensor flow callbacks\n",
        "checkpoint = keras.callbacks.ModelCheckpoint(\"checkpoint\")\n",
        "# checkpoint_cb = keras.callbacks.ModelCheckpoint(\"checkpoint\", save_best_only=True)\n",
        "\n",
        "# count the number of epochs with the loss higher than the current lowest\n",
        "early_stopping = keras.callbacks.EarlyStopping(patience=10, restore_best_weights=True)\n"
      ]
    },
    {
      "cell_type": "code",
      "execution_count": null,
      "metadata": {
        "id": "fQXLEgYR0WQL"
      },
      "outputs": [],
      "source": [
        "#create test,valid,train datasets using from_tensor_slice for the first dataset\n",
        "train_ds_Pro = tf.data.Dataset.from_tensor_slices((X_train_Pro, y_train_Pro_encoded))  \n",
        "# Shuffle the training data\n",
        "idx = np.random.permutation(len(X_train_Pro))\n",
        "X_train_Pro, y_train_Pro_encoded = X_train_Pro[idx], y_train_Pro_encoded[idx] \n",
        "train_ds_Pro = train_ds_Pro.map(lambda x, y: (tf.cast(x, tf.float32), y))\n",
        "# create train and valid datasets\n",
        "valid_split = 0.2\n",
        "valid_size = int(valid_split * len(X_train_Pro))\n",
        "train_ds_Pro = tf.data.Dataset.from_tensor_slices((X_train_Pro[valid_size:], y_train_Pro_encoded[valid_size:])) \n",
        "valid_ds_Pro = tf.data.Dataset.from_tensor_slices((X_train_Pro[:valid_size], y_train_Pro_encoded[:valid_size]))\n",
        "#create test dataset\n",
        "test_ds_Pro = tf.data.Dataset.from_tensor_slices((X_test_Pro, y_test_Pro_encoded)) \n",
        "test_ds_Pro = test_ds_Pro.map(lambda x, y: (tf.cast(x, tf.float32), y))\n",
        "\n",
        "#manage dataset and use shuffle, batch, and prefetch functions\n",
        "train_ds_Pro = train_ds_Pro.shuffle(buffer_size=10000).batch(32).prefetch(tf.data.AUTOTUNE)\n",
        "valid_ds_Pro = valid_ds_Pro.shuffle(buffer_size=10000).batch(32).prefetch(tf.data.AUTOTUNE)\n",
        "test_ds_Pro = test_ds_Pro.shuffle(buffer_size=10000).batch(32).prefetch(tf.data.AUTOTUNE)"
      ]
    },
    {
      "cell_type": "code",
      "execution_count": null,
      "metadata": {
        "colab": {
          "base_uri": "https://localhost:8080/"
        },
        "id": "Loml6POnYsKj",
        "outputId": "0c02bd79-7ed9-497c-b3e5-466e82805788"
      },
      "outputs": [
        {
          "data": {
            "text/plain": [
              "(<tf.Tensor: shape=(), dtype=int64, numpy=10>,\n",
              " <tf.Tensor: shape=(), dtype=int64, numpy=3>,\n",
              " <tf.Tensor: shape=(), dtype=int64, numpy=7>)"
            ]
          },
          "execution_count": 74,
          "metadata": {},
          "output_type": "execute_result"
        }
      ],
      "source": [
        "train_ds_Pro.cardinality(), valid_ds_Pro.cardinality(),  test_ds_Pro.cardinality()"
      ]
    },
    {
      "cell_type": "code",
      "execution_count": null,
      "metadata": {
        "id": "QjGqNv7aYsOg"
      },
      "outputs": [],
      "source": [
        "#create test,valid,train datasets using from_tensor_slice for the second dataset\n",
        "train_ds_Plane = tf.data.Dataset.from_tensor_slices((X_train_Plane, y_train_Plane_encoded))\n",
        "# Shuffle the training data\n",
        "idx = np.random.permutation(len(X_train_Plane))\n",
        "X_train_Plane, y_train_Plane_encoded = X_train_Plane[idx], y_train_Plane_encoded[idx]\n",
        "train_ds_Plane = train_ds_Plane.map(lambda x, y: (tf.cast(x, tf.float32), y))\n",
        "# create train and valid datasets\n",
        "valid_split = 0.2\n",
        "valid_size = int(valid_split * len(X_train_Plane))\n",
        "train_ds_Plane = tf.data.Dataset.from_tensor_slices((X_train_Plane[valid_size:], y_train_Plane_encoded[valid_size:]))\n",
        "valid_ds_Plane = tf.data.Dataset.from_tensor_slices((X_train_Plane[:valid_size], y_train_Plane_encoded[:valid_size]))\n",
        "#creat test dataset\n",
        "test_ds_Plane = tf.data.Dataset.from_tensor_slices((X_test_Plane, y_test_Plane_encoded))\n",
        "test_ds_Plane = test_ds_Plane.map(lambda x, y: (tf.cast(x, tf.float32), y))\n",
        "\n",
        "#manage dataset and use shuffle, batch, and prefetch functions\n",
        "train_ds_Plane = train_ds_Plane.shuffle(buffer_size=10000).batch(32).prefetch(tf.data.AUTOTUNE)\n",
        "valid_ds_Plane = valid_ds_Plane.shuffle(buffer_size=10000).batch(32).prefetch(tf.data.AUTOTUNE)\n",
        "test_ds_Plane = test_ds_Plane.shuffle(buffer_size=10000).batch(32).prefetch(tf.data.AUTOTUNE)"
      ]
    },
    {
      "cell_type": "code",
      "execution_count": null,
      "metadata": {
        "id": "IR5dwy0Z0WUR"
      },
      "outputs": [],
      "source": [
        "#create test,valid,train datasets using from_tensor_slice for the third dataset\n",
        "train_ds_ECG = tf.data.Dataset.from_tensor_slices((X_train_ECG, y_train_ECG_encoded))\n",
        "# Shuffle the training data\n",
        "idx = np.random.permutation(len(X_train_ECG))\n",
        "X_train_ECG, y_train_ECG_encoded = X_train_ECG[idx], y_train_ECG_encoded[idx]\n",
        "train_ds_ECG = train_ds_ECG.map(lambda x, y: (tf.cast(x, tf.float32), y))\n",
        "# create train and valid datasets\n",
        "valid_split = 0.2\n",
        "valid_size = int(valid_split * len(X_train_Plane))\n",
        "train_ds_ECG = tf.data.Dataset.from_tensor_slices((X_train_ECG[valid_size:], y_train_ECG_encoded[valid_size:]))\n",
        "valid_ds_ECG = tf.data.Dataset.from_tensor_slices((X_train_ECG[:valid_size], y_train_ECG_encoded[:valid_size]))\n",
        "#creat test dataset\n",
        "test_ds_ECG = tf.data.Dataset.from_tensor_slices((X_test_ECG, y_test_ECG_encoded))\n",
        "test_ds_ECG = test_ds_ECG.map(lambda x, y: (tf.cast(x, tf.float32), y))\n",
        "\n",
        "#manage dataset and use shuffle, batch, and prefetch functions\n",
        "train_ds_ECG = train_ds_ECG.shuffle(buffer_size=10000).batch(32).prefetch(tf.data.AUTOTUNE)\n",
        "valid_ds_ECG = valid_ds_ECG.shuffle(buffer_size=10000).batch(32).prefetch(tf.data.AUTOTUNE)\n",
        "test_ds_ECG = test_ds_ECG.shuffle(buffer_size=10000).batch(32).prefetch(tf.data.AUTOTUNE)"
      ]
    },
    {
      "cell_type": "code",
      "execution_count": null,
      "metadata": {
        "id": "_HwBKeYP2Nn9"
      },
      "outputs": [],
      "source": [
        "#Implemeting four different models"
      ]
    },
    {
      "cell_type": "code",
      "execution_count": null,
      "metadata": {
        "id": "m8g2egBj0WY0"
      },
      "outputs": [],
      "source": [
        "#fully connected network\n",
        "def create_FCN(input_shape, num_labels):\n",
        "    model = keras.models.Sequential([\n",
        "    keras.layers.Dense(300, input_shape=[input_shape], activation='relu', name='dense1'),\n",
        "    keras.layers.Dense(100, activation='relu', name='dense2'),\n",
        "    keras.layers.Dense(num_labels, activation='sigmoid', name='output')\n",
        "])\n",
        "    \n",
        "    model.compile(loss=\"categorical_crossentropy\", \n",
        "                  optimizer=\"sgd\", \n",
        "                  metrics=[\"accuracy\"])\n",
        "    return model\n"
      ]
    },
    {
      "cell_type": "code",
      "execution_count": null,
      "metadata": {
        "colab": {
          "base_uri": "https://localhost:8080/"
        },
        "id": "qqirK3jzyPOb",
        "outputId": "38e1f91a-6a12-46c0-d40d-11e9fa2b9687"
      },
      "outputs": [
        {
          "name": "stdout",
          "output_type": "stream",
          "text": [
            "Epoch 1/10\n",
            " 1/10 [==>...........................] - ETA: 6s - loss: 2.2310 - accuracy: 0.0625"
          ]
        },
        {
          "name": "stderr",
          "output_type": "stream",
          "text": [
            "WARNING:absl:Found untraced functions such as _update_step_xla while saving (showing 1 of 1). These functions will not be directly callable after loading.\n"
          ]
        },
        {
          "name": "stdout",
          "output_type": "stream",
          "text": [
            "\b\b\b\b\b\b\b\b\b\b\b\b\b\b\b\b\b\b\b\b\b\b\b\b\b\b\b\b\b\b\b\b\b\b\b\b\b\b\b\b\b\b\b\b\b\b\b\b\b\b\b\b\b\b\b\b\b\b\b\b\b\b\b\b\b\b\b\b\b\b\b\b\b\b\b\b\b\b\b\b\b\b\r10/10 [==============================] - 2s 163ms/step - loss: 1.6463 - accuracy: 0.3844 - val_loss: 1.4744 - val_accuracy: 0.4250\n",
            "Epoch 2/10\n",
            " 9/10 [==========================>...] - ETA: 0s - loss: 1.3541 - accuracy: 0.4479"
          ]
        },
        {
          "name": "stderr",
          "output_type": "stream",
          "text": [
            "WARNING:absl:Found untraced functions such as _update_step_xla while saving (showing 1 of 1). These functions will not be directly callable after loading.\n"
          ]
        },
        {
          "name": "stdout",
          "output_type": "stream",
          "text": [
            "\b\b\b\b\b\b\b\b\b\b\b\b\b\b\b\b\b\b\b\b\b\b\b\b\b\b\b\b\b\b\b\b\b\b\b\b\b\b\b\b\b\b\b\b\b\b\b\b\b\b\b\b\b\b\b\b\b\b\b\b\b\b\b\b\b\b\b\b\b\b\b\b\b\b\b\b\b\b\b\b\b\b\r10/10 [==============================] - 1s 133ms/step - loss: 1.3421 - accuracy: 0.4563 - val_loss: 1.4303 - val_accuracy: 0.4250\n",
            "Epoch 3/10\n",
            " 1/10 [==>...........................] - ETA: 0s - loss: 1.1590 - accuracy: 0.5312"
          ]
        },
        {
          "name": "stderr",
          "output_type": "stream",
          "text": [
            "WARNING:absl:Found untraced functions such as _update_step_xla while saving (showing 1 of 1). These functions will not be directly callable after loading.\n"
          ]
        },
        {
          "name": "stdout",
          "output_type": "stream",
          "text": [
            "\b\b\b\b\b\b\b\b\b\b\b\b\b\b\b\b\b\b\b\b\b\b\b\b\b\b\b\b\b\b\b\b\b\b\b\b\b\b\b\b\b\b\b\b\b\b\b\b\b\b\b\b\b\b\b\b\b\b\b\b\b\b\b\b\b\b\b\b\b\b\b\b\b\b\b\b\b\b\b\b\b\b\r10/10 [==============================] - 1s 86ms/step - loss: 1.2658 - accuracy: 0.4563 - val_loss: 1.4013 - val_accuracy: 0.4250\n",
            "Epoch 4/10\n",
            " 1/10 [==>...........................] - ETA: 0s - loss: 1.2106 - accuracy: 0.3438"
          ]
        },
        {
          "name": "stderr",
          "output_type": "stream",
          "text": [
            "WARNING:absl:Found untraced functions such as _update_step_xla while saving (showing 1 of 1). These functions will not be directly callable after loading.\n"
          ]
        },
        {
          "name": "stdout",
          "output_type": "stream",
          "text": [
            "\b\b\b\b\b\b\b\b\b\b\b\b\b\b\b\b\b\b\b\b\b\b\b\b\b\b\b\b\b\b\b\b\b\b\b\b\b\b\b\b\b\b\b\b\b\b\b\b\b\b\b\b\b\b\b\b\b\b\b\b\b\b\b\b\b\b\b\b\b\b\b\b\b\b\b\b\b\b\b\b\b\b\r10/10 [==============================] - 1s 85ms/step - loss: 1.2136 - accuracy: 0.4875 - val_loss: 1.3754 - val_accuracy: 0.4250\n",
            "Epoch 5/10\n",
            " 1/10 [==>...........................] - ETA: 0s - loss: 1.2459 - accuracy: 0.3750"
          ]
        },
        {
          "name": "stderr",
          "output_type": "stream",
          "text": [
            "WARNING:absl:Found untraced functions such as _update_step_xla while saving (showing 1 of 1). These functions will not be directly callable after loading.\n"
          ]
        },
        {
          "name": "stdout",
          "output_type": "stream",
          "text": [
            "\b\b\b\b\b\b\b\b\b\b\b\b\b\b\b\b\b\b\b\b\b\b\b\b\b\b\b\b\b\b\b\b\b\b\b\b\b\b\b\b\b\b\b\b\b\b\b\b\b\b\b\b\b\b\b\b\b\b\b\b\b\b\b\b\b\b\b\b\b\b\b\b\b\b\b\b\b\b\b\b\b\b\r10/10 [==============================] - 1s 91ms/step - loss: 1.1701 - accuracy: 0.5094 - val_loss: 1.3473 - val_accuracy: 0.4250\n",
            "Epoch 6/10\n",
            " 1/10 [==>...........................] - ETA: 0s - loss: 1.0858 - accuracy: 0.4375"
          ]
        },
        {
          "name": "stderr",
          "output_type": "stream",
          "text": [
            "WARNING:absl:Found untraced functions such as _update_step_xla while saving (showing 1 of 1). These functions will not be directly callable after loading.\n"
          ]
        },
        {
          "name": "stdout",
          "output_type": "stream",
          "text": [
            "\b\b\b\b\b\b\b\b\b\b\b\b\b\b\b\b\b\b\b\b\b\b\b\b\b\b\b\b\b\b\b\b\b\b\b\b\b\b\b\b\b\b\b\b\b\b\b\b\b\b\b\b\b\b\b\b\b\b\b\b\b\b\b\b\b\b\b\b\b\b\b\b\b\b\b\b\b\b\b\b\b\b\r10/10 [==============================] - 1s 86ms/step - loss: 1.1295 - accuracy: 0.5344 - val_loss: 1.3156 - val_accuracy: 0.5500\n",
            "Epoch 7/10\n",
            " 1/10 [==>...........................] - ETA: 0s - loss: 1.2298 - accuracy: 0.5000"
          ]
        },
        {
          "name": "stderr",
          "output_type": "stream",
          "text": [
            "WARNING:absl:Found untraced functions such as _update_step_xla while saving (showing 1 of 1). These functions will not be directly callable after loading.\n"
          ]
        },
        {
          "name": "stdout",
          "output_type": "stream",
          "text": [
            "\b\b\b\b\b\b\b\b\b\b\b\b\b\b\b\b\b\b\b\b\b\b\b\b\b\b\b\b\b\b\b\b\b\b\b\b\b\b\b\b\b\b\b\b\b\b\b\b\b\b\b\b\b\b\b\b\b\b\b\b\b\b\b\b\b\b\b\b\b\b\b\b\b\b\b\b\b\b\b\b\b\b\r10/10 [==============================] - 1s 86ms/step - loss: 1.0967 - accuracy: 0.6156 - val_loss: 1.3016 - val_accuracy: 0.6000\n",
            "Epoch 8/10\n",
            " 1/10 [==>...........................] - ETA: 0s - loss: 0.9455 - accuracy: 0.6562"
          ]
        },
        {
          "name": "stderr",
          "output_type": "stream",
          "text": [
            "WARNING:absl:Found untraced functions such as _update_step_xla while saving (showing 1 of 1). These functions will not be directly callable after loading.\n"
          ]
        },
        {
          "name": "stdout",
          "output_type": "stream",
          "text": [
            "\b\b\b\b\b\b\b\b\b\b\b\b\b\b\b\b\b\b\b\b\b\b\b\b\b\b\b\b\b\b\b\b\b\b\b\b\b\b\b\b\b\b\b\b\b\b\b\b\b\b\b\b\b\b\b\b\b\b\b\b\b\b\b\b\b\b\b\b\b\b\b\b\b\b\b\b\b\b\b\b\b\b\r10/10 [==============================] - 2s 174ms/step - loss: 1.0599 - accuracy: 0.6750 - val_loss: 1.2760 - val_accuracy: 0.5375\n",
            "Epoch 9/10\n",
            " 1/10 [==>...........................] - ETA: 0s - loss: 1.0333 - accuracy: 0.5938"
          ]
        },
        {
          "name": "stderr",
          "output_type": "stream",
          "text": [
            "WARNING:absl:Found untraced functions such as _update_step_xla while saving (showing 1 of 1). These functions will not be directly callable after loading.\n"
          ]
        },
        {
          "name": "stdout",
          "output_type": "stream",
          "text": [
            "\b\b\b\b\b\b\b\b\b\b\b\b\b\b\b\b\b\b\b\b\b\b\b\b\b\b\b\b\b\b\b\b\b\b\b\b\b\b\b\b\b\b\b\b\b\b\b\b\b\b\b\b\b\b\b\b\b\b\b\b\b\b\b\b\b\b\b\b\b\b\b\b\b\b\b\b\b\b\b\b\b\b\r10/10 [==============================] - 1s 92ms/step - loss: 1.0373 - accuracy: 0.6500 - val_loss: 1.2426 - val_accuracy: 0.6625\n",
            "Epoch 10/10\n",
            " 1/10 [==>...........................] - ETA: 0s - loss: 1.0321 - accuracy: 0.7500"
          ]
        },
        {
          "name": "stderr",
          "output_type": "stream",
          "text": [
            "WARNING:absl:Found untraced functions such as _update_step_xla while saving (showing 1 of 1). These functions will not be directly callable after loading.\n"
          ]
        },
        {
          "name": "stdout",
          "output_type": "stream",
          "text": [
            "\b\b\b\b\b\b\b\b\b\b\b\b\b\b\b\b\b\b\b\b\b\b\b\b\b\b\b\b\b\b\b\b\b\b\b\b\b\b\b\b\b\b\b\b\b\b\b\b\b\b\b\b\b\b\b\b\b\b\b\b\b\b\b\b\b\b\b\b\b\b\b\b\b\b\b\b\b\b\b\b\b\b\r10/10 [==============================] - 1s 88ms/step - loss: 1.0054 - accuracy: 0.6844 - val_loss: 1.2287 - val_accuracy: 0.6750\n"
          ]
        }
      ],
      "source": [
        "#Implementing fully connected network on the datasets\n",
        "model_FCN = create_FCN(80,6)\n",
        "history = model_FCN.fit(x= train_ds_Pro, validation_data= valid_ds_Pro, epochs=10, callbacks=[early_stopping, checkpoint])"
      ]
    },
    {
      "cell_type": "code",
      "execution_count": null,
      "metadata": {
        "colab": {
          "base_uri": "https://localhost:8080/"
        },
        "id": "uMhu8nnSv5ti",
        "outputId": "930a7c43-ccf5-447a-c1cb-a7dc07cf0219"
      },
      "outputs": [
        {
          "name": "stdout",
          "output_type": "stream",
          "text": [
            "7/7 [==============================] - 0s 5ms/step - loss: 1.1072 - accuracy: 0.6780\n"
          ]
        },
        {
          "data": {
            "text/plain": [
              "[1.1072337627410889, 0.6780487895011902]"
            ]
          },
          "execution_count": 81,
          "metadata": {},
          "output_type": "execute_result"
        }
      ],
      "source": [
        "model_FCN.evaluate(test_ds_Pro)"
      ]
    },
    {
      "cell_type": "code",
      "execution_count": null,
      "metadata": {
        "colab": {
          "base_uri": "https://localhost:8080/"
        },
        "id": "EK1RP6GL-kcs",
        "outputId": "c09d05e7-9b65-4f41-bde6-8c543faf990d"
      },
      "outputs": [
        {
          "data": {
            "text/plain": [
              "((105, 144), <tf.Tensor: shape=(), dtype=int64, numpy=3>)"
            ]
          },
          "execution_count": 74,
          "metadata": {},
          "output_type": "execute_result"
        }
      ],
      "source": [
        "X_train_Plane.shape, train_ds_Plane.cardinality()"
      ]
    },
    {
      "cell_type": "code",
      "execution_count": null,
      "metadata": {
        "colab": {
          "base_uri": "https://localhost:8080/"
        },
        "id": "6ZTZ7fHv7PYS",
        "outputId": "8fd9a850-670d-4852-c686-ce83a12463aa"
      },
      "outputs": [
        {
          "name": "stdout",
          "output_type": "stream",
          "text": [
            "Epoch 1/10\n",
            "1/3 [=========>....................] - ETA: 1s - loss: 2.6093 - accuracy: 0.1562"
          ]
        },
        {
          "name": "stderr",
          "output_type": "stream",
          "text": [
            "WARNING:absl:Found untraced functions such as _update_step_xla while saving (showing 1 of 1). These functions will not be directly callable after loading.\n"
          ]
        },
        {
          "name": "stdout",
          "output_type": "stream",
          "text": [
            "\b\b\b\b\b\b\b\b\b\b\b\b\b\b\b\b\b\b\b\b\b\b\b\b\b\b\b\b\b\b\b\b\b\b\b\b\b\b\b\b\b\b\b\b\b\b\b\b\b\b\b\b\b\b\b\b\b\b\b\b\b\b\b\b\b\b\b\b\b\b\b\b\b\b\b\b\b\b\b\b\r3/3 [==============================] - 2s 636ms/step - loss: 2.2840 - accuracy: 0.1786 - val_loss: 1.7640 - val_accuracy: 0.2857\n",
            "Epoch 2/10\n",
            "1/3 [=========>....................] - ETA: 0s - loss: 1.8614 - accuracy: 0.1562"
          ]
        },
        {
          "name": "stderr",
          "output_type": "stream",
          "text": [
            "WARNING:absl:Found untraced functions such as _update_step_xla while saving (showing 1 of 1). These functions will not be directly callable after loading.\n"
          ]
        },
        {
          "name": "stdout",
          "output_type": "stream",
          "text": [
            "\b\b\b\b\b\b\b\b\b\b\b\b\b\b\b\b\b\b\b\b\b\b\b\b\b\b\b\b\b\b\b\b\b\b\b\b\b\b\b\b\b\b\b\b\b\b\b\b\b\b\b\b\b\b\b\b\b\b\b\b\b\b\b\b\b\b\b\b\b\b\b\b\b\b\b\b\b\b\b\b\r3/3 [==============================] - 1s 542ms/step - loss: 1.6801 - accuracy: 0.4167 - val_loss: 1.5187 - val_accuracy: 0.5714\n",
            "Epoch 3/10\n",
            "1/3 [=========>....................] - ETA: 0s - loss: 1.3670 - accuracy: 0.6875"
          ]
        },
        {
          "name": "stderr",
          "output_type": "stream",
          "text": [
            "WARNING:absl:Found untraced functions such as _update_step_xla while saving (showing 1 of 1). These functions will not be directly callable after loading.\n"
          ]
        },
        {
          "name": "stdout",
          "output_type": "stream",
          "text": [
            "\b\b\b\b\b\b\b\b\b\b\b\b\b\b\b\b\b\b\b\b\b\b\b\b\b\b\b\b\b\b\b\b\b\b\b\b\b\b\b\b\b\b\b\b\b\b\b\b\b\b\b\b\b\b\b\b\b\b\b\b\b\b\b\b\b\b\b\b\b\b\b\b\b\b\b\b\b\b\b\b\r3/3 [==============================] - 1s 596ms/step - loss: 1.3815 - accuracy: 0.6429 - val_loss: 1.3530 - val_accuracy: 0.5238\n",
            "Epoch 4/10\n",
            "1/3 [=========>....................] - ETA: 0s - loss: 1.1965 - accuracy: 0.6250"
          ]
        },
        {
          "name": "stderr",
          "output_type": "stream",
          "text": [
            "WARNING:absl:Found untraced functions such as _update_step_xla while saving (showing 1 of 1). These functions will not be directly callable after loading.\n"
          ]
        },
        {
          "name": "stdout",
          "output_type": "stream",
          "text": [
            "\b\b\b\b\b\b\b\b\b\b\b\b\b\b\b\b\b\b\b\b\b\b\b\b\b\b\b\b\b\b\b\b\b\b\b\b\b\b\b\b\b\b\b\b\b\b\b\b\b\b\b\b\b\b\b\b\b\b\b\b\b\b\b\b\b\b\b\b\b\b\b\b\b\b\b\b\b\b\b\b\r3/3 [==============================] - 1s 358ms/step - loss: 1.2280 - accuracy: 0.6310 - val_loss: 1.2248 - val_accuracy: 0.5714\n",
            "Epoch 5/10\n",
            "1/3 [=========>....................] - ETA: 0s - loss: 1.1465 - accuracy: 0.5938"
          ]
        },
        {
          "name": "stderr",
          "output_type": "stream",
          "text": [
            "WARNING:absl:Found untraced functions such as _update_step_xla while saving (showing 1 of 1). These functions will not be directly callable after loading.\n"
          ]
        },
        {
          "name": "stdout",
          "output_type": "stream",
          "text": [
            "\b\b\b\b\b\b\b\b\b\b\b\b\b\b\b\b\b\b\b\b\b\b\b\b\b\b\b\b\b\b\b\b\b\b\b\b\b\b\b\b\b\b\b\b\b\b\b\b\b\b\b\b\b\b\b\b\b\b\b\b\b\b\b\b\b\b\b\b\b\b\b\b\b\b\b\b\b\b\b\b\r3/3 [==============================] - 1s 362ms/step - loss: 1.1239 - accuracy: 0.6667 - val_loss: 1.0788 - val_accuracy: 0.5714\n",
            "Epoch 6/10\n",
            "1/3 [=========>....................] - ETA: 0s - loss: 1.0484 - accuracy: 0.6875"
          ]
        },
        {
          "name": "stderr",
          "output_type": "stream",
          "text": [
            "WARNING:absl:Found untraced functions such as _update_step_xla while saving (showing 1 of 1). These functions will not be directly callable after loading.\n"
          ]
        },
        {
          "name": "stdout",
          "output_type": "stream",
          "text": [
            "\b\b\b\b\b\b\b\b\b\b\b\b\b\b\b\b\b\b\b\b\b\b\b\b\b\b\b\b\b\b\b\b\b\b\b\b\b\b\b\b\b\b\b\b\b\b\b\b\b\b\b\b\b\b\b\b\b\b\b\b\b\b\b\b\b\b\b\b\b\b\b\b\b\b\b\b\b\b\b\b\r3/3 [==============================] - 1s 384ms/step - loss: 1.0223 - accuracy: 0.6905 - val_loss: 1.0114 - val_accuracy: 0.5714\n",
            "Epoch 7/10\n",
            "1/3 [=========>....................] - ETA: 0s - loss: 0.9639 - accuracy: 0.6875"
          ]
        },
        {
          "name": "stderr",
          "output_type": "stream",
          "text": [
            "WARNING:absl:Found untraced functions such as _update_step_xla while saving (showing 1 of 1). These functions will not be directly callable after loading.\n"
          ]
        },
        {
          "name": "stdout",
          "output_type": "stream",
          "text": [
            "\b\b\b\b\b\b\b\b\b\b\b\b\b\b\b\b\b\b\b\b\b\b\b\b\b\b\b\b\b\b\b\b\b\b\b\b\b\b\b\b\b\b\b\b\b\b\b\b\b\b\b\b\b\b\b\b\b\b\b\b\b\b\b\b\b\b\b\b\b\b\b\b\b\b\b\b\b\b\b\b\r3/3 [==============================] - 1s 364ms/step - loss: 0.9378 - accuracy: 0.7262 - val_loss: 0.8845 - val_accuracy: 0.8095\n",
            "Epoch 8/10\n",
            "1/3 [=========>....................] - ETA: 0s - loss: 0.9556 - accuracy: 0.9062"
          ]
        },
        {
          "name": "stderr",
          "output_type": "stream",
          "text": [
            "WARNING:absl:Found untraced functions such as _update_step_xla while saving (showing 1 of 1). These functions will not be directly callable after loading.\n"
          ]
        },
        {
          "name": "stdout",
          "output_type": "stream",
          "text": [
            "\b\b\b\b\b\b\b\b\b\b\b\b\b\b\b\b\b\b\b\b\b\b\b\b\b\b\b\b\b\b\b\b\b\b\b\b\b\b\b\b\b\b\b\b\b\b\b\b\b\b\b\b\b\b\b\b\b\b\b\b\b\b\b\b\b\b\b\b\b\b\b\b\b\b\b\b\b\b\b\b\r3/3 [==============================] - 1s 389ms/step - loss: 0.8774 - accuracy: 0.9167 - val_loss: 0.8494 - val_accuracy: 0.6667\n",
            "Epoch 9/10\n",
            "1/3 [=========>....................] - ETA: 0s - loss: 0.7971 - accuracy: 0.8125"
          ]
        },
        {
          "name": "stderr",
          "output_type": "stream",
          "text": [
            "WARNING:absl:Found untraced functions such as _update_step_xla while saving (showing 1 of 1). These functions will not be directly callable after loading.\n"
          ]
        },
        {
          "name": "stdout",
          "output_type": "stream",
          "text": [
            "\b\b\b\b\b\b\b\b\b\b\b\b\b\b\b\b\b\b\b\b\b\b\b\b\b\b\b\b\b\b\b\b\b\b\b\b\b\b\b\b\b\b\b\b\b\b\b\b\b\b\b\b\b\b\b\b\b\b\b\b\b\b\b\b\b\b\b\b\b\b\b\b\b\b\b\b\b\b\b\b\r3/3 [==============================] - 1s 406ms/step - loss: 0.8040 - accuracy: 0.8333 - val_loss: 0.7906 - val_accuracy: 0.7143\n",
            "Epoch 10/10\n",
            "1/3 [=========>....................] - ETA: 0s - loss: 0.7785 - accuracy: 0.8438"
          ]
        },
        {
          "name": "stderr",
          "output_type": "stream",
          "text": [
            "WARNING:absl:Found untraced functions such as _update_step_xla while saving (showing 1 of 1). These functions will not be directly callable after loading.\n"
          ]
        },
        {
          "name": "stdout",
          "output_type": "stream",
          "text": [
            "\b\b\b\b\b\b\b\b\b\b\b\b\b\b\b\b\b\b\b\b\b\b\b\b\b\b\b\b\b\b\b\b\b\b\b\b\b\b\b\b\b\b\b\b\b\b\b\b\b\b\b\b\b\b\b\b\b\b\b\b\b\b\b\b\b\b\b\b\b\b\b\b\b\b\b\b\b\b\b\b\r3/3 [==============================] - 1s 374ms/step - loss: 0.7515 - accuracy: 0.8095 - val_loss: 0.7023 - val_accuracy: 1.0000\n"
          ]
        }
      ],
      "source": [
        "model_FCN = create_FCN(144,7)\n",
        "history = model_FCN.fit(train_ds_Plane, validation_data=valid_ds_Plane, epochs=10, callbacks=[early_stopping, checkpoint])"
      ]
    },
    {
      "cell_type": "code",
      "execution_count": null,
      "metadata": {
        "colab": {
          "base_uri": "https://localhost:8080/"
        },
        "id": "utoo800o7hN1",
        "outputId": "0c68096c-9393-4e58-9e33-cf7cb55daa33"
      },
      "outputs": [
        {
          "name": "stdout",
          "output_type": "stream",
          "text": [
            "4/4 [==============================] - 0s 5ms/step - loss: 0.7844 - accuracy: 0.9238\n"
          ]
        },
        {
          "data": {
            "text/plain": [
              "[0.784355878829956, 0.9238095283508301]"
            ]
          },
          "execution_count": 83,
          "metadata": {},
          "output_type": "execute_result"
        }
      ],
      "source": [
        "model_FCN.evaluate(test_ds_Plane)"
      ]
    },
    {
      "cell_type": "code",
      "execution_count": null,
      "metadata": {
        "colab": {
          "base_uri": "https://localhost:8080/"
        },
        "id": "sXaoIbvr7yZl",
        "outputId": "f8a20531-3b30-4a5a-c765-317fb40cb0c0"
      },
      "outputs": [
        {
          "data": {
            "text/plain": [
              "((100, 96), <tf.Tensor: shape=(), dtype=int64, numpy=3>)"
            ]
          },
          "execution_count": 84,
          "metadata": {},
          "output_type": "execute_result"
        }
      ],
      "source": [
        "X_train_ECG.shape, train_ds_ECG.cardinality()"
      ]
    },
    {
      "cell_type": "code",
      "execution_count": null,
      "metadata": {
        "colab": {
          "base_uri": "https://localhost:8080/"
        },
        "id": "1RMY3YvR78GP",
        "outputId": "ee1267fa-b07c-4d00-9f17-94b5fbdf68ea"
      },
      "outputs": [
        {
          "name": "stdout",
          "output_type": "stream",
          "text": [
            "Epoch 1/10\n",
            "1/3 [=========>....................] - ETA: 2s - loss: 0.6459 - accuracy: 0.6562"
          ]
        },
        {
          "name": "stderr",
          "output_type": "stream",
          "text": [
            "WARNING:absl:Found untraced functions such as _update_step_xla while saving (showing 1 of 1). These functions will not be directly callable after loading.\n"
          ]
        },
        {
          "name": "stdout",
          "output_type": "stream",
          "text": [
            "\b\b\b\b\b\b\b\b\b\b\b\b\b\b\b\b\b\b\b\b\b\b\b\b\b\b\b\b\b\b\b\b\b\b\b\b\b\b\b\b\b\b\b\b\b\b\b\b\b\b\b\b\b\b\b\b\b\b\b\b\b\b\b\b\b\b\b\b\b\b\b\b\b\b\b\b\b\b\b\b\r3/3 [==============================] - 2s 465ms/step - loss: 0.6214 - accuracy: 0.6962 - val_loss: 0.6304 - val_accuracy: 0.6667\n",
            "Epoch 2/10\n",
            "1/3 [=========>....................] - ETA: 0s - loss: 0.6770 - accuracy: 0.5938"
          ]
        },
        {
          "name": "stderr",
          "output_type": "stream",
          "text": [
            "WARNING:absl:Found untraced functions such as _update_step_xla while saving (showing 1 of 1). These functions will not be directly callable after loading.\n"
          ]
        },
        {
          "name": "stdout",
          "output_type": "stream",
          "text": [
            "\b\b\b\b\b\b\b\b\b\b\b\b\b\b\b\b\b\b\b\b\b\b\b\b\b\b\b\b\b\b\b\b\b\b\b\b\b\b\b\b\b\b\b\b\b\b\b\b\b\b\b\b\b\b\b\b\b\b\b\b\b\b\b\b\b\b\b\b\b\b\b\b\b\b\b\b\b\b\b\b\r3/3 [==============================] - 1s 391ms/step - loss: 0.5673 - accuracy: 0.6962 - val_loss: 0.5690 - val_accuracy: 0.6667\n",
            "Epoch 3/10\n",
            "1/3 [=========>....................] - ETA: 0s - loss: 0.5940 - accuracy: 0.6250"
          ]
        },
        {
          "name": "stderr",
          "output_type": "stream",
          "text": [
            "WARNING:absl:Found untraced functions such as _update_step_xla while saving (showing 1 of 1). These functions will not be directly callable after loading.\n"
          ]
        },
        {
          "name": "stdout",
          "output_type": "stream",
          "text": [
            "\b\b\b\b\b\b\b\b\b\b\b\b\b\b\b\b\b\b\b\b\b\b\b\b\b\b\b\b\b\b\b\b\b\b\b\b\b\b\b\b\b\b\b\b\b\b\b\b\b\b\b\b\b\b\b\b\b\b\b\b\b\b\b\b\b\b\b\b\b\b\b\b\b\b\b\b\b\b\b\b\r3/3 [==============================] - 1s 380ms/step - loss: 0.5295 - accuracy: 0.6962 - val_loss: 0.5234 - val_accuracy: 0.7619\n",
            "Epoch 4/10\n",
            "1/3 [=========>....................] - ETA: 0s - loss: 0.4701 - accuracy: 0.8125"
          ]
        },
        {
          "name": "stderr",
          "output_type": "stream",
          "text": [
            "WARNING:absl:Found untraced functions such as _update_step_xla while saving (showing 1 of 1). These functions will not be directly callable after loading.\n"
          ]
        },
        {
          "name": "stdout",
          "output_type": "stream",
          "text": [
            "\b\b\b\b\b\b\b\b\b\b\b\b\b\b\b\b\b\b\b\b\b\b\b\b\b\b\b\b\b\b\b\b\b\b\b\b\b\b\b\b\b\b\b\b\b\b\b\b\b\b\b\b\b\b\b\b\b\b\b\b\b\b\b\b\b\b\b\b\b\b\b\b\b\b\b\b\b\b\b\b\r3/3 [==============================] - 1s 522ms/step - loss: 0.4986 - accuracy: 0.7722 - val_loss: 0.4823 - val_accuracy: 0.8095\n",
            "Epoch 5/10\n",
            "1/3 [=========>....................] - ETA: 0s - loss: 0.5125 - accuracy: 0.7500"
          ]
        },
        {
          "name": "stderr",
          "output_type": "stream",
          "text": [
            "WARNING:absl:Found untraced functions such as _update_step_xla while saving (showing 1 of 1). These functions will not be directly callable after loading.\n"
          ]
        },
        {
          "name": "stdout",
          "output_type": "stream",
          "text": [
            "\b\b\b\b\b\b\b\b\b\b\b\b\b\b\b\b\b\b\b\b\b\b\b\b\b\b\b\b\b\b\b\b\b\b\b\b\b\b\b\b\b\b\b\b\b\b\b\b\b\b\b\b\b\b\b\b\b\b\b\b\b\b\b\b\b\b\b\b\b\b\b\b\b\b\b\b\b\b\b\b\r3/3 [==============================] - 1s 553ms/step - loss: 0.4765 - accuracy: 0.7848 - val_loss: 0.4469 - val_accuracy: 0.8095\n",
            "Epoch 6/10\n",
            "1/3 [=========>....................] - ETA: 0s - loss: 0.4475 - accuracy: 0.7812"
          ]
        },
        {
          "name": "stderr",
          "output_type": "stream",
          "text": [
            "WARNING:absl:Found untraced functions such as _update_step_xla while saving (showing 1 of 1). These functions will not be directly callable after loading.\n"
          ]
        },
        {
          "name": "stdout",
          "output_type": "stream",
          "text": [
            "\b\b\b\b\b\b\b\b\b\b\b\b\b\b\b\b\b\b\b\b\b\b\b\b\b\b\b\b\b\b\b\b\b\b\b\b\b\b\b\b\b\b\b\b\b\b\b\b\b\b\b\b\b\b\b\b\b\b\b\b\b\b\b\b\b\b\b\b\b\b\b\b\b\b\b\b\b\b\b\b\r3/3 [==============================] - 1s 565ms/step - loss: 0.4549 - accuracy: 0.7848 - val_loss: 0.4172 - val_accuracy: 0.8095\n",
            "Epoch 7/10\n",
            "1/3 [=========>....................] - ETA: 0s - loss: 0.4807 - accuracy: 0.7812"
          ]
        },
        {
          "name": "stderr",
          "output_type": "stream",
          "text": [
            "WARNING:absl:Found untraced functions such as _update_step_xla while saving (showing 1 of 1). These functions will not be directly callable after loading.\n"
          ]
        },
        {
          "name": "stdout",
          "output_type": "stream",
          "text": [
            "\b\b\b\b\b\b\b\b\b\b\b\b\b\b\b\b\b\b\b\b\b\b\b\b\b\b\b\b\b\b\b\b\b\b\b\b\b\b\b\b\b\b\b\b\b\b\b\b\b\b\b\b\b\b\b\b\b\b\b\b\b\b\b\b\b\b\b\b\b\b\b\b\b\b\b\b\b\b\b\b\r3/3 [==============================] - 1s 357ms/step - loss: 0.4407 - accuracy: 0.7722 - val_loss: 0.3960 - val_accuracy: 0.8095\n",
            "Epoch 8/10\n",
            "1/3 [=========>....................] - ETA: 0s - loss: 0.3617 - accuracy: 0.8750"
          ]
        },
        {
          "name": "stderr",
          "output_type": "stream",
          "text": [
            "WARNING:absl:Found untraced functions such as _update_step_xla while saving (showing 1 of 1). These functions will not be directly callable after loading.\n"
          ]
        },
        {
          "name": "stdout",
          "output_type": "stream",
          "text": [
            "\b\b\b\b\b\b\b\b\b\b\b\b\b\b\b\b\b\b\b\b\b\b\b\b\b\b\b\b\b\b\b\b\b\b\b\b\b\b\b\b\b\b\b\b\b\b\b\b\b\b\b\b\b\b\b\b\b\b\b\b\b\b\b\b\b\b\b\b\b\b\b\b\b\b\b\b\b\b\b\b\r3/3 [==============================] - 1s 350ms/step - loss: 0.4285 - accuracy: 0.7848 - val_loss: 0.3691 - val_accuracy: 0.8095\n",
            "Epoch 9/10\n",
            "1/3 [=========>....................] - ETA: 0s - loss: 0.4900 - accuracy: 0.7188"
          ]
        },
        {
          "name": "stderr",
          "output_type": "stream",
          "text": [
            "WARNING:absl:Found untraced functions such as _update_step_xla while saving (showing 1 of 1). These functions will not be directly callable after loading.\n"
          ]
        },
        {
          "name": "stdout",
          "output_type": "stream",
          "text": [
            "\b\b\b\b\b\b\b\b\b\b\b\b\b\b\b\b\b\b\b\b\b\b\b\b\b\b\b\b\b\b\b\b\b\b\b\b\b\b\b\b\b\b\b\b\b\b\b\b\b\b\b\b\b\b\b\b\b\b\b\b\b\b\b\b\b\b\b\b\b\b\b\b\b\b\b\b\b\b\b\b\r3/3 [==============================] - 1s 359ms/step - loss: 0.4133 - accuracy: 0.7848 - val_loss: 0.3499 - val_accuracy: 0.8571\n",
            "Epoch 10/10\n",
            "1/3 [=========>....................] - ETA: 0s - loss: 0.3280 - accuracy: 0.8438"
          ]
        },
        {
          "name": "stderr",
          "output_type": "stream",
          "text": [
            "WARNING:absl:Found untraced functions such as _update_step_xla while saving (showing 1 of 1). These functions will not be directly callable after loading.\n"
          ]
        },
        {
          "name": "stdout",
          "output_type": "stream",
          "text": [
            "\b\b\b\b\b\b\b\b\b\b\b\b\b\b\b\b\b\b\b\b\b\b\b\b\b\b\b\b\b\b\b\b\b\b\b\b\b\b\b\b\b\b\b\b\b\b\b\b\b\b\b\b\b\b\b\b\b\b\b\b\b\b\b\b\b\b\b\b\b\b\b\b\b\b\b\b\b\b\b\b\r3/3 [==============================] - 1s 384ms/step - loss: 0.4017 - accuracy: 0.7722 - val_loss: 0.3346 - val_accuracy: 0.8571\n"
          ]
        }
      ],
      "source": [
        "model_FCN = create_FCN(96,2)\n",
        "history = model_FCN.fit(train_ds_ECG, validation_data=valid_ds_ECG, epochs=10, callbacks=[early_stopping, checkpoint])"
      ]
    },
    {
      "cell_type": "code",
      "execution_count": null,
      "metadata": {
        "colab": {
          "base_uri": "https://localhost:8080/"
        },
        "id": "GySYmP8Z8Cr2",
        "outputId": "7ec023fd-35fd-4f85-a4b1-f47da5526c16"
      },
      "outputs": [
        {
          "name": "stdout",
          "output_type": "stream",
          "text": [
            "1/1 [==============================] - 0s 25ms/step - loss: 0.3346 - accuracy: 0.8571\n"
          ]
        },
        {
          "data": {
            "text/plain": [
              "[0.3346192538738251, 0.8571428656578064]"
            ]
          },
          "execution_count": 86,
          "metadata": {},
          "output_type": "execute_result"
        }
      ],
      "source": [
        "model_FCN.evaluate(valid_ds_ECG)"
      ]
    },
    {
      "cell_type": "code",
      "execution_count": null,
      "metadata": {
        "id": "bz2J_pTM_55M"
      },
      "outputs": [],
      "source": [
        "\n",
        "def create_BiDirectional(input_shape, num_labels):      \n",
        "    model = keras.models.Sequential([\n",
        "      keras.layers.Bidirectional(keras.layers.LSTM(10, return_sequences=True), input_shape= input_shape),\n",
        "      keras.layers.Bidirectional(keras.layers.LSTM(10)),\n",
        "      keras.layers.Dense(num_labels, activation= ('softmax'))\n",
        "      ])\n",
        "      \n",
        "    model.compile(optimizer='adam', loss='categorical_crossentropy', metrics=['accuracy'])\n",
        "    return model\n",
        "\n"
      ]
    },
    {
      "cell_type": "code",
      "execution_count": null,
      "metadata": {
        "colab": {
          "base_uri": "https://localhost:8080/"
        },
        "id": "ll3TrveekAIx",
        "outputId": "8a4218de-8843-4b85-af4b-7fdcdfe11c90"
      },
      "outputs": [
        {
          "data": {
            "text/plain": [
              "((400,), (400, 6), (400, 80))"
            ]
          },
          "execution_count": 88,
          "metadata": {},
          "output_type": "execute_result"
        }
      ],
      "source": [
        "y_train_Pro.shape, y_train_Pro_encoded.shape, X_train_Pro.shape"
      ]
    },
    {
      "cell_type": "code",
      "execution_count": null,
      "metadata": {
        "colab": {
          "base_uri": "https://localhost:8080/"
        },
        "id": "RFYjoWGY-81f",
        "outputId": "4f5a4805-4006-47db-bfb7-44d81a3016ae"
      },
      "outputs": [
        {
          "name": "stdout",
          "output_type": "stream",
          "text": [
            "Epoch 1/10\n",
            "10/10 [==============================] - ETA: 0s - loss: 1.7308 - accuracy: 0.2906"
          ]
        },
        {
          "name": "stderr",
          "output_type": "stream",
          "text": [
            "WARNING:absl:Found untraced functions such as _update_step_xla, lstm_cell_1_layer_call_fn, lstm_cell_1_layer_call_and_return_conditional_losses, lstm_cell_2_layer_call_fn, lstm_cell_2_layer_call_and_return_conditional_losses while saving (showing 5 of 9). These functions will not be directly callable after loading.\n"
          ]
        },
        {
          "name": "stdout",
          "output_type": "stream",
          "text": [
            "\b\b\b\b\b\b\b\b\b\b\b\b\b\b\b\b\b\b\b\b\b\b\b\b\b\b\b\b\b\b\b\b\b\b\b\b\b\b\b\b\b\b\b\b\b\b\b\b\b\b\b\b\b\b\b\b\b\b\b\b\b\b\b\b\b\b\b\b\b\b\b\b\b\b\b\b\b\b\b\b\b\b\r10/10 [==============================] - 48s 4s/step - loss: 1.7308 - accuracy: 0.2906 - val_loss: 1.6998 - val_accuracy: 0.4250\n",
            "Epoch 2/10\n",
            "10/10 [==============================] - ETA: 0s - loss: 1.6588 - accuracy: 0.4563"
          ]
        },
        {
          "name": "stderr",
          "output_type": "stream",
          "text": [
            "WARNING:absl:Found untraced functions such as _update_step_xla, lstm_cell_1_layer_call_fn, lstm_cell_1_layer_call_and_return_conditional_losses, lstm_cell_2_layer_call_fn, lstm_cell_2_layer_call_and_return_conditional_losses while saving (showing 5 of 9). These functions will not be directly callable after loading.\n"
          ]
        },
        {
          "name": "stdout",
          "output_type": "stream",
          "text": [
            "\b\b\b\b\b\b\b\b\b\b\b\b\b\b\b\b\b\b\b\b\b\b\b\b\b\b\b\b\b\b\b\b\b\b\b\b\b\b\b\b\b\b\b\b\b\b\b\b\b\b\b\b\b\b\b\b\b\b\b\b\b\b\b\b\b\b\b\b\b\b\b\b\b\b\b\b\b\b\b\b\b\b\r10/10 [==============================] - 36s 4s/step - loss: 1.6588 - accuracy: 0.4563 - val_loss: 1.6360 - val_accuracy: 0.4250\n",
            "Epoch 3/10\n",
            "10/10 [==============================] - ETA: 0s - loss: 1.5796 - accuracy: 0.4563"
          ]
        },
        {
          "name": "stderr",
          "output_type": "stream",
          "text": [
            "WARNING:absl:Found untraced functions such as _update_step_xla, lstm_cell_1_layer_call_fn, lstm_cell_1_layer_call_and_return_conditional_losses, lstm_cell_2_layer_call_fn, lstm_cell_2_layer_call_and_return_conditional_losses while saving (showing 5 of 9). These functions will not be directly callable after loading.\n"
          ]
        },
        {
          "name": "stdout",
          "output_type": "stream",
          "text": [
            "\b\b\b\b\b\b\b\b\b\b\b\b\b\b\b\b\b\b\b\b\b\b\b\b\b\b\b\b\b\b\b\b\b\b\b\b\b\b\b\b\b\b\b\b\b\b\b\b\b\b\b\b\b\b\b\b\b\b\b\b\b\b\b\b\b\b\b\b\b\b\b\b\b\b\b\b\b\b\b\b\b\b\r10/10 [==============================] - 35s 4s/step - loss: 1.5796 - accuracy: 0.4563 - val_loss: 1.5677 - val_accuracy: 0.4250\n",
            "Epoch 4/10\n",
            "10/10 [==============================] - ETA: 0s - loss: 1.4908 - accuracy: 0.4563"
          ]
        },
        {
          "name": "stderr",
          "output_type": "stream",
          "text": [
            "WARNING:absl:Found untraced functions such as _update_step_xla, lstm_cell_1_layer_call_fn, lstm_cell_1_layer_call_and_return_conditional_losses, lstm_cell_2_layer_call_fn, lstm_cell_2_layer_call_and_return_conditional_losses while saving (showing 5 of 9). These functions will not be directly callable after loading.\n"
          ]
        },
        {
          "name": "stdout",
          "output_type": "stream",
          "text": [
            "\b\b\b\b\b\b\b\b\b\b\b\b\b\b\b\b\b\b\b\b\b\b\b\b\b\b\b\b\b\b\b\b\b\b\b\b\b\b\b\b\b\b\b\b\b\b\b\b\b\b\b\b\b\b\b\b\b\b\b\b\b\b\b\b\b\b\b\b\b\b\b\b\b\b\b\b\b\b\b\b\b\b\r10/10 [==============================] - 35s 4s/step - loss: 1.4908 - accuracy: 0.4563 - val_loss: 1.5143 - val_accuracy: 0.4250\n",
            "Epoch 5/10\n",
            "10/10 [==============================] - ETA: 0s - loss: 1.4236 - accuracy: 0.4563"
          ]
        },
        {
          "name": "stderr",
          "output_type": "stream",
          "text": [
            "WARNING:absl:Found untraced functions such as _update_step_xla, lstm_cell_1_layer_call_fn, lstm_cell_1_layer_call_and_return_conditional_losses, lstm_cell_2_layer_call_fn, lstm_cell_2_layer_call_and_return_conditional_losses while saving (showing 5 of 9). These functions will not be directly callable after loading.\n"
          ]
        },
        {
          "name": "stdout",
          "output_type": "stream",
          "text": [
            "\b\b\b\b\b\b\b\b\b\b\b\b\b\b\b\b\b\b\b\b\b\b\b\b\b\b\b\b\b\b\b\b\b\b\b\b\b\b\b\b\b\b\b\b\b\b\b\b\b\b\b\b\b\b\b\b\b\b\b\b\b\b\b\b\b\b\b\b\b\b\b\b\b\b\b\b\b\b\b\b\b\b\r10/10 [==============================] - 38s 4s/step - loss: 1.4236 - accuracy: 0.4563 - val_loss: 1.4994 - val_accuracy: 0.4250\n",
            "Epoch 6/10\n",
            "10/10 [==============================] - ETA: 0s - loss: 1.3920 - accuracy: 0.4563"
          ]
        },
        {
          "name": "stderr",
          "output_type": "stream",
          "text": [
            "WARNING:absl:Found untraced functions such as _update_step_xla, lstm_cell_1_layer_call_fn, lstm_cell_1_layer_call_and_return_conditional_losses, lstm_cell_2_layer_call_fn, lstm_cell_2_layer_call_and_return_conditional_losses while saving (showing 5 of 9). These functions will not be directly callable after loading.\n"
          ]
        },
        {
          "name": "stdout",
          "output_type": "stream",
          "text": [
            "\b\b\b\b\b\b\b\b\b\b\b\b\b\b\b\b\b\b\b\b\b\b\b\b\b\b\b\b\b\b\b\b\b\b\b\b\b\b\b\b\b\b\b\b\b\b\b\b\b\b\b\b\b\b\b\b\b\b\b\b\b\b\b\b\b\b\b\b\b\b\b\b\b\b\b\b\b\b\b\b\b\b\r10/10 [==============================] - 36s 4s/step - loss: 1.3920 - accuracy: 0.4563 - val_loss: 1.5030 - val_accuracy: 0.4250\n",
            "Epoch 7/10\n",
            "10/10 [==============================] - ETA: 0s - loss: 1.3684 - accuracy: 0.4563"
          ]
        },
        {
          "name": "stderr",
          "output_type": "stream",
          "text": [
            "WARNING:absl:Found untraced functions such as _update_step_xla, lstm_cell_1_layer_call_fn, lstm_cell_1_layer_call_and_return_conditional_losses, lstm_cell_2_layer_call_fn, lstm_cell_2_layer_call_and_return_conditional_losses while saving (showing 5 of 9). These functions will not be directly callable after loading.\n"
          ]
        },
        {
          "name": "stdout",
          "output_type": "stream",
          "text": [
            "\b\b\b\b\b\b\b\b\b\b\b\b\b\b\b\b\b\b\b\b\b\b\b\b\b\b\b\b\b\b\b\b\b\b\b\b\b\b\b\b\b\b\b\b\b\b\b\b\b\b\b\b\b\b\b\b\b\b\b\b\b\b\b\b\b\b\b\b\b\b\b\b\b\b\b\b\b\b\b\b\b\b\r10/10 [==============================] - 36s 4s/step - loss: 1.3684 - accuracy: 0.4563 - val_loss: 1.5015 - val_accuracy: 0.4250\n",
            "Epoch 8/10\n",
            "10/10 [==============================] - ETA: 0s - loss: 1.3557 - accuracy: 0.4563"
          ]
        },
        {
          "name": "stderr",
          "output_type": "stream",
          "text": [
            "WARNING:absl:Found untraced functions such as _update_step_xla, lstm_cell_1_layer_call_fn, lstm_cell_1_layer_call_and_return_conditional_losses, lstm_cell_2_layer_call_fn, lstm_cell_2_layer_call_and_return_conditional_losses while saving (showing 5 of 9). These functions will not be directly callable after loading.\n"
          ]
        },
        {
          "name": "stdout",
          "output_type": "stream",
          "text": [
            "\b\b\b\b\b\b\b\b\b\b\b\b\b\b\b\b\b\b\b\b\b\b\b\b\b\b\b\b\b\b\b\b\b\b\b\b\b\b\b\b\b\b\b\b\b\b\b\b\b\b\b\b\b\b\b\b\b\b\b\b\b\b\b\b\b\b\b\b\b\b\b\b\b\b\b\b\b\b\b\b\b\b\r10/10 [==============================] - 35s 4s/step - loss: 1.3557 - accuracy: 0.4563 - val_loss: 1.5034 - val_accuracy: 0.4250\n",
            "Epoch 9/10\n",
            "10/10 [==============================] - ETA: 0s - loss: 1.3433 - accuracy: 0.4563"
          ]
        },
        {
          "name": "stderr",
          "output_type": "stream",
          "text": [
            "WARNING:absl:Found untraced functions such as _update_step_xla, lstm_cell_1_layer_call_fn, lstm_cell_1_layer_call_and_return_conditional_losses, lstm_cell_2_layer_call_fn, lstm_cell_2_layer_call_and_return_conditional_losses while saving (showing 5 of 9). These functions will not be directly callable after loading.\n"
          ]
        },
        {
          "name": "stdout",
          "output_type": "stream",
          "text": [
            "\b\b\b\b\b\b\b\b\b\b\b\b\b\b\b\b\b\b\b\b\b\b\b\b\b\b\b\b\b\b\b\b\b\b\b\b\b\b\b\b\b\b\b\b\b\b\b\b\b\b\b\b\b\b\b\b\b\b\b\b\b\b\b\b\b\b\b\b\b\b\b\b\b\b\b\b\b\b\b\b\b\b\r10/10 [==============================] - 34s 4s/step - loss: 1.3433 - accuracy: 0.4563 - val_loss: 1.5034 - val_accuracy: 0.4250\n",
            "Epoch 10/10\n",
            "10/10 [==============================] - ETA: 0s - loss: 1.3321 - accuracy: 0.4563"
          ]
        },
        {
          "name": "stderr",
          "output_type": "stream",
          "text": [
            "WARNING:absl:Found untraced functions such as _update_step_xla, lstm_cell_1_layer_call_fn, lstm_cell_1_layer_call_and_return_conditional_losses, lstm_cell_2_layer_call_fn, lstm_cell_2_layer_call_and_return_conditional_losses while saving (showing 5 of 9). These functions will not be directly callable after loading.\n"
          ]
        },
        {
          "name": "stdout",
          "output_type": "stream",
          "text": [
            "\b\b\b\b\b\b\b\b\b\b\b\b\b\b\b\b\b\b\b\b\b\b\b\b\b\b\b\b\b\b\b\b\b\b\b\b\b\b\b\b\b\b\b\b\b\b\b\b\b\b\b\b\b\b\b\b\b\b\b\b\b\b\b\b\b\b\b\b\b\b\b\b\b\b\b\b\b\b\b\b\b\b\r10/10 [==============================] - 37s 4s/step - loss: 1.3321 - accuracy: 0.4563 - val_loss: 1.5004 - val_accuracy: 0.4250\n"
          ]
        }
      ],
      "source": [
        "model_bidir = create_BiDirectional((80,1),6)\n",
        "history = model_bidir.fit(x= train_ds_Pro, validation_data= valid_ds_Pro, epochs=10, callbacks=[early_stopping, checkpoint])"
      ]
    },
    {
      "cell_type": "code",
      "execution_count": null,
      "metadata": {
        "colab": {
          "base_uri": "https://localhost:8080/"
        },
        "id": "m6dVZR12hCLY",
        "outputId": "fdb6eb36-c29b-4241-f7fe-ee6ab3445803"
      },
      "outputs": [
        {
          "name": "stdout",
          "output_type": "stream",
          "text": [
            "7/7 [==============================] - 2s 30ms/step - loss: 1.4269 - accuracy: 0.3512\n"
          ]
        },
        {
          "data": {
            "text/plain": [
              "[1.4269272089004517, 0.35121950507164]"
            ]
          },
          "execution_count": 90,
          "metadata": {},
          "output_type": "execute_result"
        }
      ],
      "source": [
        "model_bidir.evaluate(test_ds_Pro)"
      ]
    },
    {
      "cell_type": "code",
      "execution_count": null,
      "metadata": {
        "colab": {
          "base_uri": "https://localhost:8080/"
        },
        "id": "p_DGJThg8PN2",
        "outputId": "961fdebc-a132-4d37-b1d1-ce58bbb3c004"
      },
      "outputs": [
        {
          "name": "stdout",
          "output_type": "stream",
          "text": [
            "Epoch 1/10\n",
            "3/3 [==============================] - ETA: 0s - loss: 1.9600 - accuracy: 0.1429"
          ]
        },
        {
          "name": "stderr",
          "output_type": "stream",
          "text": [
            "WARNING:absl:Found untraced functions such as _update_step_xla, lstm_cell_83_layer_call_fn, lstm_cell_83_layer_call_and_return_conditional_losses, lstm_cell_84_layer_call_fn, lstm_cell_84_layer_call_and_return_conditional_losses while saving (showing 5 of 9). These functions will not be directly callable after loading.\n"
          ]
        },
        {
          "name": "stdout",
          "output_type": "stream",
          "text": [
            "\b\b\b\b\b\b\b\b\b\b\b\b\b\b\b\b\b\b\b\b\b\b\b\b\b\b\b\b\b\b\b\b\b\b\b\b\b\b\b\b\b\b\b\b\b\b\b\b\b\b\b\b\b\b\b\b\b\b\b\b\b\b\b\b\b\b\b\b\b\b\b\b\b\b\b\b\b\b\b\b\r3/3 [==============================] - 43s 16s/step - loss: 1.9600 - accuracy: 0.1429 - val_loss: 1.9419 - val_accuracy: 0.1429\n",
            "Epoch 2/10\n",
            "3/3 [==============================] - ETA: 0s - loss: 1.9466 - accuracy: 0.1429"
          ]
        },
        {
          "name": "stderr",
          "output_type": "stream",
          "text": [
            "WARNING:absl:Found untraced functions such as _update_step_xla, lstm_cell_83_layer_call_fn, lstm_cell_83_layer_call_and_return_conditional_losses, lstm_cell_84_layer_call_fn, lstm_cell_84_layer_call_and_return_conditional_losses while saving (showing 5 of 9). These functions will not be directly callable after loading.\n"
          ]
        },
        {
          "name": "stdout",
          "output_type": "stream",
          "text": [
            "\b\b\b\b\b\b\b\b\b\b\b\b\b\b\b\b\b\b\b\b\b\b\b\b\b\b\b\b\b\b\b\b\b\b\b\b\b\b\b\b\b\b\b\b\b\b\b\b\b\b\b\b\b\b\b\b\b\b\b\b\b\b\b\b\b\b\b\b\b\b\b\b\b\b\b\b\b\b\b\b\r3/3 [==============================] - 33s 16s/step - loss: 1.9466 - accuracy: 0.1429 - val_loss: 1.9333 - val_accuracy: 0.1429\n",
            "Epoch 3/10\n",
            "3/3 [==============================] - ETA: 0s - loss: 1.9384 - accuracy: 0.1429"
          ]
        },
        {
          "name": "stderr",
          "output_type": "stream",
          "text": [
            "WARNING:absl:Found untraced functions such as _update_step_xla, lstm_cell_83_layer_call_fn, lstm_cell_83_layer_call_and_return_conditional_losses, lstm_cell_84_layer_call_fn, lstm_cell_84_layer_call_and_return_conditional_losses while saving (showing 5 of 9). These functions will not be directly callable after loading.\n"
          ]
        },
        {
          "name": "stdout",
          "output_type": "stream",
          "text": [
            "\b\b\b\b\b\b\b\b\b\b\b\b\b\b\b\b\b\b\b\b\b\b\b\b\b\b\b\b\b\b\b\b\b\b\b\b\b\b\b\b\b\b\b\b\b\b\b\b\b\b\b\b\b\b\b\b\b\b\b\b\b\b\b\b\b\b\b\b\b\b\b\b\b\b\b\b\b\b\b\b\r3/3 [==============================] - 32s 16s/step - loss: 1.9384 - accuracy: 0.1429 - val_loss: 1.9255 - val_accuracy: 0.1429\n",
            "Epoch 4/10\n",
            "3/3 [==============================] - ETA: 0s - loss: 1.9300 - accuracy: 0.1429"
          ]
        },
        {
          "name": "stderr",
          "output_type": "stream",
          "text": [
            "WARNING:absl:Found untraced functions such as _update_step_xla, lstm_cell_83_layer_call_fn, lstm_cell_83_layer_call_and_return_conditional_losses, lstm_cell_84_layer_call_fn, lstm_cell_84_layer_call_and_return_conditional_losses while saving (showing 5 of 9). These functions will not be directly callable after loading.\n"
          ]
        },
        {
          "name": "stdout",
          "output_type": "stream",
          "text": [
            "\b\b\b\b\b\b\b\b\b\b\b\b\b\b\b\b\b\b\b\b\b\b\b\b\b\b\b\b\b\b\b\b\b\b\b\b\b\b\b\b\b\b\b\b\b\b\b\b\b\b\b\b\b\b\b\b\b\b\b\b\b\b\b\b\b\b\b\b\b\b\b\b\b\b\b\b\b\b\b\b\r3/3 [==============================] - 31s 15s/step - loss: 1.9300 - accuracy: 0.1429 - val_loss: 1.9186 - val_accuracy: 0.1429\n",
            "Epoch 5/10\n",
            "3/3 [==============================] - ETA: 0s - loss: 1.9249 - accuracy: 0.1429"
          ]
        },
        {
          "name": "stderr",
          "output_type": "stream",
          "text": [
            "WARNING:absl:Found untraced functions such as _update_step_xla, lstm_cell_83_layer_call_fn, lstm_cell_83_layer_call_and_return_conditional_losses, lstm_cell_84_layer_call_fn, lstm_cell_84_layer_call_and_return_conditional_losses while saving (showing 5 of 9). These functions will not be directly callable after loading.\n"
          ]
        },
        {
          "name": "stdout",
          "output_type": "stream",
          "text": [
            "\b\b\b\b\b\b\b\b\b\b\b\b\b\b\b\b\b\b\b\b\b\b\b\b\b\b\b\b\b\b\b\b\b\b\b\b\b\b\b\b\b\b\b\b\b\b\b\b\b\b\b\b\b\b\b\b\b\b\b\b\b\b\b\b\b\b\b\b\b\b\b\b\b\b\b\b\b\b\b\b\r3/3 [==============================] - 31s 15s/step - loss: 1.9249 - accuracy: 0.1429 - val_loss: 1.9119 - val_accuracy: 0.1429\n",
            "Epoch 6/10\n",
            "3/3 [==============================] - ETA: 0s - loss: 1.9188 - accuracy: 0.1429"
          ]
        },
        {
          "name": "stderr",
          "output_type": "stream",
          "text": [
            "WARNING:absl:Found untraced functions such as _update_step_xla, lstm_cell_83_layer_call_fn, lstm_cell_83_layer_call_and_return_conditional_losses, lstm_cell_84_layer_call_fn, lstm_cell_84_layer_call_and_return_conditional_losses while saving (showing 5 of 9). These functions will not be directly callable after loading.\n"
          ]
        },
        {
          "name": "stdout",
          "output_type": "stream",
          "text": [
            "\b\b\b\b\b\b\b\b\b\b\b\b\b\b\b\b\b\b\b\b\b\b\b\b\b\b\b\b\b\b\b\b\b\b\b\b\b\b\b\b\b\b\b\b\b\b\b\b\b\b\b\b\b\b\b\b\b\b\b\b\b\b\b\b\b\b\b\b\b\b\b\b\b\b\b\b\b\b\b\b\r3/3 [==============================] - 33s 16s/step - loss: 1.9188 - accuracy: 0.1429 - val_loss: 1.9054 - val_accuracy: 0.1905\n",
            "Epoch 7/10\n",
            "3/3 [==============================] - ETA: 0s - loss: 1.9138 - accuracy: 0.2143"
          ]
        },
        {
          "name": "stderr",
          "output_type": "stream",
          "text": [
            "WARNING:absl:Found untraced functions such as _update_step_xla, lstm_cell_83_layer_call_fn, lstm_cell_83_layer_call_and_return_conditional_losses, lstm_cell_84_layer_call_fn, lstm_cell_84_layer_call_and_return_conditional_losses while saving (showing 5 of 9). These functions will not be directly callable after loading.\n"
          ]
        },
        {
          "name": "stdout",
          "output_type": "stream",
          "text": [
            "\b\b\b\b\b\b\b\b\b\b\b\b\b\b\b\b\b\b\b\b\b\b\b\b\b\b\b\b\b\b\b\b\b\b\b\b\b\b\b\b\b\b\b\b\b\b\b\b\b\b\b\b\b\b\b\b\b\b\b\b\b\b\b\b\b\b\b\b\b\b\b\b\b\b\b\b\b\b\b\b\r3/3 [==============================] - 31s 15s/step - loss: 1.9138 - accuracy: 0.2143 - val_loss: 1.8996 - val_accuracy: 0.2381\n",
            "Epoch 8/10\n",
            "3/3 [==============================] - ETA: 0s - loss: 1.9080 - accuracy: 0.1905"
          ]
        },
        {
          "name": "stderr",
          "output_type": "stream",
          "text": [
            "WARNING:absl:Found untraced functions such as _update_step_xla, lstm_cell_83_layer_call_fn, lstm_cell_83_layer_call_and_return_conditional_losses, lstm_cell_84_layer_call_fn, lstm_cell_84_layer_call_and_return_conditional_losses while saving (showing 5 of 9). These functions will not be directly callable after loading.\n"
          ]
        },
        {
          "name": "stdout",
          "output_type": "stream",
          "text": [
            "\b\b\b\b\b\b\b\b\b\b\b\b\b\b\b\b\b\b\b\b\b\b\b\b\b\b\b\b\b\b\b\b\b\b\b\b\b\b\b\b\b\b\b\b\b\b\b\b\b\b\b\b\b\b\b\b\b\b\b\b\b\b\b\b\b\b\b\b\b\b\b\b\b\b\b\b\b\b\b\b\r3/3 [==============================] - 32s 16s/step - loss: 1.9080 - accuracy: 0.1905 - val_loss: 1.8939 - val_accuracy: 0.1905\n",
            "Epoch 9/10\n",
            "3/3 [==============================] - ETA: 0s - loss: 1.9028 - accuracy: 0.1905"
          ]
        },
        {
          "name": "stderr",
          "output_type": "stream",
          "text": [
            "WARNING:absl:Found untraced functions such as _update_step_xla, lstm_cell_83_layer_call_fn, lstm_cell_83_layer_call_and_return_conditional_losses, lstm_cell_84_layer_call_fn, lstm_cell_84_layer_call_and_return_conditional_losses while saving (showing 5 of 9). These functions will not be directly callable after loading.\n"
          ]
        },
        {
          "name": "stdout",
          "output_type": "stream",
          "text": [
            "\b\b\b\b\b\b\b\b\b\b\b\b\b\b\b\b\b\b\b\b\b\b\b\b\b\b\b\b\b\b\b\b\b\b\b\b\b\b\b\b\b\b\b\b\b\b\b\b\b\b\b\b\b\b\b\b\b\b\b\b\b\b\b\b\b\b\b\b\b\b\b\b\b\b\b\b\b\b\b\b\r3/3 [==============================] - 32s 16s/step - loss: 1.9028 - accuracy: 0.1905 - val_loss: 1.8887 - val_accuracy: 0.1905\n",
            "Epoch 10/10\n",
            "3/3 [==============================] - ETA: 0s - loss: 1.8968 - accuracy: 0.1905"
          ]
        },
        {
          "name": "stderr",
          "output_type": "stream",
          "text": [
            "WARNING:absl:Found untraced functions such as _update_step_xla, lstm_cell_83_layer_call_fn, lstm_cell_83_layer_call_and_return_conditional_losses, lstm_cell_84_layer_call_fn, lstm_cell_84_layer_call_and_return_conditional_losses while saving (showing 5 of 9). These functions will not be directly callable after loading.\n"
          ]
        },
        {
          "name": "stdout",
          "output_type": "stream",
          "text": [
            "\b\b\b\b\b\b\b\b\b\b\b\b\b\b\b\b\b\b\b\b\b\b\b\b\b\b\b\b\b\b\b\b\b\b\b\b\b\b\b\b\b\b\b\b\b\b\b\b\b\b\b\b\b\b\b\b\b\b\b\b\b\b\b\b\b\b\b\b\b\b\b\b\b\b\b\b\b\b\b\b\r3/3 [==============================] - 32s 16s/step - loss: 1.8968 - accuracy: 0.1905 - val_loss: 1.8831 - val_accuracy: 0.1905\n"
          ]
        }
      ],
      "source": [
        "model_bidir = create_BiDirectional((144,1),7)\n",
        "history = model_bidir.fit(x= train_ds_Plane, validation_data= valid_ds_Plane, epochs=10, callbacks=[early_stopping, checkpoint])"
      ]
    },
    {
      "cell_type": "code",
      "execution_count": null,
      "metadata": {
        "colab": {
          "base_uri": "https://localhost:8080/"
        },
        "id": "XRcw317C8PTh",
        "outputId": "698c961a-9957-479b-fa42-0a4aecedafc3"
      },
      "outputs": [
        {
          "name": "stdout",
          "output_type": "stream",
          "text": [
            "4/4 [==============================] - 2s 39ms/step - loss: 1.9621 - accuracy: 0.0952\n"
          ]
        },
        {
          "data": {
            "text/plain": [
              "[1.9620779752731323, 0.095238097012043]"
            ]
          },
          "execution_count": 162,
          "metadata": {},
          "output_type": "execute_result"
        }
      ],
      "source": [
        "model_bidir.evaluate(test_ds_Plane)"
      ]
    },
    {
      "cell_type": "code",
      "execution_count": null,
      "metadata": {
        "colab": {
          "base_uri": "https://localhost:8080/"
        },
        "id": "-lakSmSW8PZQ",
        "outputId": "4e001599-98e8-4f30-f239-b668fb0a96f6"
      },
      "outputs": [
        {
          "name": "stdout",
          "output_type": "stream",
          "text": [
            "Epoch 1/10\n",
            "3/3 [==============================] - ETA: 0s - loss: 0.6417 - accuracy: 0.6582"
          ]
        },
        {
          "name": "stderr",
          "output_type": "stream",
          "text": [
            "WARNING:absl:Found untraced functions such as _update_step_xla, lstm_cell_7_layer_call_fn, lstm_cell_7_layer_call_and_return_conditional_losses, lstm_cell_8_layer_call_fn, lstm_cell_8_layer_call_and_return_conditional_losses while saving (showing 5 of 9). These functions will not be directly callable after loading.\n"
          ]
        },
        {
          "name": "stdout",
          "output_type": "stream",
          "text": [
            "\b\b\b\b\b\b\b\b\b\b\b\b\b\b\b\b\b\b\b\b\b\b\b\b\b\b\b\b\b\b\b\b\b\b\b\b\b\b\b\b\b\b\b\b\b\b\b\b\b\b\b\b\b\b\b\b\b\b\b\b\b\b\b\b\b\b\b\b\b\b\b\b\b\b\b\b\b\b\b\b\r3/3 [==============================] - 34s 14s/step - loss: 0.6417 - accuracy: 0.6582 - val_loss: 0.6335 - val_accuracy: 0.7143\n",
            "Epoch 2/10\n",
            "3/3 [==============================] - ETA: 0s - loss: 0.6349 - accuracy: 0.6709"
          ]
        },
        {
          "name": "stderr",
          "output_type": "stream",
          "text": [
            "WARNING:absl:Found untraced functions such as _update_step_xla, lstm_cell_7_layer_call_fn, lstm_cell_7_layer_call_and_return_conditional_losses, lstm_cell_8_layer_call_fn, lstm_cell_8_layer_call_and_return_conditional_losses while saving (showing 5 of 9). These functions will not be directly callable after loading.\n"
          ]
        },
        {
          "name": "stdout",
          "output_type": "stream",
          "text": [
            "\b\b\b\b\b\b\b\b\b\b\b\b\b\b\b\b\b\b\b\b\b\b\b\b\b\b\b\b\b\b\b\b\b\b\b\b\b\b\b\b\b\b\b\b\b\b\b\b\b\b\b\b\b\b\b\b\b\b\b\b\b\b\b\b\b\b\b\b\b\b\b\b\b\b\b\b\b\b\b\b\r3/3 [==============================] - 27s 13s/step - loss: 0.6349 - accuracy: 0.6709 - val_loss: 0.6286 - val_accuracy: 0.7143\n",
            "Epoch 3/10\n",
            "3/3 [==============================] - ETA: 0s - loss: 0.6272 - accuracy: 0.6962"
          ]
        },
        {
          "name": "stderr",
          "output_type": "stream",
          "text": [
            "WARNING:absl:Found untraced functions such as _update_step_xla, lstm_cell_7_layer_call_fn, lstm_cell_7_layer_call_and_return_conditional_losses, lstm_cell_8_layer_call_fn, lstm_cell_8_layer_call_and_return_conditional_losses while saving (showing 5 of 9). These functions will not be directly callable after loading.\n"
          ]
        },
        {
          "name": "stdout",
          "output_type": "stream",
          "text": [
            "\b\b\b\b\b\b\b\b\b\b\b\b\b\b\b\b\b\b\b\b\b\b\b\b\b\b\b\b\b\b\b\b\b\b\b\b\b\b\b\b\b\b\b\b\b\b\b\b\b\b\b\b\b\b\b\b\b\b\b\b\b\b\b\b\b\b\b\b\b\b\b\b\b\b\b\b\b\b\b\b\r3/3 [==============================] - 26s 13s/step - loss: 0.6272 - accuracy: 0.6962 - val_loss: 0.6249 - val_accuracy: 0.7143\n",
            "Epoch 4/10\n",
            "3/3 [==============================] - ETA: 0s - loss: 0.6228 - accuracy: 0.6962"
          ]
        },
        {
          "name": "stderr",
          "output_type": "stream",
          "text": [
            "WARNING:absl:Found untraced functions such as _update_step_xla, lstm_cell_7_layer_call_fn, lstm_cell_7_layer_call_and_return_conditional_losses, lstm_cell_8_layer_call_fn, lstm_cell_8_layer_call_and_return_conditional_losses while saving (showing 5 of 9). These functions will not be directly callable after loading.\n"
          ]
        },
        {
          "name": "stdout",
          "output_type": "stream",
          "text": [
            "\b\b\b\b\b\b\b\b\b\b\b\b\b\b\b\b\b\b\b\b\b\b\b\b\b\b\b\b\b\b\b\b\b\b\b\b\b\b\b\b\b\b\b\b\b\b\b\b\b\b\b\b\b\b\b\b\b\b\b\b\b\b\b\b\b\b\b\b\b\b\b\b\b\b\b\b\b\b\b\b\r3/3 [==============================] - 26s 13s/step - loss: 0.6228 - accuracy: 0.6962 - val_loss: 0.6212 - val_accuracy: 0.7143\n",
            "Epoch 5/10\n",
            "3/3 [==============================] - ETA: 0s - loss: 0.6194 - accuracy: 0.6962"
          ]
        },
        {
          "name": "stderr",
          "output_type": "stream",
          "text": [
            "WARNING:absl:Found untraced functions such as _update_step_xla, lstm_cell_7_layer_call_fn, lstm_cell_7_layer_call_and_return_conditional_losses, lstm_cell_8_layer_call_fn, lstm_cell_8_layer_call_and_return_conditional_losses while saving (showing 5 of 9). These functions will not be directly callable after loading.\n"
          ]
        },
        {
          "name": "stdout",
          "output_type": "stream",
          "text": [
            "\b\b\b\b\b\b\b\b\b\b\b\b\b\b\b\b\b\b\b\b\b\b\b\b\b\b\b\b\b\b\b\b\b\b\b\b\b\b\b\b\b\b\b\b\b\b\b\b\b\b\b\b\b\b\b\b\b\b\b\b\b\b\b\b\b\b\b\b\b\b\b\b\b\b\b\b\b\b\b\b\r3/3 [==============================] - 26s 13s/step - loss: 0.6194 - accuracy: 0.6962 - val_loss: 0.6179 - val_accuracy: 0.7143\n",
            "Epoch 6/10\n",
            "3/3 [==============================] - ETA: 0s - loss: 0.6153 - accuracy: 0.6962"
          ]
        },
        {
          "name": "stderr",
          "output_type": "stream",
          "text": [
            "WARNING:absl:Found untraced functions such as _update_step_xla, lstm_cell_7_layer_call_fn, lstm_cell_7_layer_call_and_return_conditional_losses, lstm_cell_8_layer_call_fn, lstm_cell_8_layer_call_and_return_conditional_losses while saving (showing 5 of 9). These functions will not be directly callable after loading.\n"
          ]
        },
        {
          "name": "stdout",
          "output_type": "stream",
          "text": [
            "\b\b\b\b\b\b\b\b\b\b\b\b\b\b\b\b\b\b\b\b\b\b\b\b\b\b\b\b\b\b\b\b\b\b\b\b\b\b\b\b\b\b\b\b\b\b\b\b\b\b\b\b\b\b\b\b\b\b\b\b\b\b\b\b\b\b\b\b\b\b\b\b\b\b\b\b\b\b\b\b\r3/3 [==============================] - 27s 14s/step - loss: 0.6153 - accuracy: 0.6962 - val_loss: 0.6145 - val_accuracy: 0.7143\n",
            "Epoch 7/10\n",
            "3/3 [==============================] - ETA: 0s - loss: 0.6110 - accuracy: 0.6962"
          ]
        },
        {
          "name": "stderr",
          "output_type": "stream",
          "text": [
            "WARNING:absl:Found untraced functions such as _update_step_xla, lstm_cell_7_layer_call_fn, lstm_cell_7_layer_call_and_return_conditional_losses, lstm_cell_8_layer_call_fn, lstm_cell_8_layer_call_and_return_conditional_losses while saving (showing 5 of 9). These functions will not be directly callable after loading.\n"
          ]
        },
        {
          "name": "stdout",
          "output_type": "stream",
          "text": [
            "\b\b\b\b\b\b\b\b\b\b\b\b\b\b\b\b\b\b\b\b\b\b\b\b\b\b\b\b\b\b\b\b\b\b\b\b\b\b\b\b\b\b\b\b\b\b\b\b\b\b\b\b\b\b\b\b\b\b\b\b\b\b\b\b\b\b\b\b\b\b\b\b\b\b\b\b\b\b\b\b\r3/3 [==============================] - 26s 13s/step - loss: 0.6110 - accuracy: 0.6962 - val_loss: 0.6113 - val_accuracy: 0.7143\n",
            "Epoch 8/10\n",
            "3/3 [==============================] - ETA: 0s - loss: 0.6077 - accuracy: 0.6962"
          ]
        },
        {
          "name": "stderr",
          "output_type": "stream",
          "text": [
            "WARNING:absl:Found untraced functions such as _update_step_xla, lstm_cell_7_layer_call_fn, lstm_cell_7_layer_call_and_return_conditional_losses, lstm_cell_8_layer_call_fn, lstm_cell_8_layer_call_and_return_conditional_losses while saving (showing 5 of 9). These functions will not be directly callable after loading.\n"
          ]
        },
        {
          "name": "stdout",
          "output_type": "stream",
          "text": [
            "\b\b\b\b\b\b\b\b\b\b\b\b\b\b\b\b\b\b\b\b\b\b\b\b\b\b\b\b\b\b\b\b\b\b\b\b\b\b\b\b\b\b\b\b\b\b\b\b\b\b\b\b\b\b\b\b\b\b\b\b\b\b\b\b\b\b\b\b\b\b\b\b\b\b\b\b\b\b\b\b\r3/3 [==============================] - 26s 13s/step - loss: 0.6077 - accuracy: 0.6962 - val_loss: 0.6077 - val_accuracy: 0.7143\n",
            "Epoch 9/10\n",
            "3/3 [==============================] - ETA: 0s - loss: 0.6038 - accuracy: 0.6962"
          ]
        },
        {
          "name": "stderr",
          "output_type": "stream",
          "text": [
            "WARNING:absl:Found untraced functions such as _update_step_xla, lstm_cell_7_layer_call_fn, lstm_cell_7_layer_call_and_return_conditional_losses, lstm_cell_8_layer_call_fn, lstm_cell_8_layer_call_and_return_conditional_losses while saving (showing 5 of 9). These functions will not be directly callable after loading.\n"
          ]
        },
        {
          "name": "stdout",
          "output_type": "stream",
          "text": [
            "\b\b\b\b\b\b\b\b\b\b\b\b\b\b\b\b\b\b\b\b\b\b\b\b\b\b\b\b\b\b\b\b\b\b\b\b\b\b\b\b\b\b\b\b\b\b\b\b\b\b\b\b\b\b\b\b\b\b\b\b\b\b\b\b\b\b\b\b\b\b\b\b\b\b\b\b\b\b\b\b\r3/3 [==============================] - 26s 13s/step - loss: 0.6038 - accuracy: 0.6962 - val_loss: 0.6033 - val_accuracy: 0.7143\n",
            "Epoch 10/10\n",
            "3/3 [==============================] - ETA: 0s - loss: 0.5996 - accuracy: 0.6962"
          ]
        },
        {
          "name": "stderr",
          "output_type": "stream",
          "text": [
            "WARNING:absl:Found untraced functions such as _update_step_xla, lstm_cell_7_layer_call_fn, lstm_cell_7_layer_call_and_return_conditional_losses, lstm_cell_8_layer_call_fn, lstm_cell_8_layer_call_and_return_conditional_losses while saving (showing 5 of 9). These functions will not be directly callable after loading.\n"
          ]
        },
        {
          "name": "stdout",
          "output_type": "stream",
          "text": [
            "\b\b\b\b\b\b\b\b\b\b\b\b\b\b\b\b\b\b\b\b\b\b\b\b\b\b\b\b\b\b\b\b\b\b\b\b\b\b\b\b\b\b\b\b\b\b\b\b\b\b\b\b\b\b\b\b\b\b\b\b\b\b\b\b\b\b\b\b\b\b\b\b\b\b\b\b\b\b\b\b\r3/3 [==============================] - 26s 13s/step - loss: 0.5996 - accuracy: 0.6962 - val_loss: 0.5981 - val_accuracy: 0.7143\n"
          ]
        }
      ],
      "source": [
        "model_bidir = create_BiDirectional((96,1),2)\n",
        "history = model_bidir.fit(x= train_ds_ECG, validation_data= valid_ds_ECG, epochs=10, callbacks=[early_stopping, checkpoint])"
      ]
    },
    {
      "cell_type": "code",
      "execution_count": null,
      "metadata": {
        "colab": {
          "base_uri": "https://localhost:8080/"
        },
        "id": "wAFAdNJf8PdO",
        "outputId": "f553360b-b535-4083-92e0-e4645c358610"
      },
      "outputs": [
        {
          "name": "stdout",
          "output_type": "stream",
          "text": [
            "4/4 [==============================] - 2s 21ms/step - loss: 0.6359 - accuracy: 0.6400\n"
          ]
        },
        {
          "data": {
            "text/plain": [
              "[0.6358933448791504, 0.6399999856948853]"
            ]
          },
          "execution_count": 111,
          "metadata": {},
          "output_type": "execute_result"
        }
      ],
      "source": [
        "model_bidir.evaluate(test_ds_ECG)"
      ]
    },
    {
      "cell_type": "code",
      "execution_count": null,
      "metadata": {
        "id": "x7L0Ykh98Phq"
      },
      "outputs": [],
      "source": []
    },
    {
      "cell_type": "code",
      "execution_count": null,
      "metadata": {
        "id": "WbAs51E0Ej4Q"
      },
      "outputs": [],
      "source": [
        "# 1D_CNN\n",
        "def create_1D_CNN(input_shape, num_labels):\n",
        "    model= tf.keras.models.Sequential([\n",
        "        tf.keras.layers.Conv1D(filters=64,kernel_size=3,activation='relu', input_shape=input_shape), \n",
        "        tf.keras.layers.MaxPooling1D(pool_size=2),\n",
        "        tf.keras.layers.Conv1D(filters=64,kernel_size=3,activation='relu'), \n",
        "        tf.keras.layers.MaxPooling1D(pool_size=2),\n",
        "        tf.keras.layers.Flatten(),\n",
        "        tf.keras.layers.Dense(128, activation='relu'),\n",
        "        tf.keras.layers.Dense(num_labels, activation='sigmoid')\n",
        "    ])\n",
        "\n",
        "    model.compile(loss='categorical_crossentropy', optimizer='adam', metrics=['accuracy'])\n",
        "    return model\n"
      ]
    },
    {
      "cell_type": "code",
      "execution_count": null,
      "metadata": {
        "colab": {
          "base_uri": "https://localhost:8080/"
        },
        "id": "C6ArrrN-EG7G",
        "outputId": "65376259-3db6-4a25-8ec7-82d0e8dfefda"
      },
      "outputs": [
        {
          "name": "stdout",
          "output_type": "stream",
          "text": [
            "Epoch 1/10\n",
            " 8/10 [=======================>......] - ETA: 0s - loss: 1.5335 - accuracy: 0.4180"
          ]
        },
        {
          "name": "stderr",
          "output_type": "stream",
          "text": [
            "WARNING:absl:Found untraced functions such as _jit_compiled_convolution_op, _jit_compiled_convolution_op, _update_step_xla while saving (showing 3 of 3). These functions will not be directly callable after loading.\n"
          ]
        },
        {
          "name": "stdout",
          "output_type": "stream",
          "text": [
            "\b\b\b\b\b\b\b\b\b\b\b\b\b\b\b\b\b\b\b\b\b\b\b\b\b\b\b\b\b\b\b\b\b\b\b\b\b\b\b\b\b\b\b\b\b\b\b\b\b\b\b\b\b\b\b\b\b\b\b\b\b\b\b\b\b\b\b\b\b\b\b\b\b\b\b\b\b\b\b\b\b\b\r10/10 [==============================] - 3s 227ms/step - loss: 1.4955 - accuracy: 0.4219 - val_loss: 1.5615 - val_accuracy: 0.4250\n",
            "Epoch 2/10\n",
            " 8/10 [=======================>......] - ETA: 0s - loss: 1.3702 - accuracy: 0.4648"
          ]
        },
        {
          "name": "stderr",
          "output_type": "stream",
          "text": [
            "WARNING:absl:Found untraced functions such as _jit_compiled_convolution_op, _jit_compiled_convolution_op, _update_step_xla while saving (showing 3 of 3). These functions will not be directly callable after loading.\n"
          ]
        },
        {
          "name": "stdout",
          "output_type": "stream",
          "text": [
            "\b\b\b\b\b\b\b\b\b\b\b\b\b\b\b\b\b\b\b\b\b\b\b\b\b\b\b\b\b\b\b\b\b\b\b\b\b\b\b\b\b\b\b\b\b\b\b\b\b\b\b\b\b\b\b\b\b\b\b\b\b\b\b\b\b\b\b\b\b\b\b\b\b\b\b\b\b\b\b\b\b\b\r10/10 [==============================] - 2s 192ms/step - loss: 1.3325 - accuracy: 0.4656 - val_loss: 1.5377 - val_accuracy: 0.4250\n",
            "Epoch 3/10\n",
            " 9/10 [==========================>...] - ETA: 0s - loss: 1.2434 - accuracy: 0.4688"
          ]
        },
        {
          "name": "stderr",
          "output_type": "stream",
          "text": [
            "WARNING:absl:Found untraced functions such as _jit_compiled_convolution_op, _jit_compiled_convolution_op, _update_step_xla while saving (showing 3 of 3). These functions will not be directly callable after loading.\n"
          ]
        },
        {
          "name": "stdout",
          "output_type": "stream",
          "text": [
            "\b\b\b\b\b\b\b\b\b\b\b\b\b\b\b\b\b\b\b\b\b\b\b\b\b\b\b\b\b\b\b\b\b\b\b\b\b\b\b\b\b\b\b\b\b\b\b\b\b\b\b\b\b\b\b\b\b\b\b\b\b\b\b\b\b\b\b\b\b\b\b\b\b\b\b\b\b\b\b\b\b\b\r10/10 [==============================] - 2s 180ms/step - loss: 1.2490 - accuracy: 0.4688 - val_loss: 1.4364 - val_accuracy: 0.6250\n",
            "Epoch 4/10\n",
            " 9/10 [==========================>...] - ETA: 0s - loss: 1.1565 - accuracy: 0.6910"
          ]
        },
        {
          "name": "stderr",
          "output_type": "stream",
          "text": [
            "WARNING:absl:Found untraced functions such as _jit_compiled_convolution_op, _jit_compiled_convolution_op, _update_step_xla while saving (showing 3 of 3). These functions will not be directly callable after loading.\n"
          ]
        },
        {
          "name": "stdout",
          "output_type": "stream",
          "text": [
            "\b\b\b\b\b\b\b\b\b\b\b\b\b\b\b\b\b\b\b\b\b\b\b\b\b\b\b\b\b\b\b\b\b\b\b\b\b\b\b\b\b\b\b\b\b\b\b\b\b\b\b\b\b\b\b\b\b\b\b\b\b\b\b\b\b\b\b\b\b\b\b\b\b\b\b\b\b\b\b\b\b\b\r10/10 [==============================] - 2s 262ms/step - loss: 1.1343 - accuracy: 0.7000 - val_loss: 1.3050 - val_accuracy: 0.6125\n",
            "Epoch 5/10\n",
            "10/10 [==============================] - ETA: 0s - loss: 0.9875 - accuracy: 0.7063"
          ]
        },
        {
          "name": "stderr",
          "output_type": "stream",
          "text": [
            "WARNING:absl:Found untraced functions such as _jit_compiled_convolution_op, _jit_compiled_convolution_op, _update_step_xla while saving (showing 3 of 3). These functions will not be directly callable after loading.\n"
          ]
        },
        {
          "name": "stdout",
          "output_type": "stream",
          "text": [
            "\b\b\b\b\b\b\b\b\b\b\b\b\b\b\b\b\b\b\b\b\b\b\b\b\b\b\b\b\b\b\b\b\b\b\b\b\b\b\b\b\b\b\b\b\b\b\b\b\b\b\b\b\b\b\b\b\b\b\b\b\b\b\b\b\b\b\b\b\b\b\b\b\b\b\b\b\b\b\b\b\b\b\r10/10 [==============================] - 2s 238ms/step - loss: 0.9875 - accuracy: 0.7063 - val_loss: 1.2132 - val_accuracy: 0.6500\n",
            "Epoch 6/10\n",
            " 9/10 [==========================>...] - ETA: 0s - loss: 0.8342 - accuracy: 0.7257"
          ]
        },
        {
          "name": "stderr",
          "output_type": "stream",
          "text": [
            "WARNING:absl:Found untraced functions such as _jit_compiled_convolution_op, _jit_compiled_convolution_op, _update_step_xla while saving (showing 3 of 3). These functions will not be directly callable after loading.\n"
          ]
        },
        {
          "name": "stdout",
          "output_type": "stream",
          "text": [
            "\b\b\b\b\b\b\b\b\b\b\b\b\b\b\b\b\b\b\b\b\b\b\b\b\b\b\b\b\b\b\b\b\b\b\b\b\b\b\b\b\b\b\b\b\b\b\b\b\b\b\b\b\b\b\b\b\b\b\b\b\b\b\b\b\b\b\b\b\b\b\b\b\b\b\b\b\b\b\b\b\b\b\r10/10 [==============================] - 2s 172ms/step - loss: 0.8387 - accuracy: 0.7188 - val_loss: 1.0736 - val_accuracy: 0.6750\n",
            "Epoch 7/10\n",
            " 9/10 [==========================>...] - ETA: 0s - loss: 0.7428 - accuracy: 0.7535"
          ]
        },
        {
          "name": "stderr",
          "output_type": "stream",
          "text": [
            "WARNING:absl:Found untraced functions such as _jit_compiled_convolution_op, _jit_compiled_convolution_op, _update_step_xla while saving (showing 3 of 3). These functions will not be directly callable after loading.\n"
          ]
        },
        {
          "name": "stdout",
          "output_type": "stream",
          "text": [
            "\b\b\b\b\b\b\b\b\b\b\b\b\b\b\b\b\b\b\b\b\b\b\b\b\b\b\b\b\b\b\b\b\b\b\b\b\b\b\b\b\b\b\b\b\b\b\b\b\b\b\b\b\b\b\b\b\b\b\b\b\b\b\b\b\b\b\b\b\b\b\b\b\b\b\b\b\b\b\b\b\b\b\r10/10 [==============================] - 2s 188ms/step - loss: 0.7503 - accuracy: 0.7469 - val_loss: 1.0609 - val_accuracy: 0.6750\n",
            "Epoch 8/10\n",
            " 9/10 [==========================>...] - ETA: 0s - loss: 0.7361 - accuracy: 0.7639"
          ]
        },
        {
          "name": "stderr",
          "output_type": "stream",
          "text": [
            "WARNING:absl:Found untraced functions such as _jit_compiled_convolution_op, _jit_compiled_convolution_op, _update_step_xla while saving (showing 3 of 3). These functions will not be directly callable after loading.\n"
          ]
        },
        {
          "name": "stdout",
          "output_type": "stream",
          "text": [
            "\b\b\b\b\b\b\b\b\b\b\b\b\b\b\b\b\b\b\b\b\b\b\b\b\b\b\b\b\b\b\b\b\b\b\b\b\b\b\b\b\b\b\b\b\b\b\b\b\b\b\b\b\b\b\b\b\b\b\b\b\b\b\b\b\b\b\b\b\b\b\b\b\b\b\b\b\b\b\b\b\b\b\r10/10 [==============================] - 4s 483ms/step - loss: 0.6989 - accuracy: 0.7719 - val_loss: 1.0485 - val_accuracy: 0.6750\n",
            "Epoch 9/10\n",
            " 9/10 [==========================>...] - ETA: 0s - loss: 0.6557 - accuracy: 0.7708"
          ]
        },
        {
          "name": "stderr",
          "output_type": "stream",
          "text": [
            "WARNING:absl:Found untraced functions such as _jit_compiled_convolution_op, _jit_compiled_convolution_op, _update_step_xla while saving (showing 3 of 3). These functions will not be directly callable after loading.\n"
          ]
        },
        {
          "name": "stdout",
          "output_type": "stream",
          "text": [
            "\b\b\b\b\b\b\b\b\b\b\b\b\b\b\b\b\b\b\b\b\b\b\b\b\b\b\b\b\b\b\b\b\b\b\b\b\b\b\b\b\b\b\b\b\b\b\b\b\b\b\b\b\b\b\b\b\b\b\b\b\b\b\b\b\b\b\b\b\b\b\b\b\b\b\b\b\b\b\b\b\b\b\r10/10 [==============================] - 2s 251ms/step - loss: 0.6751 - accuracy: 0.7656 - val_loss: 1.0452 - val_accuracy: 0.6625\n",
            "Epoch 10/10\n",
            " 9/10 [==========================>...] - ETA: 0s - loss: 0.6377 - accuracy: 0.7743"
          ]
        },
        {
          "name": "stderr",
          "output_type": "stream",
          "text": [
            "WARNING:absl:Found untraced functions such as _jit_compiled_convolution_op, _jit_compiled_convolution_op, _update_step_xla while saving (showing 3 of 3). These functions will not be directly callable after loading.\n"
          ]
        },
        {
          "name": "stdout",
          "output_type": "stream",
          "text": [
            "\b\b\b\b\b\b\b\b\b\b\b\b\b\b\b\b\b\b\b\b\b\b\b\b\b\b\b\b\b\b\b\b\b\b\b\b\b\b\b\b\b\b\b\b\b\b\b\b\b\b\b\b\b\b\b\b\b\b\b\b\b\b\b\b\b\b\b\b\b\b\b\b\b\b\b\b\b\b\b\b\b\b\r10/10 [==============================] - 3s 338ms/step - loss: 0.6524 - accuracy: 0.7688 - val_loss: 1.0150 - val_accuracy: 0.6875\n"
          ]
        }
      ],
      "source": [
        "#input_shape = (80, 1)\n",
        "model_CNN = create_1D_CNN((80, 1),6)\n",
        "history = model_CNN.fit(x= train_ds_Pro, validation_data= valid_ds_Pro, epochs=10, callbacks=[early_stopping, checkpoint])"
      ]
    },
    {
      "cell_type": "code",
      "execution_count": null,
      "metadata": {
        "colab": {
          "base_uri": "https://localhost:8080/"
        },
        "id": "1fzmZMb1KM_e",
        "outputId": "44382567-fd35-4a4b-e274-57a0877ddb86"
      },
      "outputs": [
        {
          "name": "stdout",
          "output_type": "stream",
          "text": [
            "7/7 [==============================] - 0s 7ms/step - loss: 0.8173 - accuracy: 0.7171\n"
          ]
        },
        {
          "data": {
            "text/plain": [
              "[0.8173232674598694, 0.7170731425285339]"
            ]
          },
          "execution_count": 93,
          "metadata": {},
          "output_type": "execute_result"
        }
      ],
      "source": [
        "model_CNN.evaluate(test_ds_Pro)"
      ]
    },
    {
      "cell_type": "code",
      "execution_count": null,
      "metadata": {
        "colab": {
          "base_uri": "https://localhost:8080/"
        },
        "id": "3ajgQ2Eb9_J4",
        "outputId": "519ec3b7-6bc8-4f0b-f502-c1c2f16a89a6"
      },
      "outputs": [
        {
          "name": "stdout",
          "output_type": "stream",
          "text": [
            "Epoch 1/10\n",
            "3/3 [==============================] - ETA: 0s - loss: 1.8987 - accuracy: 0.2381"
          ]
        },
        {
          "name": "stderr",
          "output_type": "stream",
          "text": [
            "WARNING:absl:Found untraced functions such as _jit_compiled_convolution_op, _jit_compiled_convolution_op, _update_step_xla while saving (showing 3 of 3). These functions will not be directly callable after loading.\n"
          ]
        },
        {
          "name": "stdout",
          "output_type": "stream",
          "text": [
            "\b\b\b\b\b\b\b\b\b\b\b\b\b\b\b\b\b\b\b\b\b\b\b\b\b\b\b\b\b\b\b\b\b\b\b\b\b\b\b\b\b\b\b\b\b\b\b\b\b\b\b\b\b\b\b\b\b\b\b\b\b\b\b\b\b\b\b\b\b\b\b\b\b\b\b\b\b\b\b\b\r3/3 [==============================] - 3s 774ms/step - loss: 1.8987 - accuracy: 0.2381 - val_loss: 1.7063 - val_accuracy: 0.2857\n",
            "Epoch 2/10\n",
            "1/3 [=========>....................] - ETA: 0s - loss: 1.6579 - accuracy: 0.3750"
          ]
        },
        {
          "name": "stderr",
          "output_type": "stream",
          "text": [
            "WARNING:absl:Found untraced functions such as _jit_compiled_convolution_op, _jit_compiled_convolution_op, _update_step_xla while saving (showing 3 of 3). These functions will not be directly callable after loading.\n"
          ]
        },
        {
          "name": "stdout",
          "output_type": "stream",
          "text": [
            "\b\b\b\b\b\b\b\b\b\b\b\b\b\b\b\b\b\b\b\b\b\b\b\b\b\b\b\b\b\b\b\b\b\b\b\b\b\b\b\b\b\b\b\b\b\b\b\b\b\b\b\b\b\b\b\b\b\b\b\b\b\b\b\b\b\b\b\b\b\b\b\b\b\b\b\b\b\b\b\b\r3/3 [==============================] - 2s 889ms/step - loss: 1.5484 - accuracy: 0.5357 - val_loss: 1.3663 - val_accuracy: 0.4762\n",
            "Epoch 3/10\n",
            "3/3 [==============================] - ETA: 0s - loss: 1.1945 - accuracy: 0.6429"
          ]
        },
        {
          "name": "stderr",
          "output_type": "stream",
          "text": [
            "WARNING:absl:Found untraced functions such as _jit_compiled_convolution_op, _jit_compiled_convolution_op, _update_step_xla while saving (showing 3 of 3). These functions will not be directly callable after loading.\n"
          ]
        },
        {
          "name": "stdout",
          "output_type": "stream",
          "text": [
            "\b\b\b\b\b\b\b\b\b\b\b\b\b\b\b\b\b\b\b\b\b\b\b\b\b\b\b\b\b\b\b\b\b\b\b\b\b\b\b\b\b\b\b\b\b\b\b\b\b\b\b\b\b\b\b\b\b\b\b\b\b\b\b\b\b\b\b\b\b\b\b\b\b\b\b\b\b\b\b\b\r3/3 [==============================] - 2s 991ms/step - loss: 1.1945 - accuracy: 0.6429 - val_loss: 0.9150 - val_accuracy: 0.6190\n",
            "Epoch 4/10\n",
            "1/3 [=========>....................] - ETA: 0s - loss: 1.0364 - accuracy: 0.5938"
          ]
        },
        {
          "name": "stderr",
          "output_type": "stream",
          "text": [
            "WARNING:absl:Found untraced functions such as _jit_compiled_convolution_op, _jit_compiled_convolution_op, _update_step_xla while saving (showing 3 of 3). These functions will not be directly callable after loading.\n"
          ]
        },
        {
          "name": "stdout",
          "output_type": "stream",
          "text": [
            "\b\b\b\b\b\b\b\b\b\b\b\b\b\b\b\b\b\b\b\b\b\b\b\b\b\b\b\b\b\b\b\b\b\b\b\b\b\b\b\b\b\b\b\b\b\b\b\b\b\b\b\b\b\b\b\b\b\b\b\b\b\b\b\b\b\b\b\b\b\b\b\b\b\b\b\b\b\b\b\b\r3/3 [==============================] - 1s 703ms/step - loss: 0.8214 - accuracy: 0.7262 - val_loss: 0.5587 - val_accuracy: 1.0000\n",
            "Epoch 5/10\n",
            "1/3 [=========>....................] - ETA: 0s - loss: 0.5861 - accuracy: 0.9375"
          ]
        },
        {
          "name": "stderr",
          "output_type": "stream",
          "text": [
            "WARNING:absl:Found untraced functions such as _jit_compiled_convolution_op, _jit_compiled_convolution_op, _update_step_xla while saving (showing 3 of 3). These functions will not be directly callable after loading.\n"
          ]
        },
        {
          "name": "stdout",
          "output_type": "stream",
          "text": [
            "\b\b\b\b\b\b\b\b\b\b\b\b\b\b\b\b\b\b\b\b\b\b\b\b\b\b\b\b\b\b\b\b\b\b\b\b\b\b\b\b\b\b\b\b\b\b\b\b\b\b\b\b\b\b\b\b\b\b\b\b\b\b\b\b\b\b\b\b\b\b\b\b\b\b\b\b\b\b\b\b\r3/3 [==============================] - 1s 721ms/step - loss: 0.5002 - accuracy: 0.9286 - val_loss: 0.3312 - val_accuracy: 1.0000\n",
            "Epoch 6/10\n",
            "1/3 [=========>....................] - ETA: 0s - loss: 0.3209 - accuracy: 0.9688"
          ]
        },
        {
          "name": "stderr",
          "output_type": "stream",
          "text": [
            "WARNING:absl:Found untraced functions such as _jit_compiled_convolution_op, _jit_compiled_convolution_op, _update_step_xla while saving (showing 3 of 3). These functions will not be directly callable after loading.\n"
          ]
        },
        {
          "name": "stdout",
          "output_type": "stream",
          "text": [
            "\b\b\b\b\b\b\b\b\b\b\b\b\b\b\b\b\b\b\b\b\b\b\b\b\b\b\b\b\b\b\b\b\b\b\b\b\b\b\b\b\b\b\b\b\b\b\b\b\b\b\b\b\b\b\b\b\b\b\b\b\b\b\b\b\b\b\b\b\b\b\b\b\b\b\b\b\b\b\b\b\r3/3 [==============================] - 2s 1s/step - loss: 0.3040 - accuracy: 0.9524 - val_loss: 0.2095 - val_accuracy: 1.0000\n",
            "Epoch 7/10\n",
            "1/3 [=========>....................] - ETA: 0s - loss: 0.2625 - accuracy: 0.9062"
          ]
        },
        {
          "name": "stderr",
          "output_type": "stream",
          "text": [
            "WARNING:absl:Found untraced functions such as _jit_compiled_convolution_op, _jit_compiled_convolution_op, _update_step_xla while saving (showing 3 of 3). These functions will not be directly callable after loading.\n"
          ]
        },
        {
          "name": "stdout",
          "output_type": "stream",
          "text": [
            "\b\b\b\b\b\b\b\b\b\b\b\b\b\b\b\b\b\b\b\b\b\b\b\b\b\b\b\b\b\b\b\b\b\b\b\b\b\b\b\b\b\b\b\b\b\b\b\b\b\b\b\b\b\b\b\b\b\b\b\b\b\b\b\b\b\b\b\b\b\b\b\b\b\b\b\b\b\b\b\b\r3/3 [==============================] - 1s 709ms/step - loss: 0.2046 - accuracy: 0.9405 - val_loss: 0.1336 - val_accuracy: 1.0000\n",
            "Epoch 8/10\n",
            "1/3 [=========>....................] - ETA: 0s - loss: 0.1148 - accuracy: 1.0000"
          ]
        },
        {
          "name": "stderr",
          "output_type": "stream",
          "text": [
            "WARNING:absl:Found untraced functions such as _jit_compiled_convolution_op, _jit_compiled_convolution_op, _update_step_xla while saving (showing 3 of 3). These functions will not be directly callable after loading.\n"
          ]
        },
        {
          "name": "stdout",
          "output_type": "stream",
          "text": [
            "\b\b\b\b\b\b\b\b\b\b\b\b\b\b\b\b\b\b\b\b\b\b\b\b\b\b\b\b\b\b\b\b\b\b\b\b\b\b\b\b\b\b\b\b\b\b\b\b\b\b\b\b\b\b\b\b\b\b\b\b\b\b\b\b\b\b\b\b\b\b\b\b\b\b\b\b\b\b\b\b\r3/3 [==============================] - 2s 743ms/step - loss: 0.1200 - accuracy: 0.9762 - val_loss: 0.0662 - val_accuracy: 1.0000\n",
            "Epoch 9/10\n",
            "3/3 [==============================] - ETA: 0s - loss: 0.0879 - accuracy: 0.9762"
          ]
        },
        {
          "name": "stderr",
          "output_type": "stream",
          "text": [
            "WARNING:absl:Found untraced functions such as _jit_compiled_convolution_op, _jit_compiled_convolution_op, _update_step_xla while saving (showing 3 of 3). These functions will not be directly callable after loading.\n"
          ]
        },
        {
          "name": "stdout",
          "output_type": "stream",
          "text": [
            "\b\b\b\b\b\b\b\b\b\b\b\b\b\b\b\b\b\b\b\b\b\b\b\b\b\b\b\b\b\b\b\b\b\b\b\b\b\b\b\b\b\b\b\b\b\b\b\b\b\b\b\b\b\b\b\b\b\b\b\b\b\b\b\b\b\b\b\b\b\b\b\b\b\b\b\b\b\b\b\b\r3/3 [==============================] - 2s 1s/step - loss: 0.0879 - accuracy: 0.9762 - val_loss: 0.0499 - val_accuracy: 1.0000\n",
            "Epoch 10/10\n",
            "3/3 [==============================] - ETA: 0s - loss: 0.0774 - accuracy: 0.9643"
          ]
        },
        {
          "name": "stderr",
          "output_type": "stream",
          "text": [
            "WARNING:absl:Found untraced functions such as _jit_compiled_convolution_op, _jit_compiled_convolution_op, _update_step_xla while saving (showing 3 of 3). These functions will not be directly callable after loading.\n"
          ]
        },
        {
          "name": "stdout",
          "output_type": "stream",
          "text": [
            "\b\b\b\b\b\b\b\b\b\b\b\b\b\b\b\b\b\b\b\b\b\b\b\b\b\b\b\b\b\b\b\b\b\b\b\b\b\b\b\b\b\b\b\b\b\b\b\b\b\b\b\b\b\b\b\b\b\b\b\b\b\b\b\b\b\b\b\b\b\b\b\b\b\b\b\b\b\b\b\b\r3/3 [==============================] - 2s 897ms/step - loss: 0.0774 - accuracy: 0.9643 - val_loss: 0.0520 - val_accuracy: 1.0000\n"
          ]
        }
      ],
      "source": [
        "model_CNN = create_1D_CNN((144, 1),7)\n",
        "history = model_CNN.fit(x= train_ds_Plane, validation_data= valid_ds_Plane, epochs=10, callbacks=[early_stopping, checkpoint])"
      ]
    },
    {
      "cell_type": "code",
      "execution_count": null,
      "metadata": {
        "colab": {
          "base_uri": "https://localhost:8080/"
        },
        "id": "TEdMHxqJ9_SU",
        "outputId": "ae42cb81-e7f8-483a-bff1-c62dd734e882"
      },
      "outputs": [
        {
          "name": "stdout",
          "output_type": "stream",
          "text": [
            "4/4 [==============================] - 0s 9ms/step - loss: 0.1180 - accuracy: 0.9524\n"
          ]
        },
        {
          "data": {
            "text/plain": [
              "[0.11802361160516739, 0.9523809552192688]"
            ]
          },
          "execution_count": 95,
          "metadata": {},
          "output_type": "execute_result"
        }
      ],
      "source": [
        "model_CNN.evaluate(test_ds_Plane)"
      ]
    },
    {
      "cell_type": "code",
      "execution_count": null,
      "metadata": {
        "colab": {
          "base_uri": "https://localhost:8080/"
        },
        "id": "JziDDHZJ9_WB",
        "outputId": "319cc2e5-e4f0-45ca-b111-c5bbd59d0b43"
      },
      "outputs": [
        {
          "name": "stdout",
          "output_type": "stream",
          "text": [
            "Epoch 1/10\n",
            "3/3 [==============================] - ETA: 0s - loss: 0.6528 - accuracy: 0.5190"
          ]
        },
        {
          "name": "stderr",
          "output_type": "stream",
          "text": [
            "WARNING:absl:Found untraced functions such as _jit_compiled_convolution_op, _jit_compiled_convolution_op, _update_step_xla while saving (showing 3 of 3). These functions will not be directly callable after loading.\n"
          ]
        },
        {
          "name": "stdout",
          "output_type": "stream",
          "text": [
            "\b\b\b\b\b\b\b\b\b\b\b\b\b\b\b\b\b\b\b\b\b\b\b\b\b\b\b\b\b\b\b\b\b\b\b\b\b\b\b\b\b\b\b\b\b\b\b\b\b\b\b\b\b\b\b\b\b\b\b\b\b\b\b\b\b\b\b\b\b\b\b\b\b\b\b\b\b\b\b\b\r3/3 [==============================] - 4s 1s/step - loss: 0.6528 - accuracy: 0.5190 - val_loss: 0.5370 - val_accuracy: 0.6667\n",
            "Epoch 2/10\n",
            "3/3 [==============================] - ETA: 0s - loss: 0.5338 - accuracy: 0.6962"
          ]
        },
        {
          "name": "stderr",
          "output_type": "stream",
          "text": [
            "WARNING:absl:Found untraced functions such as _jit_compiled_convolution_op, _jit_compiled_convolution_op, _update_step_xla while saving (showing 3 of 3). These functions will not be directly callable after loading.\n"
          ]
        },
        {
          "name": "stdout",
          "output_type": "stream",
          "text": [
            "\b\b\b\b\b\b\b\b\b\b\b\b\b\b\b\b\b\b\b\b\b\b\b\b\b\b\b\b\b\b\b\b\b\b\b\b\b\b\b\b\b\b\b\b\b\b\b\b\b\b\b\b\b\b\b\b\b\b\b\b\b\b\b\b\b\b\b\b\b\b\b\b\b\b\b\b\b\b\b\b\r3/3 [==============================] - 2s 782ms/step - loss: 0.5338 - accuracy: 0.6962 - val_loss: 0.4633 - val_accuracy: 0.7619\n",
            "Epoch 3/10\n",
            "1/3 [=========>....................] - ETA: 0s - loss: 0.4315 - accuracy: 0.7188"
          ]
        },
        {
          "name": "stderr",
          "output_type": "stream",
          "text": [
            "WARNING:absl:Found untraced functions such as _jit_compiled_convolution_op, _jit_compiled_convolution_op, _update_step_xla while saving (showing 3 of 3). These functions will not be directly callable after loading.\n"
          ]
        },
        {
          "name": "stdout",
          "output_type": "stream",
          "text": [
            "\b\b\b\b\b\b\b\b\b\b\b\b\b\b\b\b\b\b\b\b\b\b\b\b\b\b\b\b\b\b\b\b\b\b\b\b\b\b\b\b\b\b\b\b\b\b\b\b\b\b\b\b\b\b\b\b\b\b\b\b\b\b\b\b\b\b\b\b\b\b\b\b\b\b\b\b\b\b\b\b\r3/3 [==============================] - 1s 673ms/step - loss: 0.4483 - accuracy: 0.7468 - val_loss: 0.4171 - val_accuracy: 0.7619\n",
            "Epoch 4/10\n",
            "1/3 [=========>....................] - ETA: 0s - loss: 0.4494 - accuracy: 0.7812"
          ]
        },
        {
          "name": "stderr",
          "output_type": "stream",
          "text": [
            "WARNING:absl:Found untraced functions such as _jit_compiled_convolution_op, _jit_compiled_convolution_op, _update_step_xla while saving (showing 3 of 3). These functions will not be directly callable after loading.\n"
          ]
        },
        {
          "name": "stdout",
          "output_type": "stream",
          "text": [
            "\b\b\b\b\b\b\b\b\b\b\b\b\b\b\b\b\b\b\b\b\b\b\b\b\b\b\b\b\b\b\b\b\b\b\b\b\b\b\b\b\b\b\b\b\b\b\b\b\b\b\b\b\b\b\b\b\b\b\b\b\b\b\b\b\b\b\b\b\b\b\b\b\b\b\b\b\b\b\b\b\r3/3 [==============================] - 3s 1s/step - loss: 0.4605 - accuracy: 0.7848 - val_loss: 0.3659 - val_accuracy: 0.8095\n",
            "Epoch 5/10\n",
            "1/3 [=========>....................] - ETA: 0s - loss: 0.4043 - accuracy: 0.8438"
          ]
        },
        {
          "name": "stderr",
          "output_type": "stream",
          "text": [
            "WARNING:absl:Found untraced functions such as _jit_compiled_convolution_op, _jit_compiled_convolution_op, _update_step_xla while saving (showing 3 of 3). These functions will not be directly callable after loading.\n"
          ]
        },
        {
          "name": "stdout",
          "output_type": "stream",
          "text": [
            "\b\b\b\b\b\b\b\b\b\b\b\b\b\b\b\b\b\b\b\b\b\b\b\b\b\b\b\b\b\b\b\b\b\b\b\b\b\b\b\b\b\b\b\b\b\b\b\b\b\b\b\b\b\b\b\b\b\b\b\b\b\b\b\b\b\b\b\b\b\b\b\b\b\b\b\b\b\b\b\b\r3/3 [==============================] - 2s 820ms/step - loss: 0.4039 - accuracy: 0.7975 - val_loss: 0.3507 - val_accuracy: 0.8095\n",
            "Epoch 6/10\n",
            "1/3 [=========>....................] - ETA: 0s - loss: 0.4558 - accuracy: 0.7188"
          ]
        },
        {
          "name": "stderr",
          "output_type": "stream",
          "text": [
            "WARNING:absl:Found untraced functions such as _jit_compiled_convolution_op, _jit_compiled_convolution_op, _update_step_xla while saving (showing 3 of 3). These functions will not be directly callable after loading.\n"
          ]
        },
        {
          "name": "stdout",
          "output_type": "stream",
          "text": [
            "\b\b\b\b\b\b\b\b\b\b\b\b\b\b\b\b\b\b\b\b\b\b\b\b\b\b\b\b\b\b\b\b\b\b\b\b\b\b\b\b\b\b\b\b\b\b\b\b\b\b\b\b\b\b\b\b\b\b\b\b\b\b\b\b\b\b\b\b\b\b\b\b\b\b\b\b\b\b\b\b\r3/3 [==============================] - 2s 781ms/step - loss: 0.3830 - accuracy: 0.7848 - val_loss: 0.3349 - val_accuracy: 0.8095\n",
            "Epoch 7/10\n",
            "1/3 [=========>....................] - ETA: 0s - loss: 0.4643 - accuracy: 0.7188"
          ]
        },
        {
          "name": "stderr",
          "output_type": "stream",
          "text": [
            "WARNING:absl:Found untraced functions such as _jit_compiled_convolution_op, _jit_compiled_convolution_op, _update_step_xla while saving (showing 3 of 3). These functions will not be directly callable after loading.\n"
          ]
        },
        {
          "name": "stdout",
          "output_type": "stream",
          "text": [
            "\b\b\b\b\b\b\b\b\b\b\b\b\b\b\b\b\b\b\b\b\b\b\b\b\b\b\b\b\b\b\b\b\b\b\b\b\b\b\b\b\b\b\b\b\b\b\b\b\b\b\b\b\b\b\b\b\b\b\b\b\b\b\b\b\b\b\b\b\b\b\b\b\b\b\b\b\b\b\b\b\r3/3 [==============================] - 2s 985ms/step - loss: 0.3730 - accuracy: 0.7848 - val_loss: 0.2909 - val_accuracy: 0.8571\n",
            "Epoch 8/10\n",
            "3/3 [==============================] - ETA: 0s - loss: 0.3342 - accuracy: 0.8354"
          ]
        },
        {
          "name": "stderr",
          "output_type": "stream",
          "text": [
            "WARNING:absl:Found untraced functions such as _jit_compiled_convolution_op, _jit_compiled_convolution_op, _update_step_xla while saving (showing 3 of 3). These functions will not be directly callable after loading.\n"
          ]
        },
        {
          "name": "stdout",
          "output_type": "stream",
          "text": [
            "\b\b\b\b\b\b\b\b\b\b\b\b\b\b\b\b\b\b\b\b\b\b\b\b\b\b\b\b\b\b\b\b\b\b\b\b\b\b\b\b\b\b\b\b\b\b\b\b\b\b\b\b\b\b\b\b\b\b\b\b\b\b\b\b\b\b\b\b\b\b\b\b\b\b\b\b\b\b\b\b\r3/3 [==============================] - 2s 1s/step - loss: 0.3342 - accuracy: 0.8354 - val_loss: 0.2724 - val_accuracy: 0.8095\n",
            "Epoch 9/10\n",
            "1/3 [=========>....................] - ETA: 0s - loss: 0.2997 - accuracy: 0.9062"
          ]
        },
        {
          "name": "stderr",
          "output_type": "stream",
          "text": [
            "WARNING:absl:Found untraced functions such as _jit_compiled_convolution_op, _jit_compiled_convolution_op, _update_step_xla while saving (showing 3 of 3). These functions will not be directly callable after loading.\n"
          ]
        },
        {
          "name": "stdout",
          "output_type": "stream",
          "text": [
            "\b\b\b\b\b\b\b\b\b\b\b\b\b\b\b\b\b\b\b\b\b\b\b\b\b\b\b\b\b\b\b\b\b\b\b\b\b\b\b\b\b\b\b\b\b\b\b\b\b\b\b\b\b\b\b\b\b\b\b\b\b\b\b\b\b\b\b\b\b\b\b\b\b\b\b\b\b\b\b\b\r3/3 [==============================] - 1s 739ms/step - loss: 0.3162 - accuracy: 0.8608 - val_loss: 0.2661 - val_accuracy: 0.9048\n",
            "Epoch 10/10\n",
            "1/3 [=========>....................] - ETA: 0s - loss: 0.2972 - accuracy: 0.8750"
          ]
        },
        {
          "name": "stderr",
          "output_type": "stream",
          "text": [
            "WARNING:absl:Found untraced functions such as _jit_compiled_convolution_op, _jit_compiled_convolution_op, _update_step_xla while saving (showing 3 of 3). These functions will not be directly callable after loading.\n"
          ]
        },
        {
          "name": "stdout",
          "output_type": "stream",
          "text": [
            "\b\b\b\b\b\b\b\b\b\b\b\b\b\b\b\b\b\b\b\b\b\b\b\b\b\b\b\b\b\b\b\b\b\b\b\b\b\b\b\b\b\b\b\b\b\b\b\b\b\b\b\b\b\b\b\b\b\b\b\b\b\b\b\b\b\b\b\b\b\b\b\b\b\b\b\b\b\b\b\b\r3/3 [==============================] - 3s 1s/step - loss: 0.3033 - accuracy: 0.8608 - val_loss: 0.2519 - val_accuracy: 0.9048\n"
          ]
        }
      ],
      "source": [
        "model_CNN = create_1D_CNN((96, 1),2)\n",
        "history = model_CNN.fit(x= train_ds_ECG, validation_data= valid_ds_ECG, epochs=10, callbacks=[early_stopping, checkpoint])"
      ]
    },
    {
      "cell_type": "code",
      "execution_count": null,
      "metadata": {
        "colab": {
          "base_uri": "https://localhost:8080/"
        },
        "id": "ojuB9BvW9_Zu",
        "outputId": "ab5431b9-d83f-4c19-fd7f-c4510357802e"
      },
      "outputs": [
        {
          "name": "stdout",
          "output_type": "stream",
          "text": [
            "4/4 [==============================] - 0s 10ms/step - loss: 0.3951 - accuracy: 0.8200\n"
          ]
        },
        {
          "data": {
            "text/plain": [
              "[0.3951289653778076, 0.8199999928474426]"
            ]
          },
          "execution_count": 97,
          "metadata": {},
          "output_type": "execute_result"
        }
      ],
      "source": [
        "model_CNN.evaluate(test_ds_ECG)"
      ]
    },
    {
      "cell_type": "code",
      "execution_count": null,
      "metadata": {
        "id": "QRShmALJnfNC"
      },
      "outputs": [],
      "source": [
        "# 1D_CNN + Simple RNN\n",
        "\n",
        "def create_1D_CNN_SimpleRNN(input_shape, num_labels):\n",
        "  model = tf.keras.models.Sequential([\n",
        "      tf.keras.layers.Conv1D(filters=64, kernel_size=3, activation='relu', input_shape=input_shape),\n",
        "      tf.keras.layers.MaxPooling1D(pool_size=2),\n",
        "      tf.keras.layers.Conv1D(filters=64, kernel_size=3, activation='relu'),\n",
        "      tf.keras.layers.MaxPooling1D(pool_size=2),\n",
        "      tf.keras.layers.TimeDistributed(tf.keras.layers.Flatten()), # Flatten output of the second MaxPooling1D for each time step\n",
        "      tf.keras.layers.SimpleRNN(64), # Add Simple RNN \n",
        "      tf.keras.layers.Dense(128, activation='relu'),\n",
        "      tf.keras.layers.Dense(num_labels, activation='sigmoid')\n",
        "  ])\n",
        "  model.compile(loss='categorical_crossentropy', optimizer='adam', metrics=['accuracy'])\n",
        "  return model\n",
        "\n"
      ]
    },
    {
      "cell_type": "code",
      "execution_count": null,
      "metadata": {
        "colab": {
          "base_uri": "https://localhost:8080/"
        },
        "id": "fyAEt-vKnfwi",
        "outputId": "6e159746-56ae-4419-fe17-66cb48112653"
      },
      "outputs": [
        {
          "name": "stdout",
          "output_type": "stream",
          "text": [
            "Epoch 1/10\n",
            " 9/10 [==========================>...] - ETA: 0s - loss: 1.5817 - accuracy: 0.3715"
          ]
        },
        {
          "name": "stderr",
          "output_type": "stream",
          "text": [
            "WARNING:absl:Found untraced functions such as _jit_compiled_convolution_op, _jit_compiled_convolution_op, _update_step_xla while saving (showing 3 of 3). These functions will not be directly callable after loading.\n"
          ]
        },
        {
          "name": "stdout",
          "output_type": "stream",
          "text": [
            "\b\b\b\b\b\b\b\b\b\b\b\b\b\b\b\b\b\b\b\b\b\b\b\b\b\b\b\b\b\b\b\b\b\b\b\b\b\b\b\b\b\b\b\b\b\b\b\b\b\b\b\b\b\b\b\b\b\b\b\b\b\b\b\b\b\b\b\b\b\b\b\b\b\b\b\b\b\b\b\b\b\b\r10/10 [==============================] - 8s 624ms/step - loss: 1.5424 - accuracy: 0.3938 - val_loss: 1.5240 - val_accuracy: 0.4250\n",
            "Epoch 2/10\n",
            "10/10 [==============================] - ETA: 0s - loss: 1.3507 - accuracy: 0.4563"
          ]
        },
        {
          "name": "stderr",
          "output_type": "stream",
          "text": [
            "WARNING:absl:Found untraced functions such as _jit_compiled_convolution_op, _jit_compiled_convolution_op, _update_step_xla while saving (showing 3 of 3). These functions will not be directly callable after loading.\n"
          ]
        },
        {
          "name": "stdout",
          "output_type": "stream",
          "text": [
            "\b\b\b\b\b\b\b\b\b\b\b\b\b\b\b\b\b\b\b\b\b\b\b\b\b\b\b\b\b\b\b\b\b\b\b\b\b\b\b\b\b\b\b\b\b\b\b\b\b\b\b\b\b\b\b\b\b\b\b\b\b\b\b\b\b\b\b\b\b\b\b\b\b\b\b\b\b\b\b\b\b\b\r10/10 [==============================] - 4s 400ms/step - loss: 1.3507 - accuracy: 0.4563 - val_loss: 1.5592 - val_accuracy: 0.4250\n",
            "Epoch 3/10\n",
            " 9/10 [==========================>...] - ETA: 0s - loss: 1.3143 - accuracy: 0.5417"
          ]
        },
        {
          "name": "stderr",
          "output_type": "stream",
          "text": [
            "WARNING:absl:Found untraced functions such as _jit_compiled_convolution_op, _jit_compiled_convolution_op, _update_step_xla while saving (showing 3 of 3). These functions will not be directly callable after loading.\n"
          ]
        },
        {
          "name": "stdout",
          "output_type": "stream",
          "text": [
            "\b\b\b\b\b\b\b\b\b\b\b\b\b\b\b\b\b\b\b\b\b\b\b\b\b\b\b\b\b\b\b\b\b\b\b\b\b\b\b\b\b\b\b\b\b\b\b\b\b\b\b\b\b\b\b\b\b\b\b\b\b\b\b\b\b\b\b\b\b\b\b\b\b\b\b\b\b\b\b\b\b\b\r10/10 [==============================] - 4s 398ms/step - loss: 1.3151 - accuracy: 0.5312 - val_loss: 1.5252 - val_accuracy: 0.4250\n",
            "Epoch 4/10\n",
            " 9/10 [==========================>...] - ETA: 0s - loss: 1.2322 - accuracy: 0.5312"
          ]
        },
        {
          "name": "stderr",
          "output_type": "stream",
          "text": [
            "WARNING:absl:Found untraced functions such as _jit_compiled_convolution_op, _jit_compiled_convolution_op, _update_step_xla while saving (showing 3 of 3). These functions will not be directly callable after loading.\n"
          ]
        },
        {
          "name": "stdout",
          "output_type": "stream",
          "text": [
            "\b\b\b\b\b\b\b\b\b\b\b\b\b\b\b\b\b\b\b\b\b\b\b\b\b\b\b\b\b\b\b\b\b\b\b\b\b\b\b\b\b\b\b\b\b\b\b\b\b\b\b\b\b\b\b\b\b\b\b\b\b\b\b\b\b\b\b\b\b\b\b\b\b\b\b\b\b\b\b\b\b\b\r10/10 [==============================] - 5s 509ms/step - loss: 1.2277 - accuracy: 0.5469 - val_loss: 1.3568 - val_accuracy: 0.6375\n",
            "Epoch 5/10\n",
            "10/10 [==============================] - ETA: 0s - loss: 1.0341 - accuracy: 0.7094"
          ]
        },
        {
          "name": "stderr",
          "output_type": "stream",
          "text": [
            "WARNING:absl:Found untraced functions such as _jit_compiled_convolution_op, _jit_compiled_convolution_op, _update_step_xla while saving (showing 3 of 3). These functions will not be directly callable after loading.\n"
          ]
        },
        {
          "name": "stdout",
          "output_type": "stream",
          "text": [
            "\b\b\b\b\b\b\b\b\b\b\b\b\b\b\b\b\b\b\b\b\b\b\b\b\b\b\b\b\b\b\b\b\b\b\b\b\b\b\b\b\b\b\b\b\b\b\b\b\b\b\b\b\b\b\b\b\b\b\b\b\b\b\b\b\b\b\b\b\b\b\b\b\b\b\b\b\b\b\b\b\b\b\r10/10 [==============================] - 4s 452ms/step - loss: 1.0341 - accuracy: 0.7094 - val_loss: 1.1987 - val_accuracy: 0.6750\n",
            "Epoch 6/10\n",
            " 9/10 [==========================>...] - ETA: 0s - loss: 0.8460 - accuracy: 0.7396"
          ]
        },
        {
          "name": "stderr",
          "output_type": "stream",
          "text": [
            "WARNING:absl:Found untraced functions such as _jit_compiled_convolution_op, _jit_compiled_convolution_op, _update_step_xla while saving (showing 3 of 3). These functions will not be directly callable after loading.\n"
          ]
        },
        {
          "name": "stdout",
          "output_type": "stream",
          "text": [
            "\b\b\b\b\b\b\b\b\b\b\b\b\b\b\b\b\b\b\b\b\b\b\b\b\b\b\b\b\b\b\b\b\b\b\b\b\b\b\b\b\b\b\b\b\b\b\b\b\b\b\b\b\b\b\b\b\b\b\b\b\b\b\b\b\b\b\b\b\b\b\b\b\b\b\b\b\b\b\b\b\b\b\r10/10 [==============================] - 4s 436ms/step - loss: 0.8362 - accuracy: 0.7344 - val_loss: 1.0580 - val_accuracy: 0.6750\n",
            "Epoch 7/10\n",
            "10/10 [==============================] - ETA: 0s - loss: 0.7443 - accuracy: 0.7312"
          ]
        },
        {
          "name": "stderr",
          "output_type": "stream",
          "text": [
            "WARNING:absl:Found untraced functions such as _jit_compiled_convolution_op, _jit_compiled_convolution_op, _update_step_xla while saving (showing 3 of 3). These functions will not be directly callable after loading.\n"
          ]
        },
        {
          "name": "stdout",
          "output_type": "stream",
          "text": [
            "\b\b\b\b\b\b\b\b\b\b\b\b\b\b\b\b\b\b\b\b\b\b\b\b\b\b\b\b\b\b\b\b\b\b\b\b\b\b\b\b\b\b\b\b\b\b\b\b\b\b\b\b\b\b\b\b\b\b\b\b\b\b\b\b\b\b\b\b\b\b\b\b\b\b\b\b\b\b\b\b\b\b\r10/10 [==============================] - 3s 362ms/step - loss: 0.7443 - accuracy: 0.7312 - val_loss: 1.0288 - val_accuracy: 0.6750\n",
            "Epoch 8/10\n",
            "10/10 [==============================] - ETA: 0s - loss: 0.6945 - accuracy: 0.7344"
          ]
        },
        {
          "name": "stderr",
          "output_type": "stream",
          "text": [
            "WARNING:absl:Found untraced functions such as _jit_compiled_convolution_op, _jit_compiled_convolution_op, _update_step_xla while saving (showing 3 of 3). These functions will not be directly callable after loading.\n"
          ]
        },
        {
          "name": "stdout",
          "output_type": "stream",
          "text": [
            "\b\b\b\b\b\b\b\b\b\b\b\b\b\b\b\b\b\b\b\b\b\b\b\b\b\b\b\b\b\b\b\b\b\b\b\b\b\b\b\b\b\b\b\b\b\b\b\b\b\b\b\b\b\b\b\b\b\b\b\b\b\b\b\b\b\b\b\b\b\b\b\b\b\b\b\b\b\b\b\b\b\b\r10/10 [==============================] - 5s 533ms/step - loss: 0.6945 - accuracy: 0.7344 - val_loss: 1.0116 - val_accuracy: 0.6750\n",
            "Epoch 9/10\n",
            " 9/10 [==========================>...] - ETA: 0s - loss: 0.6726 - accuracy: 0.7500"
          ]
        },
        {
          "name": "stderr",
          "output_type": "stream",
          "text": [
            "WARNING:absl:Found untraced functions such as _jit_compiled_convolution_op, _jit_compiled_convolution_op, _update_step_xla while saving (showing 3 of 3). These functions will not be directly callable after loading.\n"
          ]
        },
        {
          "name": "stdout",
          "output_type": "stream",
          "text": [
            "\b\b\b\b\b\b\b\b\b\b\b\b\b\b\b\b\b\b\b\b\b\b\b\b\b\b\b\b\b\b\b\b\b\b\b\b\b\b\b\b\b\b\b\b\b\b\b\b\b\b\b\b\b\b\b\b\b\b\b\b\b\b\b\b\b\b\b\b\b\b\b\b\b\b\b\b\b\b\b\b\b\b\r10/10 [==============================] - 4s 466ms/step - loss: 0.6767 - accuracy: 0.7469 - val_loss: 0.9547 - val_accuracy: 0.6750\n",
            "Epoch 10/10\n",
            "10/10 [==============================] - ETA: 0s - loss: 0.6328 - accuracy: 0.7656"
          ]
        },
        {
          "name": "stderr",
          "output_type": "stream",
          "text": [
            "WARNING:absl:Found untraced functions such as _jit_compiled_convolution_op, _jit_compiled_convolution_op, _update_step_xla while saving (showing 3 of 3). These functions will not be directly callable after loading.\n"
          ]
        },
        {
          "name": "stdout",
          "output_type": "stream",
          "text": [
            "\b\b\b\b\b\b\b\b\b\b\b\b\b\b\b\b\b\b\b\b\b\b\b\b\b\b\b\b\b\b\b\b\b\b\b\b\b\b\b\b\b\b\b\b\b\b\b\b\b\b\b\b\b\b\b\b\b\b\b\b\b\b\b\b\b\b\b\b\b\b\b\b\b\b\b\b\b\b\b\b\b\b\r10/10 [==============================] - 3s 383ms/step - loss: 0.6328 - accuracy: 0.7656 - val_loss: 0.9505 - val_accuracy: 0.7000\n"
          ]
        }
      ],
      "source": [
        "model_CNN1D_SimpleRNN = create_1D_CNN_SimpleRNN((80,1),6)\n",
        "history = model_CNN1D_SimpleRNN.fit(x= train_ds_Pro, validation_data= valid_ds_Pro, epochs=10, callbacks=[early_stopping, checkpoint])"
      ]
    },
    {
      "cell_type": "code",
      "execution_count": null,
      "metadata": {
        "colab": {
          "base_uri": "https://localhost:8080/"
        },
        "id": "eCAodPfongMb",
        "outputId": "5ac40f2d-0e44-4dd8-92e4-edc3533027d9"
      },
      "outputs": [
        {
          "name": "stdout",
          "output_type": "stream",
          "text": [
            "7/7 [==============================] - 0s 8ms/step - loss: 0.7980 - accuracy: 0.8000\n"
          ]
        },
        {
          "data": {
            "text/plain": [
              "[0.7979767322540283, 0.800000011920929]"
            ]
          },
          "execution_count": 100,
          "metadata": {},
          "output_type": "execute_result"
        }
      ],
      "source": [
        "model_CNN1D_SimpleRNN.evaluate(test_ds_Pro)"
      ]
    },
    {
      "cell_type": "code",
      "execution_count": null,
      "metadata": {
        "colab": {
          "base_uri": "https://localhost:8080/"
        },
        "id": "NLPXaV5s-weI",
        "outputId": "17a0520b-02f6-4fdf-ae56-eb6a752a9991"
      },
      "outputs": [
        {
          "name": "stdout",
          "output_type": "stream",
          "text": [
            "Epoch 1/10\n",
            "3/3 [==============================] - ETA: 0s - loss: 1.8789 - accuracy: 0.2976"
          ]
        },
        {
          "name": "stderr",
          "output_type": "stream",
          "text": [
            "WARNING:absl:Found untraced functions such as _jit_compiled_convolution_op, _jit_compiled_convolution_op, _update_step_xla while saving (showing 3 of 3). These functions will not be directly callable after loading.\n"
          ]
        },
        {
          "name": "stdout",
          "output_type": "stream",
          "text": [
            "\b\b\b\b\b\b\b\b\b\b\b\b\b\b\b\b\b\b\b\b\b\b\b\b\b\b\b\b\b\b\b\b\b\b\b\b\b\b\b\b\b\b\b\b\b\b\b\b\b\b\b\b\b\b\b\b\b\b\b\b\b\b\b\b\b\b\b\b\b\b\b\b\b\b\b\b\b\b\b\b\r3/3 [==============================] - 7s 2s/step - loss: 1.8789 - accuracy: 0.2976 - val_loss: 1.7341 - val_accuracy: 0.2857\n",
            "Epoch 2/10\n",
            "2/3 [===================>..........] - ETA: 0s - loss: 1.6823 - accuracy: 0.4062"
          ]
        },
        {
          "name": "stderr",
          "output_type": "stream",
          "text": [
            "WARNING:absl:Found untraced functions such as _jit_compiled_convolution_op, _jit_compiled_convolution_op, _update_step_xla while saving (showing 3 of 3). These functions will not be directly callable after loading.\n"
          ]
        },
        {
          "name": "stdout",
          "output_type": "stream",
          "text": [
            "\b\b\b\b\b\b\b\b\b\b\b\b\b\b\b\b\b\b\b\b\b\b\b\b\b\b\b\b\b\b\b\b\b\b\b\b\b\b\b\b\b\b\b\b\b\b\b\b\b\b\b\b\b\b\b\b\b\b\b\b\b\b\b\b\b\b\b\b\b\b\b\b\b\b\b\b\b\b\b\b\r3/3 [==============================] - 5s 2s/step - loss: 1.6701 - accuracy: 0.4167 - val_loss: 1.5931 - val_accuracy: 0.6667\n",
            "Epoch 3/10\n",
            "3/3 [==============================] - ETA: 0s - loss: 1.5242 - accuracy: 0.5119"
          ]
        },
        {
          "name": "stderr",
          "output_type": "stream",
          "text": [
            "WARNING:absl:Found untraced functions such as _jit_compiled_convolution_op, _jit_compiled_convolution_op, _update_step_xla while saving (showing 3 of 3). These functions will not be directly callable after loading.\n"
          ]
        },
        {
          "name": "stdout",
          "output_type": "stream",
          "text": [
            "\b\b\b\b\b\b\b\b\b\b\b\b\b\b\b\b\b\b\b\b\b\b\b\b\b\b\b\b\b\b\b\b\b\b\b\b\b\b\b\b\b\b\b\b\b\b\b\b\b\b\b\b\b\b\b\b\b\b\b\b\b\b\b\b\b\b\b\b\b\b\b\b\b\b\b\b\b\b\b\b\r3/3 [==============================] - 7s 4s/step - loss: 1.5242 - accuracy: 0.5119 - val_loss: 1.4616 - val_accuracy: 0.4286\n",
            "Epoch 4/10\n",
            "3/3 [==============================] - ETA: 0s - loss: 1.3656 - accuracy: 0.5476"
          ]
        },
        {
          "name": "stderr",
          "output_type": "stream",
          "text": [
            "WARNING:absl:Found untraced functions such as _jit_compiled_convolution_op, _jit_compiled_convolution_op, _update_step_xla while saving (showing 3 of 3). These functions will not be directly callable after loading.\n"
          ]
        },
        {
          "name": "stdout",
          "output_type": "stream",
          "text": [
            "\b\b\b\b\b\b\b\b\b\b\b\b\b\b\b\b\b\b\b\b\b\b\b\b\b\b\b\b\b\b\b\b\b\b\b\b\b\b\b\b\b\b\b\b\b\b\b\b\b\b\b\b\b\b\b\b\b\b\b\b\b\b\b\b\b\b\b\b\b\b\b\b\b\b\b\b\b\b\b\b\r3/3 [==============================] - 9s 4s/step - loss: 1.3656 - accuracy: 0.5476 - val_loss: 1.3197 - val_accuracy: 0.6190\n",
            "Epoch 5/10\n",
            "3/3 [==============================] - ETA: 0s - loss: 1.2051 - accuracy: 0.7024"
          ]
        },
        {
          "name": "stderr",
          "output_type": "stream",
          "text": [
            "WARNING:absl:Found untraced functions such as _jit_compiled_convolution_op, _jit_compiled_convolution_op, _update_step_xla while saving (showing 3 of 3). These functions will not be directly callable after loading.\n"
          ]
        },
        {
          "name": "stdout",
          "output_type": "stream",
          "text": [
            "\b\b\b\b\b\b\b\b\b\b\b\b\b\b\b\b\b\b\b\b\b\b\b\b\b\b\b\b\b\b\b\b\b\b\b\b\b\b\b\b\b\b\b\b\b\b\b\b\b\b\b\b\b\b\b\b\b\b\b\b\b\b\b\b\b\b\b\b\b\b\b\b\b\b\b\b\b\b\b\b\r3/3 [==============================] - 9s 5s/step - loss: 1.2051 - accuracy: 0.7024 - val_loss: 1.1395 - val_accuracy: 1.0000\n",
            "Epoch 6/10\n",
            "3/3 [==============================] - ETA: 0s - loss: 1.0353 - accuracy: 0.9048"
          ]
        },
        {
          "name": "stderr",
          "output_type": "stream",
          "text": [
            "WARNING:absl:Found untraced functions such as _jit_compiled_convolution_op, _jit_compiled_convolution_op, _update_step_xla while saving (showing 3 of 3). These functions will not be directly callable after loading.\n"
          ]
        },
        {
          "name": "stdout",
          "output_type": "stream",
          "text": [
            "\b\b\b\b\b\b\b\b\b\b\b\b\b\b\b\b\b\b\b\b\b\b\b\b\b\b\b\b\b\b\b\b\b\b\b\b\b\b\b\b\b\b\b\b\b\b\b\b\b\b\b\b\b\b\b\b\b\b\b\b\b\b\b\b\b\b\b\b\b\b\b\b\b\b\b\b\b\b\b\b\r3/3 [==============================] - 3s 2s/step - loss: 1.0353 - accuracy: 0.9048 - val_loss: 0.9665 - val_accuracy: 0.9524\n",
            "Epoch 7/10\n",
            "3/3 [==============================] - ETA: 0s - loss: 0.8855 - accuracy: 0.8929"
          ]
        },
        {
          "name": "stderr",
          "output_type": "stream",
          "text": [
            "WARNING:absl:Found untraced functions such as _jit_compiled_convolution_op, _jit_compiled_convolution_op, _update_step_xla while saving (showing 3 of 3). These functions will not be directly callable after loading.\n"
          ]
        },
        {
          "name": "stdout",
          "output_type": "stream",
          "text": [
            "\b\b\b\b\b\b\b\b\b\b\b\b\b\b\b\b\b\b\b\b\b\b\b\b\b\b\b\b\b\b\b\b\b\b\b\b\b\b\b\b\b\b\b\b\b\b\b\b\b\b\b\b\b\b\b\b\b\b\b\b\b\b\b\b\b\b\b\b\b\b\b\b\b\b\b\b\b\b\b\b\r3/3 [==============================] - 3s 2s/step - loss: 0.8855 - accuracy: 0.8929 - val_loss: 0.8192 - val_accuracy: 1.0000\n",
            "Epoch 8/10\n",
            "3/3 [==============================] - ETA: 0s - loss: 0.7453 - accuracy: 0.8929"
          ]
        },
        {
          "name": "stderr",
          "output_type": "stream",
          "text": [
            "WARNING:absl:Found untraced functions such as _jit_compiled_convolution_op, _jit_compiled_convolution_op, _update_step_xla while saving (showing 3 of 3). These functions will not be directly callable after loading.\n"
          ]
        },
        {
          "name": "stdout",
          "output_type": "stream",
          "text": [
            "\b\b\b\b\b\b\b\b\b\b\b\b\b\b\b\b\b\b\b\b\b\b\b\b\b\b\b\b\b\b\b\b\b\b\b\b\b\b\b\b\b\b\b\b\b\b\b\b\b\b\b\b\b\b\b\b\b\b\b\b\b\b\b\b\b\b\b\b\b\b\b\b\b\b\b\b\b\b\b\b\r3/3 [==============================] - 4s 2s/step - loss: 0.7453 - accuracy: 0.8929 - val_loss: 0.6738 - val_accuracy: 0.9524\n",
            "Epoch 9/10\n",
            "3/3 [==============================] - ETA: 0s - loss: 0.6301 - accuracy: 0.9167"
          ]
        },
        {
          "name": "stderr",
          "output_type": "stream",
          "text": [
            "WARNING:absl:Found untraced functions such as _jit_compiled_convolution_op, _jit_compiled_convolution_op, _update_step_xla while saving (showing 3 of 3). These functions will not be directly callable after loading.\n"
          ]
        },
        {
          "name": "stdout",
          "output_type": "stream",
          "text": [
            "\b\b\b\b\b\b\b\b\b\b\b\b\b\b\b\b\b\b\b\b\b\b\b\b\b\b\b\b\b\b\b\b\b\b\b\b\b\b\b\b\b\b\b\b\b\b\b\b\b\b\b\b\b\b\b\b\b\b\b\b\b\b\b\b\b\b\b\b\b\b\b\b\b\b\b\b\b\b\b\b\r3/3 [==============================] - 3s 2s/step - loss: 0.6301 - accuracy: 0.9167 - val_loss: 0.5392 - val_accuracy: 1.0000\n",
            "Epoch 10/10\n",
            "3/3 [==============================] - ETA: 0s - loss: 0.5297 - accuracy: 0.9048"
          ]
        },
        {
          "name": "stderr",
          "output_type": "stream",
          "text": [
            "WARNING:absl:Found untraced functions such as _jit_compiled_convolution_op, _jit_compiled_convolution_op, _update_step_xla while saving (showing 3 of 3). These functions will not be directly callable after loading.\n"
          ]
        },
        {
          "name": "stdout",
          "output_type": "stream",
          "text": [
            "\b\b\b\b\b\b\b\b\b\b\b\b\b\b\b\b\b\b\b\b\b\b\b\b\b\b\b\b\b\b\b\b\b\b\b\b\b\b\b\b\b\b\b\b\b\b\b\b\b\b\b\b\b\b\b\b\b\b\b\b\b\b\b\b\b\b\b\b\b\b\b\b\b\b\b\b\b\b\b\b\r3/3 [==============================] - 5s 2s/step - loss: 0.5297 - accuracy: 0.9048 - val_loss: 0.4324 - val_accuracy: 1.0000\n"
          ]
        },
        {
          "data": {
            "text/plain": [
              "<keras.callbacks.History at 0x7f04583115e0>"
            ]
          },
          "execution_count": 101,
          "metadata": {},
          "output_type": "execute_result"
        }
      ],
      "source": [
        "model_CNN1D_SimpleRNN = create_1D_CNN_SimpleRNN((144,1),7)\n",
        "model_CNN1D_SimpleRNN.fit(x= train_ds_Plane, validation_data =valid_ds_Plane, epochs=10, batch_size=32, callbacks=[early_stopping, checkpoint])"
      ]
    },
    {
      "cell_type": "code",
      "execution_count": null,
      "metadata": {
        "colab": {
          "base_uri": "https://localhost:8080/"
        },
        "id": "gqoPrtQg-wjX",
        "outputId": "2af2d787-157f-4ee9-eecc-853c24255fc7"
      },
      "outputs": [
        {
          "name": "stdout",
          "output_type": "stream",
          "text": [
            "4/4 [==============================] - 1s 11ms/step - loss: 0.5498 - accuracy: 0.9429\n"
          ]
        },
        {
          "data": {
            "text/plain": [
              "[0.5498329401016235, 0.9428571462631226]"
            ]
          },
          "execution_count": 102,
          "metadata": {},
          "output_type": "execute_result"
        }
      ],
      "source": [
        "model_CNN1D_SimpleRNN.evaluate(test_ds_Plane)"
      ]
    },
    {
      "cell_type": "code",
      "execution_count": null,
      "metadata": {
        "colab": {
          "base_uri": "https://localhost:8080/"
        },
        "id": "hTeWhSto-5xI",
        "outputId": "67c8607f-1939-43b3-a5cd-69c01669a831"
      },
      "outputs": [
        {
          "name": "stdout",
          "output_type": "stream",
          "text": [
            "Epoch 1/10\n",
            "1/3 [=========>....................] - ETA: 4s - loss: 0.6949 - accuracy: 0.3125"
          ]
        },
        {
          "name": "stderr",
          "output_type": "stream",
          "text": [
            "WARNING:absl:Found untraced functions such as _jit_compiled_convolution_op, _jit_compiled_convolution_op, _update_step_xla while saving (showing 3 of 3). These functions will not be directly callable after loading.\n"
          ]
        },
        {
          "name": "stdout",
          "output_type": "stream",
          "text": [
            "\b\b\b\b\b\b\b\b\b\b\b\b\b\b\b\b\b\b\b\b\b\b\b\b\b\b\b\b\b\b\b\b\b\b\b\b\b\b\b\b\b\b\b\b\b\b\b\b\b\b\b\b\b\b\b\b\b\b\b\b\b\b\b\b\b\b\b\b\b\b\b\b\b\b\b\b\b\b\b\b\r3/3 [==============================] - 7s 2s/step - loss: 0.6429 - accuracy: 0.5316 - val_loss: 0.5126 - val_accuracy: 0.7619\n",
            "Epoch 2/10\n",
            "3/3 [==============================] - ETA: 0s - loss: 0.5076 - accuracy: 0.7595"
          ]
        },
        {
          "name": "stderr",
          "output_type": "stream",
          "text": [
            "WARNING:absl:Found untraced functions such as _jit_compiled_convolution_op, _jit_compiled_convolution_op, _update_step_xla while saving (showing 3 of 3). These functions will not be directly callable after loading.\n"
          ]
        },
        {
          "name": "stdout",
          "output_type": "stream",
          "text": [
            "\b\b\b\b\b\b\b\b\b\b\b\b\b\b\b\b\b\b\b\b\b\b\b\b\b\b\b\b\b\b\b\b\b\b\b\b\b\b\b\b\b\b\b\b\b\b\b\b\b\b\b\b\b\b\b\b\b\b\b\b\b\b\b\b\b\b\b\b\b\b\b\b\b\b\b\b\b\b\b\b\r3/3 [==============================] - 3s 2s/step - loss: 0.5076 - accuracy: 0.7595 - val_loss: 0.4495 - val_accuracy: 0.8095\n",
            "Epoch 3/10\n",
            "1/3 [=========>....................] - ETA: 0s - loss: 0.5274 - accuracy: 0.7188"
          ]
        },
        {
          "name": "stderr",
          "output_type": "stream",
          "text": [
            "WARNING:absl:Found untraced functions such as _jit_compiled_convolution_op, _jit_compiled_convolution_op, _update_step_xla while saving (showing 3 of 3). These functions will not be directly callable after loading.\n"
          ]
        },
        {
          "name": "stdout",
          "output_type": "stream",
          "text": [
            "\b\b\b\b\b\b\b\b\b\b\b\b\b\b\b\b\b\b\b\b\b\b\b\b\b\b\b\b\b\b\b\b\b\b\b\b\b\b\b\b\b\b\b\b\b\b\b\b\b\b\b\b\b\b\b\b\b\b\b\b\b\b\b\b\b\b\b\b\b\b\b\b\b\b\b\b\b\b\b\b\r3/3 [==============================] - 4s 2s/step - loss: 0.4431 - accuracy: 0.7848 - val_loss: 0.3709 - val_accuracy: 0.7619\n",
            "Epoch 4/10\n",
            "1/3 [=========>....................] - ETA: 0s - loss: 0.3388 - accuracy: 0.7812"
          ]
        },
        {
          "name": "stderr",
          "output_type": "stream",
          "text": [
            "WARNING:absl:Found untraced functions such as _jit_compiled_convolution_op, _jit_compiled_convolution_op, _update_step_xla while saving (showing 3 of 3). These functions will not be directly callable after loading.\n"
          ]
        },
        {
          "name": "stdout",
          "output_type": "stream",
          "text": [
            "\b\b\b\b\b\b\b\b\b\b\b\b\b\b\b\b\b\b\b\b\b\b\b\b\b\b\b\b\b\b\b\b\b\b\b\b\b\b\b\b\b\b\b\b\b\b\b\b\b\b\b\b\b\b\b\b\b\b\b\b\b\b\b\b\b\b\b\b\b\b\b\b\b\b\b\b\b\b\b\b\r3/3 [==============================] - 4s 2s/step - loss: 0.4176 - accuracy: 0.7595 - val_loss: 0.3287 - val_accuracy: 0.8095\n",
            "Epoch 5/10\n",
            "1/3 [=========>....................] - ETA: 0s - loss: 0.4179 - accuracy: 0.7812"
          ]
        },
        {
          "name": "stderr",
          "output_type": "stream",
          "text": [
            "WARNING:absl:Found untraced functions such as _jit_compiled_convolution_op, _jit_compiled_convolution_op, _update_step_xla while saving (showing 3 of 3). These functions will not be directly callable after loading.\n"
          ]
        },
        {
          "name": "stdout",
          "output_type": "stream",
          "text": [
            "\b\b\b\b\b\b\b\b\b\b\b\b\b\b\b\b\b\b\b\b\b\b\b\b\b\b\b\b\b\b\b\b\b\b\b\b\b\b\b\b\b\b\b\b\b\b\b\b\b\b\b\b\b\b\b\b\b\b\b\b\b\b\b\b\b\b\b\b\b\b\b\b\b\b\b\b\b\b\b\b\r3/3 [==============================] - 3s 2s/step - loss: 0.3822 - accuracy: 0.8101 - val_loss: 0.3444 - val_accuracy: 0.8571\n",
            "Epoch 6/10\n",
            "1/3 [=========>....................] - ETA: 0s - loss: 0.3570 - accuracy: 0.9062"
          ]
        },
        {
          "name": "stderr",
          "output_type": "stream",
          "text": [
            "WARNING:absl:Found untraced functions such as _jit_compiled_convolution_op, _jit_compiled_convolution_op, _update_step_xla while saving (showing 3 of 3). These functions will not be directly callable after loading.\n"
          ]
        },
        {
          "name": "stdout",
          "output_type": "stream",
          "text": [
            "\b\b\b\b\b\b\b\b\b\b\b\b\b\b\b\b\b\b\b\b\b\b\b\b\b\b\b\b\b\b\b\b\b\b\b\b\b\b\b\b\b\b\b\b\b\b\b\b\b\b\b\b\b\b\b\b\b\b\b\b\b\b\b\b\b\b\b\b\b\b\b\b\b\b\b\b\b\b\b\b\r3/3 [==============================] - 3s 2s/step - loss: 0.3640 - accuracy: 0.8734 - val_loss: 0.3363 - val_accuracy: 0.8095\n",
            "Epoch 7/10\n",
            "3/3 [==============================] - ETA: 0s - loss: 0.3363 - accuracy: 0.8734"
          ]
        },
        {
          "name": "stderr",
          "output_type": "stream",
          "text": [
            "WARNING:absl:Found untraced functions such as _jit_compiled_convolution_op, _jit_compiled_convolution_op, _update_step_xla while saving (showing 3 of 3). These functions will not be directly callable after loading.\n"
          ]
        },
        {
          "name": "stdout",
          "output_type": "stream",
          "text": [
            "\b\b\b\b\b\b\b\b\b\b\b\b\b\b\b\b\b\b\b\b\b\b\b\b\b\b\b\b\b\b\b\b\b\b\b\b\b\b\b\b\b\b\b\b\b\b\b\b\b\b\b\b\b\b\b\b\b\b\b\b\b\b\b\b\b\b\b\b\b\b\b\b\b\b\b\b\b\b\b\b\r3/3 [==============================] - 5s 3s/step - loss: 0.3363 - accuracy: 0.8734 - val_loss: 0.3253 - val_accuracy: 0.8571\n",
            "Epoch 8/10\n",
            "1/3 [=========>....................] - ETA: 0s - loss: 0.1687 - accuracy: 1.0000"
          ]
        },
        {
          "name": "stderr",
          "output_type": "stream",
          "text": [
            "WARNING:absl:Found untraced functions such as _jit_compiled_convolution_op, _jit_compiled_convolution_op, _update_step_xla while saving (showing 3 of 3). These functions will not be directly callable after loading.\n"
          ]
        },
        {
          "name": "stdout",
          "output_type": "stream",
          "text": [
            "\b\b\b\b\b\b\b\b\b\b\b\b\b\b\b\b\b\b\b\b\b\b\b\b\b\b\b\b\b\b\b\b\b\b\b\b\b\b\b\b\b\b\b\b\b\b\b\b\b\b\b\b\b\b\b\b\b\b\b\b\b\b\b\b\b\b\b\b\b\b\b\b\b\b\b\b\b\b\b\b\r3/3 [==============================] - 3s 2s/step - loss: 0.3108 - accuracy: 0.9114 - val_loss: 0.2882 - val_accuracy: 0.9048\n",
            "Epoch 9/10\n",
            "1/3 [=========>....................] - ETA: 0s - loss: 0.3643 - accuracy: 0.8750"
          ]
        },
        {
          "name": "stderr",
          "output_type": "stream",
          "text": [
            "WARNING:absl:Found untraced functions such as _jit_compiled_convolution_op, _jit_compiled_convolution_op, _update_step_xla while saving (showing 3 of 3). These functions will not be directly callable after loading.\n"
          ]
        },
        {
          "name": "stdout",
          "output_type": "stream",
          "text": [
            "\b\b\b\b\b\b\b\b\b\b\b\b\b\b\b\b\b\b\b\b\b\b\b\b\b\b\b\b\b\b\b\b\b\b\b\b\b\b\b\b\b\b\b\b\b\b\b\b\b\b\b\b\b\b\b\b\b\b\b\b\b\b\b\b\b\b\b\b\b\b\b\b\b\b\b\b\b\b\b\b\r3/3 [==============================] - 4s 2s/step - loss: 0.2967 - accuracy: 0.9241 - val_loss: 0.2634 - val_accuracy: 0.9048\n",
            "Epoch 10/10\n",
            "1/3 [=========>....................] - ETA: 0s - loss: 0.2398 - accuracy: 0.9688"
          ]
        },
        {
          "name": "stderr",
          "output_type": "stream",
          "text": [
            "WARNING:absl:Found untraced functions such as _jit_compiled_convolution_op, _jit_compiled_convolution_op, _update_step_xla while saving (showing 3 of 3). These functions will not be directly callable after loading.\n"
          ]
        },
        {
          "name": "stdout",
          "output_type": "stream",
          "text": [
            "\b\b\b\b\b\b\b\b\b\b\b\b\b\b\b\b\b\b\b\b\b\b\b\b\b\b\b\b\b\b\b\b\b\b\b\b\b\b\b\b\b\b\b\b\b\b\b\b\b\b\b\b\b\b\b\b\b\b\b\b\b\b\b\b\b\b\b\b\b\b\b\b\b\b\b\b\b\b\b\b\r3/3 [==============================] - 3s 2s/step - loss: 0.2843 - accuracy: 0.9367 - val_loss: 0.2645 - val_accuracy: 0.9048\n"
          ]
        },
        {
          "data": {
            "text/plain": [
              "<keras.callbacks.History at 0x7f0455da5d90>"
            ]
          },
          "execution_count": 103,
          "metadata": {},
          "output_type": "execute_result"
        }
      ],
      "source": [
        "model_CNN1D_SimpleRNN = create_1D_CNN_SimpleRNN((96,1),2)\n",
        "model_CNN1D_SimpleRNN.fit(x=train_ds_ECG, validation_data= valid_ds_ECG, epochs=10, batch_size=32,callbacks=[early_stopping, checkpoint] )"
      ]
    },
    {
      "cell_type": "code",
      "execution_count": null,
      "metadata": {
        "colab": {
          "base_uri": "https://localhost:8080/"
        },
        "id": "nrgWAA83-51L",
        "outputId": "31f96ea8-86e8-4615-fd98-161a73fbae09"
      },
      "outputs": [
        {
          "name": "stdout",
          "output_type": "stream",
          "text": [
            "4/4 [==============================] - 1s 13ms/step - loss: 0.4370 - accuracy: 0.8000\n"
          ]
        },
        {
          "data": {
            "text/plain": [
              "[0.43700870871543884, 0.800000011920929]"
            ]
          },
          "execution_count": 104,
          "metadata": {},
          "output_type": "execute_result"
        }
      ],
      "source": [
        "model_CNN1D_SimpleRNN.evaluate(X_test_ECG, y_test_ECG_encoded)"
      ]
    },
    {
      "cell_type": "markdown",
      "metadata": {
        "id": "WEevYhlXFWge"
      },
      "source": [
        "### Task 2: Time series classification using deep learning 2"
      ]
    },
    {
      "attachments": {},
      "cell_type": "markdown",
      "metadata": {
        "id": "Qm1wqK6EGs9H"
      },
      "source": [
        "There has been several neural network models dedicated to time series classification. Besides our own models that you developed in Lab 4, now we will develop such dedicated models by referring to some papers, and test if they indeed perform better than our rough models. There are two famous papers as follows:\n",
        " - [Convolutional neural networks for time series classification (2017)](https://ieeexplore.ieee.org/stamp/stamp.jsp?arnumber=7870510)\n",
        " - [Time Series Classification from Scratch with Deep Neural Networks: A Strong Baseline (2017)](https://arxiv.org/abs/1611.06455)\n",
        "\n",
        "First paper's idea is already implemented in sktime, with the name `CNNClassifier`. Second paper has three models and those are easy to develop using tensorflow. Now the task is to develop two models (MLP and FCN) in the second paper and test it together with `CNNClassifier`.\n",
        "\n",
        "Using the same datasets, and test sktime's `CNNClassifier` and MLP and FCN models developed. Reporting test scores of three models (`CNNClassifier`, MLP, and FCN) on three datasets you chose. It would be nine scores in total. \n"
      ]
    },
    {
      "cell_type": "code",
      "execution_count": null,
      "metadata": {
        "colab": {
          "base_uri": "https://localhost:8080/"
        },
        "id": "Zp3BTSzieK0L",
        "outputId": "66e3bae7-a3b5-4ef7-cd53-75c31438454f"
      },
      "outputs": [
        {
          "name": "stderr",
          "output_type": "stream",
          "text": [
            "/usr/local/lib/python3.9/dist-packages/sktime/utils/validation/_dependencies.py:143: UserWarning: No module named 'keras_self_attention'. 'keras-self-attention' is a soft dependency and not included in the base sktime installation. Please run: `pip install keras-self-attention` to install the keras-self-attention package. To install all soft dependencies, run: `pip install sktime[all_extras]`\n",
            "  warnings.warn(msg)\n"
          ]
        }
      ],
      "source": [
        "#implement CNN Classifier\n",
        "from sktime.classification.deep_learning.cnn import CNNClassifier"
      ]
    },
    {
      "cell_type": "code",
      "execution_count": null,
      "metadata": {
        "id": "cRS0vifoVCQS"
      },
      "outputs": [],
      "source": [
        "\n",
        "#import datasets again, the purpose is not using tf.Data\n",
        "X_train_Pro_CNN, y_train_Pro_CNN = load_UCR_UEA_dataset(name='ProximalPhalanxTW', split='train', return_type=\"numpy2D\")\n",
        "X_test_Pro_CNN , y_test_Pro_CNN = load_UCR_UEA_dataset(name='ProximalPhalanxTW', split='test', return_type=\"numpy2D\")"
      ]
    },
    {
      "cell_type": "code",
      "execution_count": null,
      "metadata": {
        "colab": {
          "base_uri": "https://localhost:8080/"
        },
        "id": "Lu1fEIijVCca",
        "outputId": "2c986a9d-40c1-4666-9235-1d02419b6dbe"
      },
      "outputs": [
        {
          "name": "stderr",
          "output_type": "stream",
          "text": [
            "/usr/local/lib/python3.9/dist-packages/sklearn/preprocessing/_encoders.py:868: FutureWarning: `sparse` was renamed to `sparse_output` in version 1.2 and will be removed in 1.4. `sparse_output` is ignored unless you leave `sparse` to its default value.\n",
            "  warnings.warn(\n"
          ]
        },
        {
          "name": "stdout",
          "output_type": "stream",
          "text": [
            "13/13 [==============================] - 0s 3ms/step\n",
            "Test accuracy: 0.35121951219512193\n"
          ]
        }
      ],
      "source": [
        "CNN_classifier = CNNClassifier(n_epochs= 10)\n",
        "CNN_classifier.fit(X_train_Pro_CNN, y_train_Pro_CNN)\n",
        "accuracy = CNN_classifier.score(X_test_Pro_CNN , y_test_Pro_CNN)\n",
        "print('Test accuracy:', accuracy)"
      ]
    },
    {
      "cell_type": "code",
      "execution_count": null,
      "metadata": {
        "id": "fqEK9xFxiX8K"
      },
      "outputs": [],
      "source": [
        "X_train_Plane_CNN, y_train_Plane_CNN = load_UCR_UEA_dataset(name='Plane', split='train', return_type=\"numpy2D\")\n",
        "X_test_Plane_CNN , y_test_Plane_CNN = load_UCR_UEA_dataset(name='Plane', split='test', return_type=\"numpy2D\")"
      ]
    },
    {
      "cell_type": "code",
      "execution_count": null,
      "metadata": {
        "colab": {
          "base_uri": "https://localhost:8080/"
        },
        "id": "nW_IM5PViYH2",
        "outputId": "f2d3a9da-7ba1-447e-e279-4ce6ad94dc5b"
      },
      "outputs": [
        {
          "name": "stderr",
          "output_type": "stream",
          "text": [
            "/usr/local/lib/python3.9/dist-packages/sklearn/preprocessing/_encoders.py:868: FutureWarning: `sparse` was renamed to `sparse_output` in version 1.2 and will be removed in 1.4. `sparse_output` is ignored unless you leave `sparse` to its default value.\n",
            "  warnings.warn(\n"
          ]
        },
        {
          "name": "stdout",
          "output_type": "stream",
          "text": [
            "7/7 [==============================] - 0s 6ms/step\n",
            "Test accuracy: 0.5904761904761905\n"
          ]
        }
      ],
      "source": [
        "CNN_classifier = CNNClassifier(n_epochs= 10)\n",
        "CNN_classifier.fit(X_train_Plane_CNN, y_train_Plane_CNN)\n",
        "accuracy = CNN_classifier.score(X_test_Plane_CNN , y_test_Plane_CNN)\n",
        "print('Test accuracy:', accuracy)"
      ]
    },
    {
      "cell_type": "code",
      "execution_count": null,
      "metadata": {
        "id": "K7kwpNIWiYSI"
      },
      "outputs": [],
      "source": [
        "X_train_ECG_CNN, y_train_ECG_CNN = load_UCR_UEA_dataset(name='Plane', split='train', return_type=\"numpy2D\")\n",
        "X_test_ECG_CNN , y_test_ECG_CNN = load_UCR_UEA_dataset(name='Plane', split='test', return_type=\"numpy2D\")"
      ]
    },
    {
      "cell_type": "code",
      "execution_count": null,
      "metadata": {
        "colab": {
          "base_uri": "https://localhost:8080/"
        },
        "id": "c3M2RXBBmFRK",
        "outputId": "499a550e-923c-43df-e366-0f58f73c9150"
      },
      "outputs": [
        {
          "name": "stderr",
          "output_type": "stream",
          "text": [
            "/usr/local/lib/python3.9/dist-packages/sklearn/preprocessing/_encoders.py:868: FutureWarning: `sparse` was renamed to `sparse_output` in version 1.2 and will be removed in 1.4. `sparse_output` is ignored unless you leave `sparse` to its default value.\n",
            "  warnings.warn(\n"
          ]
        },
        {
          "name": "stdout",
          "output_type": "stream",
          "text": [
            "7/7 [==============================] - 0s 5ms/step\n",
            "Test accuracy: 0.6571428571428571\n"
          ]
        }
      ],
      "source": [
        "CNN_classifier = CNNClassifier(n_epochs= 10)\n",
        "CNN_classifier.fit(X_train_ECG_CNN, y_train_ECG_CNN)\n",
        "accuracy = CNN_classifier.score(X_test_ECG_CNN , y_test_ECG_CNN)\n",
        "print('Test accuracy:', accuracy)"
      ]
    },
    {
      "cell_type": "code",
      "execution_count": null,
      "metadata": {
        "id": "He217i6vmVc2"
      },
      "outputs": [],
      "source": [
        "#implement MLP\n",
        "\n",
        "def creat_MLP(input_shape, num_label):\n",
        "  model= keras.models.Sequential([\n",
        "      keras.layers.Input(shape = input_shape),\n",
        "      keras.layers.Dropout(0.1, input_shape=[input_shape]),\n",
        "      keras.layers.Dense(500, activation='relu'),\n",
        "      keras.layers.Dropout(0.2),\n",
        "      keras.layers.Dense(500, activation='relu'),\n",
        "      keras.layers.Dropout(0.3),\n",
        "      keras.layers.Dense(500, activation='relu'),\n",
        "      keras.layers.Dense(num_label, activation='softmax')\n",
        "  ])\n",
        "  model.compile(optimizer='adam', loss='categorical_crossentropy', metrics=['accuracy'])\n",
        "  return model\n"
      ]
    },
    {
      "cell_type": "code",
      "execution_count": null,
      "metadata": {
        "colab": {
          "base_uri": "https://localhost:8080/"
        },
        "id": "C2nZOf-0mVoO",
        "outputId": "297f5130-ccca-425a-be21-4f5e68a430bd"
      },
      "outputs": [
        {
          "name": "stdout",
          "output_type": "stream",
          "text": [
            "Epoch 1/10\n",
            "10/10 [==============================] - ETA: 0s - loss: 1.5874 - accuracy: 0.3969"
          ]
        },
        {
          "name": "stderr",
          "output_type": "stream",
          "text": [
            "WARNING:absl:Found untraced functions such as _update_step_xla while saving (showing 1 of 1). These functions will not be directly callable after loading.\n"
          ]
        },
        {
          "name": "stdout",
          "output_type": "stream",
          "text": [
            "\b\b\b\b\b\b\b\b\b\b\b\b\b\b\b\b\b\b\b\b\b\b\b\b\b\b\b\b\b\b\b\b\b\b\b\b\b\b\b\b\b\b\b\b\b\b\b\b\b\b\b\b\b\b\b\b\b\b\b\b\b\b\b\b\b\b\b\b\b\b\b\b\b\b\b\b\b\b\b\b\b\b\r10/10 [==============================] - 3s 225ms/step - loss: 1.5874 - accuracy: 0.3969 - val_loss: 1.1939 - val_accuracy: 0.4875\n",
            "Epoch 2/10\n",
            "10/10 [==============================] - ETA: 0s - loss: 1.2539 - accuracy: 0.5406"
          ]
        },
        {
          "name": "stderr",
          "output_type": "stream",
          "text": [
            "WARNING:absl:Found untraced functions such as _update_step_xla while saving (showing 1 of 1). These functions will not be directly callable after loading.\n"
          ]
        },
        {
          "name": "stdout",
          "output_type": "stream",
          "text": [
            "\b\b\b\b\b\b\b\b\b\b\b\b\b\b\b\b\b\b\b\b\b\b\b\b\b\b\b\b\b\b\b\b\b\b\b\b\b\b\b\b\b\b\b\b\b\b\b\b\b\b\b\b\b\b\b\b\b\b\b\b\b\b\b\b\b\b\b\b\b\b\b\b\b\b\b\b\b\b\b\b\b\b\r10/10 [==============================] - 2s 192ms/step - loss: 1.2539 - accuracy: 0.5406 - val_loss: 0.8888 - val_accuracy: 0.7875\n",
            "Epoch 3/10\n",
            " 9/10 [==========================>...] - ETA: 0s - loss: 1.0413 - accuracy: 0.6181"
          ]
        },
        {
          "name": "stderr",
          "output_type": "stream",
          "text": [
            "WARNING:absl:Found untraced functions such as _update_step_xla while saving (showing 1 of 1). These functions will not be directly callable after loading.\n"
          ]
        },
        {
          "name": "stdout",
          "output_type": "stream",
          "text": [
            "\b\b\b\b\b\b\b\b\b\b\b\b\b\b\b\b\b\b\b\b\b\b\b\b\b\b\b\b\b\b\b\b\b\b\b\b\b\b\b\b\b\b\b\b\b\b\b\b\b\b\b\b\b\b\b\b\b\b\b\b\b\b\b\b\b\b\b\b\b\b\b\b\b\b\b\b\b\b\b\b\b\b\r10/10 [==============================] - 3s 276ms/step - loss: 1.0143 - accuracy: 0.6344 - val_loss: 0.6085 - val_accuracy: 0.7875\n",
            "Epoch 4/10\n",
            " 8/10 [=======================>......] - ETA: 0s - loss: 0.7996 - accuracy: 0.7344"
          ]
        },
        {
          "name": "stderr",
          "output_type": "stream",
          "text": [
            "WARNING:absl:Found untraced functions such as _update_step_xla while saving (showing 1 of 1). These functions will not be directly callable after loading.\n"
          ]
        },
        {
          "name": "stdout",
          "output_type": "stream",
          "text": [
            "\b\b\b\b\b\b\b\b\b\b\b\b\b\b\b\b\b\b\b\b\b\b\b\b\b\b\b\b\b\b\b\b\b\b\b\b\b\b\b\b\b\b\b\b\b\b\b\b\b\b\b\b\b\b\b\b\b\b\b\b\b\b\b\b\b\b\b\b\b\b\b\b\b\b\b\b\b\b\b\b\b\b\r10/10 [==============================] - 4s 393ms/step - loss: 0.8328 - accuracy: 0.7125 - val_loss: 0.7478 - val_accuracy: 0.6125\n",
            "Epoch 5/10\n",
            " 9/10 [==========================>...] - ETA: 0s - loss: 0.8278 - accuracy: 0.7083"
          ]
        },
        {
          "name": "stderr",
          "output_type": "stream",
          "text": [
            "WARNING:absl:Found untraced functions such as _update_step_xla while saving (showing 1 of 1). These functions will not be directly callable after loading.\n"
          ]
        },
        {
          "name": "stdout",
          "output_type": "stream",
          "text": [
            "\b\b\b\b\b\b\b\b\b\b\b\b\b\b\b\b\b\b\b\b\b\b\b\b\b\b\b\b\b\b\b\b\b\b\b\b\b\b\b\b\b\b\b\b\b\b\b\b\b\b\b\b\b\b\b\b\b\b\b\b\b\b\b\b\b\b\b\b\b\b\b\b\b\b\b\b\b\b\b\b\b\b\r10/10 [==============================] - 2s 205ms/step - loss: 0.8068 - accuracy: 0.7250 - val_loss: 0.5424 - val_accuracy: 0.8375\n",
            "Epoch 6/10\n",
            " 7/10 [====================>.........] - ETA: 0s - loss: 0.7612 - accuracy: 0.7232"
          ]
        },
        {
          "name": "stderr",
          "output_type": "stream",
          "text": [
            "WARNING:absl:Found untraced functions such as _update_step_xla while saving (showing 1 of 1). These functions will not be directly callable after loading.\n"
          ]
        },
        {
          "name": "stdout",
          "output_type": "stream",
          "text": [
            "\b\b\b\b\b\b\b\b\b\b\b\b\b\b\b\b\b\b\b\b\b\b\b\b\b\b\b\b\b\b\b\b\b\b\b\b\b\b\b\b\b\b\b\b\b\b\b\b\b\b\b\b\b\b\b\b\b\b\b\b\b\b\b\b\b\b\b\b\b\b\b\b\b\b\b\b\b\b\b\b\b\b\r10/10 [==============================] - 2s 199ms/step - loss: 0.7607 - accuracy: 0.7312 - val_loss: 0.4875 - val_accuracy: 0.8500\n",
            "Epoch 7/10\n",
            "10/10 [==============================] - ETA: 0s - loss: 0.7239 - accuracy: 0.7500"
          ]
        },
        {
          "name": "stderr",
          "output_type": "stream",
          "text": [
            "WARNING:absl:Found untraced functions such as _update_step_xla while saving (showing 1 of 1). These functions will not be directly callable after loading.\n"
          ]
        },
        {
          "name": "stdout",
          "output_type": "stream",
          "text": [
            "\b\b\b\b\b\b\b\b\b\b\b\b\b\b\b\b\b\b\b\b\b\b\b\b\b\b\b\b\b\b\b\b\b\b\b\b\b\b\b\b\b\b\b\b\b\b\b\b\b\b\b\b\b\b\b\b\b\b\b\b\b\b\b\b\b\b\b\b\b\b\b\b\b\b\b\b\b\b\b\b\b\b\r10/10 [==============================] - 2s 217ms/step - loss: 0.7239 - accuracy: 0.7500 - val_loss: 0.4924 - val_accuracy: 0.8875\n",
            "Epoch 8/10\n",
            "10/10 [==============================] - ETA: 0s - loss: 0.7250 - accuracy: 0.7344"
          ]
        },
        {
          "name": "stderr",
          "output_type": "stream",
          "text": [
            "WARNING:absl:Found untraced functions such as _update_step_xla while saving (showing 1 of 1). These functions will not be directly callable after loading.\n"
          ]
        },
        {
          "name": "stdout",
          "output_type": "stream",
          "text": [
            "\b\b\b\b\b\b\b\b\b\b\b\b\b\b\b\b\b\b\b\b\b\b\b\b\b\b\b\b\b\b\b\b\b\b\b\b\b\b\b\b\b\b\b\b\b\b\b\b\b\b\b\b\b\b\b\b\b\b\b\b\b\b\b\b\b\b\b\b\b\b\b\b\b\b\b\b\b\b\b\b\b\b\r10/10 [==============================] - 2s 267ms/step - loss: 0.7250 - accuracy: 0.7344 - val_loss: 0.4658 - val_accuracy: 0.8875\n",
            "Epoch 9/10\n",
            " 9/10 [==========================>...] - ETA: 0s - loss: 0.6868 - accuracy: 0.7500"
          ]
        },
        {
          "name": "stderr",
          "output_type": "stream",
          "text": [
            "WARNING:absl:Found untraced functions such as _update_step_xla while saving (showing 1 of 1). These functions will not be directly callable after loading.\n"
          ]
        },
        {
          "name": "stdout",
          "output_type": "stream",
          "text": [
            "\b\b\b\b\b\b\b\b\b\b\b\b\b\b\b\b\b\b\b\b\b\b\b\b\b\b\b\b\b\b\b\b\b\b\b\b\b\b\b\b\b\b\b\b\b\b\b\b\b\b\b\b\b\b\b\b\b\b\b\b\b\b\b\b\b\b\b\b\b\b\b\b\b\b\b\b\b\b\b\b\b\b\r10/10 [==============================] - 2s 233ms/step - loss: 0.6860 - accuracy: 0.7469 - val_loss: 0.4522 - val_accuracy: 0.8250\n",
            "Epoch 10/10\n",
            " 7/10 [====================>.........] - ETA: 0s - loss: 0.7392 - accuracy: 0.7098"
          ]
        },
        {
          "name": "stderr",
          "output_type": "stream",
          "text": [
            "WARNING:absl:Found untraced functions such as _update_step_xla while saving (showing 1 of 1). These functions will not be directly callable after loading.\n"
          ]
        },
        {
          "name": "stdout",
          "output_type": "stream",
          "text": [
            "\b\b\b\b\b\b\b\b\b\b\b\b\b\b\b\b\b\b\b\b\b\b\b\b\b\b\b\b\b\b\b\b\b\b\b\b\b\b\b\b\b\b\b\b\b\b\b\b\b\b\b\b\b\b\b\b\b\b\b\b\b\b\b\b\b\b\b\b\b\b\b\b\b\b\b\b\b\b\b\b\b\b\r10/10 [==============================] - 2s 195ms/step - loss: 0.7345 - accuracy: 0.7125 - val_loss: 0.5939 - val_accuracy: 0.7875\n"
          ]
        }
      ],
      "source": [
        "model_MLP = creat_MLP(80, 6)\n",
        "history = model_MLP.fit(X_train_Pro, y_train_Pro_encoded, validation_split=0.2, epochs=10, callbacks=[early_stopping, checkpoint])"
      ]
    },
    {
      "cell_type": "code",
      "execution_count": null,
      "metadata": {
        "colab": {
          "base_uri": "https://localhost:8080/"
        },
        "id": "lGJ2FBH9mVxt",
        "outputId": "a1a1709e-0ad8-4145-bf9f-154cfbae9d52"
      },
      "outputs": [
        {
          "name": "stdout",
          "output_type": "stream",
          "text": [
            "7/7 [==============================] - 0s 6ms/step - loss: 0.7891 - accuracy: 0.7268\n"
          ]
        },
        {
          "data": {
            "text/plain": [
              "[0.7891157865524292, 0.7268292903900146]"
            ]
          },
          "execution_count": 142,
          "metadata": {},
          "output_type": "execute_result"
        }
      ],
      "source": [
        "model_MLP.evaluate(test_ds_Pro)"
      ]
    },
    {
      "cell_type": "code",
      "execution_count": null,
      "metadata": {
        "colab": {
          "base_uri": "https://localhost:8080/"
        },
        "id": "Z34c3Uu47Z1e",
        "outputId": "a4e5a2ef-0c69-40d0-9079-b6612429720a"
      },
      "outputs": [
        {
          "name": "stdout",
          "output_type": "stream",
          "text": [
            "Epoch 1/10\n",
            "1/3 [=========>....................] - ETA: 2s - loss: 2.0326 - accuracy: 0.0938"
          ]
        },
        {
          "name": "stderr",
          "output_type": "stream",
          "text": [
            "WARNING:absl:Found untraced functions such as _update_step_xla while saving (showing 1 of 1). These functions will not be directly callable after loading.\n"
          ]
        },
        {
          "name": "stdout",
          "output_type": "stream",
          "text": [
            "\b\b\b\b\b\b\b\b\b\b\b\b\b\b\b\b\b\b\b\b\b\b\b\b\b\b\b\b\b\b\b\b\b\b\b\b\b\b\b\b\b\b\b\b\b\b\b\b\b\b\b\b\b\b\b\b\b\b\b\b\b\b\b\b\b\b\b\b\b\b\b\b\b\b\b\b\b\b\b\b\r3/3 [==============================] - 4s 2s/step - loss: 1.7843 - accuracy: 0.3214 - val_loss: 1.3720 - val_accuracy: 0.5238\n",
            "Epoch 2/10\n",
            "1/3 [=========>....................] - ETA: 0s - loss: 1.1831 - accuracy: 0.5938"
          ]
        },
        {
          "name": "stderr",
          "output_type": "stream",
          "text": [
            "WARNING:absl:Found untraced functions such as _update_step_xla while saving (showing 1 of 1). These functions will not be directly callable after loading.\n"
          ]
        },
        {
          "name": "stdout",
          "output_type": "stream",
          "text": [
            "\b\b\b\b\b\b\b\b\b\b\b\b\b\b\b\b\b\b\b\b\b\b\b\b\b\b\b\b\b\b\b\b\b\b\b\b\b\b\b\b\b\b\b\b\b\b\b\b\b\b\b\b\b\b\b\b\b\b\b\b\b\b\b\b\b\b\b\b\b\b\b\b\b\b\b\b\b\b\b\b\r3/3 [==============================] - 2s 813ms/step - loss: 1.0281 - accuracy: 0.6190 - val_loss: 0.6940 - val_accuracy: 0.7143\n",
            "Epoch 3/10\n",
            "1/3 [=========>....................] - ETA: 0s - loss: 0.6789 - accuracy: 0.8438"
          ]
        },
        {
          "name": "stderr",
          "output_type": "stream",
          "text": [
            "WARNING:absl:Found untraced functions such as _update_step_xla while saving (showing 1 of 1). These functions will not be directly callable after loading.\n"
          ]
        },
        {
          "name": "stdout",
          "output_type": "stream",
          "text": [
            "\b\b\b\b\b\b\b\b\b\b\b\b\b\b\b\b\b\b\b\b\b\b\b\b\b\b\b\b\b\b\b\b\b\b\b\b\b\b\b\b\b\b\b\b\b\b\b\b\b\b\b\b\b\b\b\b\b\b\b\b\b\b\b\b\b\b\b\b\b\b\b\b\b\b\b\b\b\b\b\b\r3/3 [==============================] - 2s 801ms/step - loss: 0.5511 - accuracy: 0.8571 - val_loss: 0.5902 - val_accuracy: 0.7143\n",
            "Epoch 4/10\n",
            "1/3 [=========>....................] - ETA: 0s - loss: 0.3930 - accuracy: 0.8750"
          ]
        },
        {
          "name": "stderr",
          "output_type": "stream",
          "text": [
            "WARNING:absl:Found untraced functions such as _update_step_xla while saving (showing 1 of 1). These functions will not be directly callable after loading.\n"
          ]
        },
        {
          "name": "stdout",
          "output_type": "stream",
          "text": [
            "\b\b\b\b\b\b\b\b\b\b\b\b\b\b\b\b\b\b\b\b\b\b\b\b\b\b\b\b\b\b\b\b\b\b\b\b\b\b\b\b\b\b\b\b\b\b\b\b\b\b\b\b\b\b\b\b\b\b\b\b\b\b\b\b\b\b\b\b\b\b\b\b\b\b\b\b\b\b\b\b\r3/3 [==============================] - 2s 785ms/step - loss: 0.4308 - accuracy: 0.8333 - val_loss: 0.3825 - val_accuracy: 0.9048\n",
            "Epoch 5/10\n",
            "3/3 [==============================] - ETA: 0s - loss: 0.2909 - accuracy: 0.9048"
          ]
        },
        {
          "name": "stderr",
          "output_type": "stream",
          "text": [
            "WARNING:absl:Found untraced functions such as _update_step_xla while saving (showing 1 of 1). These functions will not be directly callable after loading.\n"
          ]
        },
        {
          "name": "stdout",
          "output_type": "stream",
          "text": [
            "\b\b\b\b\b\b\b\b\b\b\b\b\b\b\b\b\b\b\b\b\b\b\b\b\b\b\b\b\b\b\b\b\b\b\b\b\b\b\b\b\b\b\b\b\b\b\b\b\b\b\b\b\b\b\b\b\b\b\b\b\b\b\b\b\b\b\b\b\b\b\b\b\b\b\b\b\b\b\b\b\r3/3 [==============================] - 2s 1s/step - loss: 0.2909 - accuracy: 0.9048 - val_loss: 0.2649 - val_accuracy: 0.9524\n",
            "Epoch 6/10\n",
            "3/3 [==============================] - ETA: 0s - loss: 0.1877 - accuracy: 0.9643"
          ]
        },
        {
          "name": "stderr",
          "output_type": "stream",
          "text": [
            "WARNING:absl:Found untraced functions such as _update_step_xla while saving (showing 1 of 1). These functions will not be directly callable after loading.\n"
          ]
        },
        {
          "name": "stdout",
          "output_type": "stream",
          "text": [
            "\b\b\b\b\b\b\b\b\b\b\b\b\b\b\b\b\b\b\b\b\b\b\b\b\b\b\b\b\b\b\b\b\b\b\b\b\b\b\b\b\b\b\b\b\b\b\b\b\b\b\b\b\b\b\b\b\b\b\b\b\b\b\b\b\b\b\b\b\b\b\b\b\b\b\b\b\b\b\b\b\r3/3 [==============================] - 2s 989ms/step - loss: 0.1877 - accuracy: 0.9643 - val_loss: 0.3063 - val_accuracy: 0.9524\n",
            "Epoch 7/10\n",
            "1/3 [=========>....................] - ETA: 0s - loss: 0.1869 - accuracy: 0.9062"
          ]
        },
        {
          "name": "stderr",
          "output_type": "stream",
          "text": [
            "WARNING:absl:Found untraced functions such as _update_step_xla while saving (showing 1 of 1). These functions will not be directly callable after loading.\n"
          ]
        },
        {
          "name": "stdout",
          "output_type": "stream",
          "text": [
            "\b\b\b\b\b\b\b\b\b\b\b\b\b\b\b\b\b\b\b\b\b\b\b\b\b\b\b\b\b\b\b\b\b\b\b\b\b\b\b\b\b\b\b\b\b\b\b\b\b\b\b\b\b\b\b\b\b\b\b\b\b\b\b\b\b\b\b\b\b\b\b\b\b\b\b\b\b\b\b\b\r3/3 [==============================] - 2s 767ms/step - loss: 0.1506 - accuracy: 0.9405 - val_loss: 0.2719 - val_accuracy: 0.9524\n",
            "Epoch 8/10\n",
            "1/3 [=========>....................] - ETA: 0s - loss: 0.0824 - accuracy: 1.0000"
          ]
        },
        {
          "name": "stderr",
          "output_type": "stream",
          "text": [
            "WARNING:absl:Found untraced functions such as _update_step_xla while saving (showing 1 of 1). These functions will not be directly callable after loading.\n"
          ]
        },
        {
          "name": "stdout",
          "output_type": "stream",
          "text": [
            "\b\b\b\b\b\b\b\b\b\b\b\b\b\b\b\b\b\b\b\b\b\b\b\b\b\b\b\b\b\b\b\b\b\b\b\b\b\b\b\b\b\b\b\b\b\b\b\b\b\b\b\b\b\b\b\b\b\b\b\b\b\b\b\b\b\b\b\b\b\b\b\b\b\b\b\b\b\b\b\b\r3/3 [==============================] - 2s 825ms/step - loss: 0.0944 - accuracy: 0.9762 - val_loss: 0.2026 - val_accuracy: 0.9524\n",
            "Epoch 9/10\n",
            "1/3 [=========>....................] - ETA: 0s - loss: 0.1778 - accuracy: 0.9062"
          ]
        },
        {
          "name": "stderr",
          "output_type": "stream",
          "text": [
            "WARNING:absl:Found untraced functions such as _update_step_xla while saving (showing 1 of 1). These functions will not be directly callable after loading.\n"
          ]
        },
        {
          "name": "stdout",
          "output_type": "stream",
          "text": [
            "\b\b\b\b\b\b\b\b\b\b\b\b\b\b\b\b\b\b\b\b\b\b\b\b\b\b\b\b\b\b\b\b\b\b\b\b\b\b\b\b\b\b\b\b\b\b\b\b\b\b\b\b\b\b\b\b\b\b\b\b\b\b\b\b\b\b\b\b\b\b\b\b\b\b\b\b\b\b\b\b\r3/3 [==============================] - 2s 758ms/step - loss: 0.1173 - accuracy: 0.9524 - val_loss: 0.3707 - val_accuracy: 0.8571\n",
            "Epoch 10/10\n",
            "1/3 [=========>....................] - ETA: 0s - loss: 0.1757 - accuracy: 0.9375"
          ]
        },
        {
          "name": "stderr",
          "output_type": "stream",
          "text": [
            "WARNING:absl:Found untraced functions such as _update_step_xla while saving (showing 1 of 1). These functions will not be directly callable after loading.\n"
          ]
        },
        {
          "name": "stdout",
          "output_type": "stream",
          "text": [
            "\b\b\b\b\b\b\b\b\b\b\b\b\b\b\b\b\b\b\b\b\b\b\b\b\b\b\b\b\b\b\b\b\b\b\b\b\b\b\b\b\b\b\b\b\b\b\b\b\b\b\b\b\b\b\b\b\b\b\b\b\b\b\b\b\b\b\b\b\b\b\b\b\b\b\b\b\b\b\b\b\r3/3 [==============================] - 3s 1s/step - loss: 0.1090 - accuracy: 0.9643 - val_loss: 0.2807 - val_accuracy: 0.9524\n"
          ]
        }
      ],
      "source": [
        "model_MLP = creat_MLP(144, 7)\n",
        "history = model_MLP.fit(X_train_Plane, y_train_Plane_encoded, validation_split=0.2, epochs=10, callbacks=[early_stopping, checkpoint])"
      ]
    },
    {
      "cell_type": "code",
      "execution_count": null,
      "metadata": {
        "colab": {
          "base_uri": "https://localhost:8080/"
        },
        "id": "GltpXCdQ7Z_y",
        "outputId": "1e891ee3-236e-450d-ce1c-19f02ec84a3a"
      },
      "outputs": [
        {
          "name": "stdout",
          "output_type": "stream",
          "text": [
            "4/4 [==============================] - 0s 8ms/step - loss: 0.1261 - accuracy: 0.9714\n"
          ]
        },
        {
          "data": {
            "text/plain": [
              "[0.12611117959022522, 0.9714285731315613]"
            ]
          },
          "execution_count": 130,
          "metadata": {},
          "output_type": "execute_result"
        }
      ],
      "source": [
        "model_MLP.evaluate(X_test_Plane, y_test_Plane_encoded)"
      ]
    },
    {
      "cell_type": "code",
      "execution_count": null,
      "metadata": {
        "colab": {
          "base_uri": "https://localhost:8080/"
        },
        "id": "XupvLqqV7aGs",
        "outputId": "8be5d46a-16b1-4e35-aebc-65a05dbcc8fa"
      },
      "outputs": [
        {
          "name": "stdout",
          "output_type": "stream",
          "text": [
            "Epoch 1/10\n",
            "1/3 [=========>....................] - ETA: 2s - loss: 0.7841 - accuracy: 0.4375"
          ]
        },
        {
          "name": "stderr",
          "output_type": "stream",
          "text": [
            "WARNING:absl:Found untraced functions such as _update_step_xla while saving (showing 1 of 1). These functions will not be directly callable after loading.\n"
          ]
        },
        {
          "name": "stdout",
          "output_type": "stream",
          "text": [
            "\b\b\b\b\b\b\b\b\b\b\b\b\b\b\b\b\b\b\b\b\b\b\b\b\b\b\b\b\b\b\b\b\b\b\b\b\b\b\b\b\b\b\b\b\b\b\b\b\b\b\b\b\b\b\b\b\b\b\b\b\b\b\b\b\b\b\b\b\b\b\b\b\b\b\b\b\b\b\b\b\r3/3 [==============================] - 3s 892ms/step - loss: 0.9120 - accuracy: 0.5375 - val_loss: 0.3571 - val_accuracy: 0.7500\n",
            "Epoch 2/10\n",
            "1/3 [=========>....................] - ETA: 0s - loss: 0.6029 - accuracy: 0.6562"
          ]
        },
        {
          "name": "stderr",
          "output_type": "stream",
          "text": [
            "WARNING:absl:Found untraced functions such as _update_step_xla while saving (showing 1 of 1). These functions will not be directly callable after loading.\n"
          ]
        },
        {
          "name": "stdout",
          "output_type": "stream",
          "text": [
            "\b\b\b\b\b\b\b\b\b\b\b\b\b\b\b\b\b\b\b\b\b\b\b\b\b\b\b\b\b\b\b\b\b\b\b\b\b\b\b\b\b\b\b\b\b\b\b\b\b\b\b\b\b\b\b\b\b\b\b\b\b\b\b\b\b\b\b\b\b\b\b\b\b\b\b\b\b\b\b\b\r3/3 [==============================] - 2s 813ms/step - loss: 0.5187 - accuracy: 0.7625 - val_loss: 0.3091 - val_accuracy: 0.9000\n",
            "Epoch 3/10\n",
            "1/3 [=========>....................] - ETA: 0s - loss: 0.5103 - accuracy: 0.8125"
          ]
        },
        {
          "name": "stderr",
          "output_type": "stream",
          "text": [
            "WARNING:absl:Found untraced functions such as _update_step_xla while saving (showing 1 of 1). These functions will not be directly callable after loading.\n"
          ]
        },
        {
          "name": "stdout",
          "output_type": "stream",
          "text": [
            "\b\b\b\b\b\b\b\b\b\b\b\b\b\b\b\b\b\b\b\b\b\b\b\b\b\b\b\b\b\b\b\b\b\b\b\b\b\b\b\b\b\b\b\b\b\b\b\b\b\b\b\b\b\b\b\b\b\b\b\b\b\b\b\b\b\b\b\b\b\b\b\b\b\b\b\b\b\b\b\b\r3/3 [==============================] - 2s 779ms/step - loss: 0.4329 - accuracy: 0.8250 - val_loss: 0.2471 - val_accuracy: 0.9000\n",
            "Epoch 4/10\n",
            "1/3 [=========>....................] - ETA: 0s - loss: 0.2867 - accuracy: 0.8750"
          ]
        },
        {
          "name": "stderr",
          "output_type": "stream",
          "text": [
            "WARNING:absl:Found untraced functions such as _update_step_xla while saving (showing 1 of 1). These functions will not be directly callable after loading.\n"
          ]
        },
        {
          "name": "stdout",
          "output_type": "stream",
          "text": [
            "\b\b\b\b\b\b\b\b\b\b\b\b\b\b\b\b\b\b\b\b\b\b\b\b\b\b\b\b\b\b\b\b\b\b\b\b\b\b\b\b\b\b\b\b\b\b\b\b\b\b\b\b\b\b\b\b\b\b\b\b\b\b\b\b\b\b\b\b\b\b\b\b\b\b\b\b\b\b\b\b\r3/3 [==============================] - 1s 720ms/step - loss: 0.3352 - accuracy: 0.8375 - val_loss: 0.2817 - val_accuracy: 0.9000\n",
            "Epoch 5/10\n",
            "1/3 [=========>....................] - ETA: 0s - loss: 0.2284 - accuracy: 0.9062"
          ]
        },
        {
          "name": "stderr",
          "output_type": "stream",
          "text": [
            "WARNING:absl:Found untraced functions such as _update_step_xla while saving (showing 1 of 1). These functions will not be directly callable after loading.\n"
          ]
        },
        {
          "name": "stdout",
          "output_type": "stream",
          "text": [
            "\b\b\b\b\b\b\b\b\b\b\b\b\b\b\b\b\b\b\b\b\b\b\b\b\b\b\b\b\b\b\b\b\b\b\b\b\b\b\b\b\b\b\b\b\b\b\b\b\b\b\b\b\b\b\b\b\b\b\b\b\b\b\b\b\b\b\b\b\b\b\b\b\b\b\b\b\b\b\b\b\r3/3 [==============================] - 1s 737ms/step - loss: 0.2825 - accuracy: 0.8750 - val_loss: 0.2828 - val_accuracy: 0.9000\n",
            "Epoch 6/10\n",
            "1/3 [=========>....................] - ETA: 0s - loss: 0.2672 - accuracy: 0.9062"
          ]
        },
        {
          "name": "stderr",
          "output_type": "stream",
          "text": [
            "WARNING:absl:Found untraced functions such as _update_step_xla while saving (showing 1 of 1). These functions will not be directly callable after loading.\n"
          ]
        },
        {
          "name": "stdout",
          "output_type": "stream",
          "text": [
            "\b\b\b\b\b\b\b\b\b\b\b\b\b\b\b\b\b\b\b\b\b\b\b\b\b\b\b\b\b\b\b\b\b\b\b\b\b\b\b\b\b\b\b\b\b\b\b\b\b\b\b\b\b\b\b\b\b\b\b\b\b\b\b\b\b\b\b\b\b\b\b\b\b\b\b\b\b\b\b\b\r3/3 [==============================] - 2s 913ms/step - loss: 0.2543 - accuracy: 0.9000 - val_loss: 0.2842 - val_accuracy: 0.8500\n",
            "Epoch 7/10\n",
            "3/3 [==============================] - ETA: 0s - loss: 0.2577 - accuracy: 0.8875"
          ]
        },
        {
          "name": "stderr",
          "output_type": "stream",
          "text": [
            "WARNING:absl:Found untraced functions such as _update_step_xla while saving (showing 1 of 1). These functions will not be directly callable after loading.\n"
          ]
        },
        {
          "name": "stdout",
          "output_type": "stream",
          "text": [
            "\b\b\b\b\b\b\b\b\b\b\b\b\b\b\b\b\b\b\b\b\b\b\b\b\b\b\b\b\b\b\b\b\b\b\b\b\b\b\b\b\b\b\b\b\b\b\b\b\b\b\b\b\b\b\b\b\b\b\b\b\b\b\b\b\b\b\b\b\b\b\b\b\b\b\b\b\b\b\b\b\r3/3 [==============================] - 2s 1s/step - loss: 0.2577 - accuracy: 0.8875 - val_loss: 0.3302 - val_accuracy: 0.8500\n",
            "Epoch 8/10\n",
            "1/3 [=========>....................] - ETA: 0s - loss: 0.1735 - accuracy: 0.9375"
          ]
        },
        {
          "name": "stderr",
          "output_type": "stream",
          "text": [
            "WARNING:absl:Found untraced functions such as _update_step_xla while saving (showing 1 of 1). These functions will not be directly callable after loading.\n"
          ]
        },
        {
          "name": "stdout",
          "output_type": "stream",
          "text": [
            "\b\b\b\b\b\b\b\b\b\b\b\b\b\b\b\b\b\b\b\b\b\b\b\b\b\b\b\b\b\b\b\b\b\b\b\b\b\b\b\b\b\b\b\b\b\b\b\b\b\b\b\b\b\b\b\b\b\b\b\b\b\b\b\b\b\b\b\b\b\b\b\b\b\b\b\b\b\b\b\b\r3/3 [==============================] - 2s 803ms/step - loss: 0.2662 - accuracy: 0.8875 - val_loss: 0.4489 - val_accuracy: 0.8500\n",
            "Epoch 9/10\n",
            "1/3 [=========>....................] - ETA: 0s - loss: 0.1850 - accuracy: 0.9062"
          ]
        },
        {
          "name": "stderr",
          "output_type": "stream",
          "text": [
            "WARNING:absl:Found untraced functions such as _update_step_xla while saving (showing 1 of 1). These functions will not be directly callable after loading.\n"
          ]
        },
        {
          "name": "stdout",
          "output_type": "stream",
          "text": [
            "\b\b\b\b\b\b\b\b\b\b\b\b\b\b\b\b\b\b\b\b\b\b\b\b\b\b\b\b\b\b\b\b\b\b\b\b\b\b\b\b\b\b\b\b\b\b\b\b\b\b\b\b\b\b\b\b\b\b\b\b\b\b\b\b\b\b\b\b\b\b\b\b\b\b\b\b\b\b\b\b\r3/3 [==============================] - 3s 1s/step - loss: 0.1962 - accuracy: 0.9000 - val_loss: 0.3497 - val_accuracy: 0.9000\n",
            "Epoch 10/10\n",
            "1/3 [=========>....................] - ETA: 0s - loss: 0.1979 - accuracy: 0.8750"
          ]
        },
        {
          "name": "stderr",
          "output_type": "stream",
          "text": [
            "WARNING:absl:Found untraced functions such as _update_step_xla while saving (showing 1 of 1). These functions will not be directly callable after loading.\n"
          ]
        },
        {
          "name": "stdout",
          "output_type": "stream",
          "text": [
            "\b\b\b\b\b\b\b\b\b\b\b\b\b\b\b\b\b\b\b\b\b\b\b\b\b\b\b\b\b\b\b\b\b\b\b\b\b\b\b\b\b\b\b\b\b\b\b\b\b\b\b\b\b\b\b\b\b\b\b\b\b\b\b\b\b\b\b\b\b\b\b\b\b\b\b\b\b\b\b\b\r3/3 [==============================] - 2s 784ms/step - loss: 0.1451 - accuracy: 0.9125 - val_loss: 0.2941 - val_accuracy: 0.9000\n"
          ]
        }
      ],
      "source": [
        "model_MLP = creat_MLP(96, 2)\n",
        "history = model_MLP.fit(X_train_ECG, y_train_ECG_encoded, validation_split=0.2, epochs=10, callbacks=[early_stopping, checkpoint])"
      ]
    },
    {
      "cell_type": "code",
      "execution_count": null,
      "metadata": {
        "colab": {
          "base_uri": "https://localhost:8080/"
        },
        "id": "SlDZTogABCMX",
        "outputId": "c56cae29-d51a-46fd-b249-37fe2f22c65c"
      },
      "outputs": [
        {
          "name": "stdout",
          "output_type": "stream",
          "text": [
            "4/4 [==============================] - 0s 8ms/step - loss: 0.4015 - accuracy: 0.8600\n"
          ]
        },
        {
          "data": {
            "text/plain": [
              "[0.40149056911468506, 0.8600000143051147]"
            ]
          },
          "execution_count": 132,
          "metadata": {},
          "output_type": "execute_result"
        }
      ],
      "source": [
        "model_MLP.evaluate(X_test_ECG, y_test_ECG_encoded)"
      ]
    },
    {
      "cell_type": "code",
      "execution_count": null,
      "metadata": {
        "id": "p2pZCTGpBCP5"
      },
      "outputs": [],
      "source": [
        "#Fully Convolutional Network\n",
        "\n",
        "def create_FConN(input_shape, num_labels):\n",
        "  model = keras.models.Sequential([\n",
        "      keras.layers.Input(shape = input_shape),\n",
        "      keras.layers.Conv1D(filters= 128, kernel_size= 3, activation='relu', input_shape=input_shape),\n",
        "      keras.layers.BatchNormalization(),\n",
        "      keras.layers.Conv1D(filters= 256, kernel_size=3, activation='relu'),\n",
        "      keras.layers.BatchNormalization(),\n",
        "      keras.layers.Conv1D(filters= 128, kernel_size=3, activation='relu'),\n",
        "      keras.layers.BatchNormalization(),\n",
        "      keras.layers.GlobalAveragePooling1D(),\n",
        "      keras.layers.Dense(num_labels,activation='softmax')\n",
        "  ])\n",
        "  model.compile(optimizer='adam', loss='categorical_crossentropy', metrics=['accuracy'])\n",
        "  return model"
      ]
    },
    {
      "cell_type": "code",
      "execution_count": null,
      "metadata": {
        "colab": {
          "base_uri": "https://localhost:8080/"
        },
        "id": "XwnIRNYpWMbr",
        "outputId": "6014e056-341b-4015-8870-bf7abf9d4f81"
      },
      "outputs": [
        {
          "name": "stdout",
          "output_type": "stream",
          "text": [
            "Epoch 1/10\n",
            "10/10 [==============================] - ETA: 0s - loss: 1.2418 - accuracy: 0.5813"
          ]
        },
        {
          "name": "stderr",
          "output_type": "stream",
          "text": [
            "WARNING:absl:Found untraced functions such as _jit_compiled_convolution_op, _jit_compiled_convolution_op, _jit_compiled_convolution_op, _update_step_xla while saving (showing 4 of 4). These functions will not be directly callable after loading.\n"
          ]
        },
        {
          "name": "stdout",
          "output_type": "stream",
          "text": [
            "\b\b\b\b\b\b\b\b\b\b\b\b\b\b\b\b\b\b\b\b\b\b\b\b\b\b\b\b\b\b\b\b\b\b\b\b\b\b\b\b\b\b\b\b\b\b\b\b\b\b\b\b\b\b\b\b\b\b\b\b\b\b\b\b\b\b\b\b\b\b\b\b\b\b\b\b\b\b\b\b\b\b\r10/10 [==============================] - 8s 532ms/step - loss: 1.2418 - accuracy: 0.5813 - val_loss: 1.7337 - val_accuracy: 0.3000\n",
            "Epoch 2/10\n",
            "10/10 [==============================] - ETA: 0s - loss: 0.8095 - accuracy: 0.7594"
          ]
        },
        {
          "name": "stderr",
          "output_type": "stream",
          "text": [
            "WARNING:absl:Found untraced functions such as _jit_compiled_convolution_op, _jit_compiled_convolution_op, _jit_compiled_convolution_op, _update_step_xla while saving (showing 4 of 4). These functions will not be directly callable after loading.\n"
          ]
        },
        {
          "name": "stdout",
          "output_type": "stream",
          "text": [
            "\b\b\b\b\b\b\b\b\b\b\b\b\b\b\b\b\b\b\b\b\b\b\b\b\b\b\b\b\b\b\b\b\b\b\b\b\b\b\b\b\b\b\b\b\b\b\b\b\b\b\b\b\b\b\b\b\b\b\b\b\b\b\b\b\b\b\b\b\b\b\b\b\b\b\b\b\b\b\b\b\b\b\r10/10 [==============================] - 4s 388ms/step - loss: 0.8095 - accuracy: 0.7594 - val_loss: 1.6568 - val_accuracy: 0.3000\n",
            "Epoch 3/10\n",
            "10/10 [==============================] - ETA: 0s - loss: 0.7467 - accuracy: 0.7531"
          ]
        },
        {
          "name": "stderr",
          "output_type": "stream",
          "text": [
            "WARNING:absl:Found untraced functions such as _jit_compiled_convolution_op, _jit_compiled_convolution_op, _jit_compiled_convolution_op, _update_step_xla while saving (showing 4 of 4). These functions will not be directly callable after loading.\n"
          ]
        },
        {
          "name": "stdout",
          "output_type": "stream",
          "text": [
            "\b\b\b\b\b\b\b\b\b\b\b\b\b\b\b\b\b\b\b\b\b\b\b\b\b\b\b\b\b\b\b\b\b\b\b\b\b\b\b\b\b\b\b\b\b\b\b\b\b\b\b\b\b\b\b\b\b\b\b\b\b\b\b\b\b\b\b\b\b\b\b\b\b\b\b\b\b\b\b\b\b\b\r10/10 [==============================] - 4s 398ms/step - loss: 0.7467 - accuracy: 0.7531 - val_loss: 1.5856 - val_accuracy: 0.3000\n",
            "Epoch 4/10\n",
            "10/10 [==============================] - ETA: 0s - loss: 0.6854 - accuracy: 0.7844"
          ]
        },
        {
          "name": "stderr",
          "output_type": "stream",
          "text": [
            "WARNING:absl:Found untraced functions such as _jit_compiled_convolution_op, _jit_compiled_convolution_op, _jit_compiled_convolution_op, _update_step_xla while saving (showing 4 of 4). These functions will not be directly callable after loading.\n"
          ]
        },
        {
          "name": "stdout",
          "output_type": "stream",
          "text": [
            "\b\b\b\b\b\b\b\b\b\b\b\b\b\b\b\b\b\b\b\b\b\b\b\b\b\b\b\b\b\b\b\b\b\b\b\b\b\b\b\b\b\b\b\b\b\b\b\b\b\b\b\b\b\b\b\b\b\b\b\b\b\b\b\b\b\b\b\b\b\b\b\b\b\b\b\b\b\b\b\b\b\b\r10/10 [==============================] - 6s 654ms/step - loss: 0.6854 - accuracy: 0.7844 - val_loss: 1.5133 - val_accuracy: 0.3000\n",
            "Epoch 5/10\n",
            "10/10 [==============================] - ETA: 0s - loss: 0.6993 - accuracy: 0.7563"
          ]
        },
        {
          "name": "stderr",
          "output_type": "stream",
          "text": [
            "WARNING:absl:Found untraced functions such as _jit_compiled_convolution_op, _jit_compiled_convolution_op, _jit_compiled_convolution_op, _update_step_xla while saving (showing 4 of 4). These functions will not be directly callable after loading.\n"
          ]
        },
        {
          "name": "stdout",
          "output_type": "stream",
          "text": [
            "\b\b\b\b\b\b\b\b\b\b\b\b\b\b\b\b\b\b\b\b\b\b\b\b\b\b\b\b\b\b\b\b\b\b\b\b\b\b\b\b\b\b\b\b\b\b\b\b\b\b\b\b\b\b\b\b\b\b\b\b\b\b\b\b\b\b\b\b\b\b\b\b\b\b\b\b\b\b\b\b\b\b\r10/10 [==============================] - 5s 537ms/step - loss: 0.6993 - accuracy: 0.7563 - val_loss: 1.4857 - val_accuracy: 0.3000\n",
            "Epoch 6/10\n",
            "10/10 [==============================] - ETA: 0s - loss: 0.6381 - accuracy: 0.7688"
          ]
        },
        {
          "name": "stderr",
          "output_type": "stream",
          "text": [
            "WARNING:absl:Found untraced functions such as _jit_compiled_convolution_op, _jit_compiled_convolution_op, _jit_compiled_convolution_op, _update_step_xla while saving (showing 4 of 4). These functions will not be directly callable after loading.\n"
          ]
        },
        {
          "name": "stdout",
          "output_type": "stream",
          "text": [
            "\b\b\b\b\b\b\b\b\b\b\b\b\b\b\b\b\b\b\b\b\b\b\b\b\b\b\b\b\b\b\b\b\b\b\b\b\b\b\b\b\b\b\b\b\b\b\b\b\b\b\b\b\b\b\b\b\b\b\b\b\b\b\b\b\b\b\b\b\b\b\b\b\b\b\b\b\b\b\b\b\b\b\r10/10 [==============================] - 4s 406ms/step - loss: 0.6381 - accuracy: 0.7688 - val_loss: 1.5171 - val_accuracy: 0.3000\n",
            "Epoch 7/10\n",
            "10/10 [==============================] - ETA: 0s - loss: 0.6341 - accuracy: 0.7656"
          ]
        },
        {
          "name": "stderr",
          "output_type": "stream",
          "text": [
            "WARNING:absl:Found untraced functions such as _jit_compiled_convolution_op, _jit_compiled_convolution_op, _jit_compiled_convolution_op, _update_step_xla while saving (showing 4 of 4). These functions will not be directly callable after loading.\n"
          ]
        },
        {
          "name": "stdout",
          "output_type": "stream",
          "text": [
            "\b\b\b\b\b\b\b\b\b\b\b\b\b\b\b\b\b\b\b\b\b\b\b\b\b\b\b\b\b\b\b\b\b\b\b\b\b\b\b\b\b\b\b\b\b\b\b\b\b\b\b\b\b\b\b\b\b\b\b\b\b\b\b\b\b\b\b\b\b\b\b\b\b\b\b\b\b\b\b\b\b\b\r10/10 [==============================] - 5s 522ms/step - loss: 0.6341 - accuracy: 0.7656 - val_loss: 1.5744 - val_accuracy: 0.3000\n",
            "Epoch 8/10\n",
            "10/10 [==============================] - ETA: 0s - loss: 0.5800 - accuracy: 0.7781"
          ]
        },
        {
          "name": "stderr",
          "output_type": "stream",
          "text": [
            "WARNING:absl:Found untraced functions such as _jit_compiled_convolution_op, _jit_compiled_convolution_op, _jit_compiled_convolution_op, _update_step_xla while saving (showing 4 of 4). These functions will not be directly callable after loading.\n"
          ]
        },
        {
          "name": "stdout",
          "output_type": "stream",
          "text": [
            "\b\b\b\b\b\b\b\b\b\b\b\b\b\b\b\b\b\b\b\b\b\b\b\b\b\b\b\b\b\b\b\b\b\b\b\b\b\b\b\b\b\b\b\b\b\b\b\b\b\b\b\b\b\b\b\b\b\b\b\b\b\b\b\b\b\b\b\b\b\b\b\b\b\b\b\b\b\b\b\b\b\b\r10/10 [==============================] - 4s 394ms/step - loss: 0.5800 - accuracy: 0.7781 - val_loss: 1.6925 - val_accuracy: 0.3000\n",
            "Epoch 9/10\n",
            "10/10 [==============================] - ETA: 0s - loss: 0.5697 - accuracy: 0.7781"
          ]
        },
        {
          "name": "stderr",
          "output_type": "stream",
          "text": [
            "WARNING:absl:Found untraced functions such as _jit_compiled_convolution_op, _jit_compiled_convolution_op, _jit_compiled_convolution_op, _update_step_xla while saving (showing 4 of 4). These functions will not be directly callable after loading.\n"
          ]
        },
        {
          "name": "stdout",
          "output_type": "stream",
          "text": [
            "\b\b\b\b\b\b\b\b\b\b\b\b\b\b\b\b\b\b\b\b\b\b\b\b\b\b\b\b\b\b\b\b\b\b\b\b\b\b\b\b\b\b\b\b\b\b\b\b\b\b\b\b\b\b\b\b\b\b\b\b\b\b\b\b\b\b\b\b\b\b\b\b\b\b\b\b\b\b\b\b\b\b\r10/10 [==============================] - 4s 436ms/step - loss: 0.5697 - accuracy: 0.7781 - val_loss: 1.9009 - val_accuracy: 0.3000\n",
            "Epoch 10/10\n",
            "10/10 [==============================] - ETA: 0s - loss: 0.5620 - accuracy: 0.7781"
          ]
        },
        {
          "name": "stderr",
          "output_type": "stream",
          "text": [
            "WARNING:absl:Found untraced functions such as _jit_compiled_convolution_op, _jit_compiled_convolution_op, _jit_compiled_convolution_op, _update_step_xla while saving (showing 4 of 4). These functions will not be directly callable after loading.\n"
          ]
        },
        {
          "name": "stdout",
          "output_type": "stream",
          "text": [
            "\b\b\b\b\b\b\b\b\b\b\b\b\b\b\b\b\b\b\b\b\b\b\b\b\b\b\b\b\b\b\b\b\b\b\b\b\b\b\b\b\b\b\b\b\b\b\b\b\b\b\b\b\b\b\b\b\b\b\b\b\b\b\b\b\b\b\b\b\b\b\b\b\b\b\b\b\b\b\b\b\b\b\r10/10 [==============================] - 5s 503ms/step - loss: 0.5620 - accuracy: 0.7781 - val_loss: 2.0916 - val_accuracy: 0.3000\n"
          ]
        }
      ],
      "source": [
        "model_FConN = create_FConN((80,1), 6)\n",
        "history = model_FConN.fit(X_train_Pro, y_train_Pro_encoded, validation_split=0.2, epochs=10, callbacks=[early_stopping, checkpoint])"
      ]
    },
    {
      "cell_type": "code",
      "execution_count": null,
      "metadata": {
        "colab": {
          "base_uri": "https://localhost:8080/"
        },
        "id": "-mKz7ClBWMft",
        "outputId": "36fe9071-bd42-4e34-dc07-0ad939ccc440"
      },
      "outputs": [
        {
          "name": "stdout",
          "output_type": "stream",
          "text": [
            "7/7 [==============================] - 0s 28ms/step - loss: 2.2987 - accuracy: 0.3268\n"
          ]
        },
        {
          "data": {
            "text/plain": [
              "[2.2987422943115234, 0.3268292546272278]"
            ]
          },
          "execution_count": 135,
          "metadata": {},
          "output_type": "execute_result"
        }
      ],
      "source": [
        "model_FConN.evaluate(X_test_Pro, y_test_Pro_encoded)"
      ]
    },
    {
      "cell_type": "code",
      "execution_count": null,
      "metadata": {
        "colab": {
          "base_uri": "https://localhost:8080/"
        },
        "id": "9k39YvPhZxtG",
        "outputId": "4f0ef85d-a9c1-4192-f16c-355406e2c441"
      },
      "outputs": [
        {
          "name": "stdout",
          "output_type": "stream",
          "text": [
            "Epoch 1/10\n",
            "3/3 [==============================] - ETA: 0s - loss: 1.7466 - accuracy: 0.4762"
          ]
        },
        {
          "name": "stderr",
          "output_type": "stream",
          "text": [
            "WARNING:absl:Found untraced functions such as _jit_compiled_convolution_op, _jit_compiled_convolution_op, _jit_compiled_convolution_op, _update_step_xla while saving (showing 4 of 4). These functions will not be directly callable after loading.\n"
          ]
        },
        {
          "name": "stdout",
          "output_type": "stream",
          "text": [
            "\b\b\b\b\b\b\b\b\b\b\b\b\b\b\b\b\b\b\b\b\b\b\b\b\b\b\b\b\b\b\b\b\b\b\b\b\b\b\b\b\b\b\b\b\b\b\b\b\b\b\b\b\b\b\b\b\b\b\b\b\b\b\b\b\b\b\b\b\b\b\b\b\b\b\b\b\b\b\b\b\r3/3 [==============================] - 7s 2s/step - loss: 1.7466 - accuracy: 0.4762 - val_loss: 1.9639 - val_accuracy: 0.0476\n",
            "Epoch 2/10\n",
            "3/3 [==============================] - ETA: 0s - loss: 1.2901 - accuracy: 0.9286"
          ]
        },
        {
          "name": "stderr",
          "output_type": "stream",
          "text": [
            "WARNING:absl:Found untraced functions such as _jit_compiled_convolution_op, _jit_compiled_convolution_op, _jit_compiled_convolution_op, _update_step_xla while saving (showing 4 of 4). These functions will not be directly callable after loading.\n"
          ]
        },
        {
          "name": "stdout",
          "output_type": "stream",
          "text": [
            "\b\b\b\b\b\b\b\b\b\b\b\b\b\b\b\b\b\b\b\b\b\b\b\b\b\b\b\b\b\b\b\b\b\b\b\b\b\b\b\b\b\b\b\b\b\b\b\b\b\b\b\b\b\b\b\b\b\b\b\b\b\b\b\b\b\b\b\b\b\b\b\b\b\b\b\b\b\b\b\b\r3/3 [==============================] - 3s 1s/step - loss: 1.2901 - accuracy: 0.9286 - val_loss: 1.9690 - val_accuracy: 0.0476\n",
            "Epoch 3/10\n",
            "3/3 [==============================] - ETA: 0s - loss: 1.0854 - accuracy: 0.9643"
          ]
        },
        {
          "name": "stderr",
          "output_type": "stream",
          "text": [
            "WARNING:absl:Found untraced functions such as _jit_compiled_convolution_op, _jit_compiled_convolution_op, _jit_compiled_convolution_op, _update_step_xla while saving (showing 4 of 4). These functions will not be directly callable after loading.\n"
          ]
        },
        {
          "name": "stdout",
          "output_type": "stream",
          "text": [
            "\b\b\b\b\b\b\b\b\b\b\b\b\b\b\b\b\b\b\b\b\b\b\b\b\b\b\b\b\b\b\b\b\b\b\b\b\b\b\b\b\b\b\b\b\b\b\b\b\b\b\b\b\b\b\b\b\b\b\b\b\b\b\b\b\b\b\b\b\b\b\b\b\b\b\b\b\b\b\b\b\r3/3 [==============================] - 4s 2s/step - loss: 1.0854 - accuracy: 0.9643 - val_loss: 1.9710 - val_accuracy: 0.0476\n",
            "Epoch 4/10\n",
            "3/3 [==============================] - ETA: 0s - loss: 0.9357 - accuracy: 0.9762"
          ]
        },
        {
          "name": "stderr",
          "output_type": "stream",
          "text": [
            "WARNING:absl:Found untraced functions such as _jit_compiled_convolution_op, _jit_compiled_convolution_op, _jit_compiled_convolution_op, _update_step_xla while saving (showing 4 of 4). These functions will not be directly callable after loading.\n"
          ]
        },
        {
          "name": "stdout",
          "output_type": "stream",
          "text": [
            "\b\b\b\b\b\b\b\b\b\b\b\b\b\b\b\b\b\b\b\b\b\b\b\b\b\b\b\b\b\b\b\b\b\b\b\b\b\b\b\b\b\b\b\b\b\b\b\b\b\b\b\b\b\b\b\b\b\b\b\b\b\b\b\b\b\b\b\b\b\b\b\b\b\b\b\b\b\b\b\b\r3/3 [==============================] - 3s 1s/step - loss: 0.9357 - accuracy: 0.9762 - val_loss: 1.9663 - val_accuracy: 0.0476\n",
            "Epoch 5/10\n",
            "3/3 [==============================] - ETA: 0s - loss: 0.8140 - accuracy: 0.9881"
          ]
        },
        {
          "name": "stderr",
          "output_type": "stream",
          "text": [
            "WARNING:absl:Found untraced functions such as _jit_compiled_convolution_op, _jit_compiled_convolution_op, _jit_compiled_convolution_op, _update_step_xla while saving (showing 4 of 4). These functions will not be directly callable after loading.\n"
          ]
        },
        {
          "name": "stdout",
          "output_type": "stream",
          "text": [
            "\b\b\b\b\b\b\b\b\b\b\b\b\b\b\b\b\b\b\b\b\b\b\b\b\b\b\b\b\b\b\b\b\b\b\b\b\b\b\b\b\b\b\b\b\b\b\b\b\b\b\b\b\b\b\b\b\b\b\b\b\b\b\b\b\b\b\b\b\b\b\b\b\b\b\b\b\b\b\b\b\r3/3 [==============================] - 3s 1s/step - loss: 0.8140 - accuracy: 0.9881 - val_loss: 1.9587 - val_accuracy: 0.0476\n",
            "Epoch 6/10\n",
            "3/3 [==============================] - ETA: 0s - loss: 0.6923 - accuracy: 0.9881"
          ]
        },
        {
          "name": "stderr",
          "output_type": "stream",
          "text": [
            "WARNING:absl:Found untraced functions such as _jit_compiled_convolution_op, _jit_compiled_convolution_op, _jit_compiled_convolution_op, _update_step_xla while saving (showing 4 of 4). These functions will not be directly callable after loading.\n"
          ]
        },
        {
          "name": "stdout",
          "output_type": "stream",
          "text": [
            "\b\b\b\b\b\b\b\b\b\b\b\b\b\b\b\b\b\b\b\b\b\b\b\b\b\b\b\b\b\b\b\b\b\b\b\b\b\b\b\b\b\b\b\b\b\b\b\b\b\b\b\b\b\b\b\b\b\b\b\b\b\b\b\b\b\b\b\b\b\b\b\b\b\b\b\b\b\b\b\b\r3/3 [==============================] - 5s 2s/step - loss: 0.6923 - accuracy: 0.9881 - val_loss: 1.9491 - val_accuracy: 0.0000e+00\n",
            "Epoch 7/10\n",
            "3/3 [==============================] - ETA: 0s - loss: 0.5750 - accuracy: 0.9881"
          ]
        },
        {
          "name": "stderr",
          "output_type": "stream",
          "text": [
            "WARNING:absl:Found untraced functions such as _jit_compiled_convolution_op, _jit_compiled_convolution_op, _jit_compiled_convolution_op, _update_step_xla while saving (showing 4 of 4). These functions will not be directly callable after loading.\n"
          ]
        },
        {
          "name": "stdout",
          "output_type": "stream",
          "text": [
            "\b\b\b\b\b\b\b\b\b\b\b\b\b\b\b\b\b\b\b\b\b\b\b\b\b\b\b\b\b\b\b\b\b\b\b\b\b\b\b\b\b\b\b\b\b\b\b\b\b\b\b\b\b\b\b\b\b\b\b\b\b\b\b\b\b\b\b\b\b\b\b\b\b\b\b\b\b\b\b\b\r3/3 [==============================] - 4s 2s/step - loss: 0.5750 - accuracy: 0.9881 - val_loss: 1.9407 - val_accuracy: 0.1429\n",
            "Epoch 8/10\n",
            "3/3 [==============================] - ETA: 0s - loss: 0.5232 - accuracy: 0.9881"
          ]
        },
        {
          "name": "stderr",
          "output_type": "stream",
          "text": [
            "WARNING:absl:Found untraced functions such as _jit_compiled_convolution_op, _jit_compiled_convolution_op, _jit_compiled_convolution_op, _update_step_xla while saving (showing 4 of 4). These functions will not be directly callable after loading.\n"
          ]
        },
        {
          "name": "stdout",
          "output_type": "stream",
          "text": [
            "\b\b\b\b\b\b\b\b\b\b\b\b\b\b\b\b\b\b\b\b\b\b\b\b\b\b\b\b\b\b\b\b\b\b\b\b\b\b\b\b\b\b\b\b\b\b\b\b\b\b\b\b\b\b\b\b\b\b\b\b\b\b\b\b\b\b\b\b\b\b\b\b\b\b\b\b\b\b\b\b\r3/3 [==============================] - 3s 1s/step - loss: 0.5232 - accuracy: 0.9881 - val_loss: 1.9364 - val_accuracy: 0.1429\n",
            "Epoch 9/10\n",
            "3/3 [==============================] - ETA: 0s - loss: 0.4095 - accuracy: 1.0000"
          ]
        },
        {
          "name": "stderr",
          "output_type": "stream",
          "text": [
            "WARNING:absl:Found untraced functions such as _jit_compiled_convolution_op, _jit_compiled_convolution_op, _jit_compiled_convolution_op, _update_step_xla while saving (showing 4 of 4). These functions will not be directly callable after loading.\n"
          ]
        },
        {
          "name": "stdout",
          "output_type": "stream",
          "text": [
            "\b\b\b\b\b\b\b\b\b\b\b\b\b\b\b\b\b\b\b\b\b\b\b\b\b\b\b\b\b\b\b\b\b\b\b\b\b\b\b\b\b\b\b\b\b\b\b\b\b\b\b\b\b\b\b\b\b\b\b\b\b\b\b\b\b\b\b\b\b\b\b\b\b\b\b\b\b\b\b\b\r3/3 [==============================] - 3s 1s/step - loss: 0.4095 - accuracy: 1.0000 - val_loss: 1.9369 - val_accuracy: 0.1429\n",
            "Epoch 10/10\n",
            "3/3 [==============================] - ETA: 0s - loss: 0.3680 - accuracy: 1.0000"
          ]
        },
        {
          "name": "stderr",
          "output_type": "stream",
          "text": [
            "WARNING:absl:Found untraced functions such as _jit_compiled_convolution_op, _jit_compiled_convolution_op, _jit_compiled_convolution_op, _update_step_xla while saving (showing 4 of 4). These functions will not be directly callable after loading.\n"
          ]
        },
        {
          "name": "stdout",
          "output_type": "stream",
          "text": [
            "\b\b\b\b\b\b\b\b\b\b\b\b\b\b\b\b\b\b\b\b\b\b\b\b\b\b\b\b\b\b\b\b\b\b\b\b\b\b\b\b\b\b\b\b\b\b\b\b\b\b\b\b\b\b\b\b\b\b\b\b\b\b\b\b\b\b\b\b\b\b\b\b\b\b\b\b\b\b\b\b\r3/3 [==============================] - 4s 2s/step - loss: 0.3680 - accuracy: 1.0000 - val_loss: 1.9430 - val_accuracy: 0.1429\n"
          ]
        }
      ],
      "source": [
        "model_FConN = create_FConN((144,1), 7)\n",
        "history = model_FConN.fit(X_train_Plane, y_train_Plane_encoded, validation_split=0.2, epochs=10, callbacks=[early_stopping, checkpoint])"
      ]
    },
    {
      "cell_type": "code",
      "execution_count": null,
      "metadata": {
        "colab": {
          "base_uri": "https://localhost:8080/"
        },
        "id": "A3TXcd09ZxxB",
        "outputId": "d1420170-b6f7-40b7-d2a9-de1fe2e70016"
      },
      "outputs": [
        {
          "name": "stdout",
          "output_type": "stream",
          "text": [
            "4/4 [==============================] - 0s 37ms/step - loss: 2.0543 - accuracy: 0.1143\n"
          ]
        },
        {
          "data": {
            "text/plain": [
              "[2.0542726516723633, 0.11428571492433548]"
            ]
          },
          "execution_count": 137,
          "metadata": {},
          "output_type": "execute_result"
        }
      ],
      "source": [
        "model_FConN.evaluate(X_test_Plane, y_test_Plane_encoded)"
      ]
    },
    {
      "cell_type": "code",
      "execution_count": null,
      "metadata": {
        "colab": {
          "base_uri": "https://localhost:8080/"
        },
        "id": "n33N3nJCZx4Z",
        "outputId": "dc6dde3d-cdb6-4e9d-8bdd-b096225039cb"
      },
      "outputs": [
        {
          "name": "stdout",
          "output_type": "stream",
          "text": [
            "Epoch 1/10\n",
            "3/3 [==============================] - ETA: 0s - loss: 0.6835 - accuracy: 0.6125"
          ]
        },
        {
          "name": "stderr",
          "output_type": "stream",
          "text": [
            "WARNING:absl:Found untraced functions such as _jit_compiled_convolution_op, _jit_compiled_convolution_op, _jit_compiled_convolution_op, _update_step_xla while saving (showing 4 of 4). These functions will not be directly callable after loading.\n"
          ]
        },
        {
          "name": "stdout",
          "output_type": "stream",
          "text": [
            "\b\b\b\b\b\b\b\b\b\b\b\b\b\b\b\b\b\b\b\b\b\b\b\b\b\b\b\b\b\b\b\b\b\b\b\b\b\b\b\b\b\b\b\b\b\b\b\b\b\b\b\b\b\b\b\b\b\b\b\b\b\b\b\b\b\b\b\b\b\b\b\b\b\b\b\b\b\b\b\b\r3/3 [==============================] - 8s 2s/step - loss: 0.6835 - accuracy: 0.6125 - val_loss: 0.7068 - val_accuracy: 0.2500\n",
            "Epoch 2/10\n",
            "3/3 [==============================] - ETA: 0s - loss: 0.5268 - accuracy: 0.7625"
          ]
        },
        {
          "name": "stderr",
          "output_type": "stream",
          "text": [
            "WARNING:absl:Found untraced functions such as _jit_compiled_convolution_op, _jit_compiled_convolution_op, _jit_compiled_convolution_op, _update_step_xla while saving (showing 4 of 4). These functions will not be directly callable after loading.\n"
          ]
        },
        {
          "name": "stdout",
          "output_type": "stream",
          "text": [
            "\b\b\b\b\b\b\b\b\b\b\b\b\b\b\b\b\b\b\b\b\b\b\b\b\b\b\b\b\b\b\b\b\b\b\b\b\b\b\b\b\b\b\b\b\b\b\b\b\b\b\b\b\b\b\b\b\b\b\b\b\b\b\b\b\b\b\b\b\b\b\b\b\b\b\b\b\b\b\b\b\r3/3 [==============================] - 3s 1s/step - loss: 0.5268 - accuracy: 0.7625 - val_loss: 0.6751 - val_accuracy: 0.8500\n",
            "Epoch 3/10\n",
            "3/3 [==============================] - ETA: 0s - loss: 0.5211 - accuracy: 0.7375"
          ]
        },
        {
          "name": "stderr",
          "output_type": "stream",
          "text": [
            "WARNING:absl:Found untraced functions such as _jit_compiled_convolution_op, _jit_compiled_convolution_op, _jit_compiled_convolution_op, _update_step_xla while saving (showing 4 of 4). These functions will not be directly callable after loading.\n"
          ]
        },
        {
          "name": "stdout",
          "output_type": "stream",
          "text": [
            "\b\b\b\b\b\b\b\b\b\b\b\b\b\b\b\b\b\b\b\b\b\b\b\b\b\b\b\b\b\b\b\b\b\b\b\b\b\b\b\b\b\b\b\b\b\b\b\b\b\b\b\b\b\b\b\b\b\b\b\b\b\b\b\b\b\b\b\b\b\b\b\b\b\b\b\b\b\b\b\b\r3/3 [==============================] - 4s 2s/step - loss: 0.5211 - accuracy: 0.7375 - val_loss: 0.6452 - val_accuracy: 0.7500\n",
            "Epoch 4/10\n",
            "3/3 [==============================] - ETA: 0s - loss: 0.4821 - accuracy: 0.8375"
          ]
        },
        {
          "name": "stderr",
          "output_type": "stream",
          "text": [
            "WARNING:absl:Found untraced functions such as _jit_compiled_convolution_op, _jit_compiled_convolution_op, _jit_compiled_convolution_op, _update_step_xla while saving (showing 4 of 4). These functions will not be directly callable after loading.\n"
          ]
        },
        {
          "name": "stdout",
          "output_type": "stream",
          "text": [
            "\b\b\b\b\b\b\b\b\b\b\b\b\b\b\b\b\b\b\b\b\b\b\b\b\b\b\b\b\b\b\b\b\b\b\b\b\b\b\b\b\b\b\b\b\b\b\b\b\b\b\b\b\b\b\b\b\b\b\b\b\b\b\b\b\b\b\b\b\b\b\b\b\b\b\b\b\b\b\b\b\r3/3 [==============================] - 3s 1s/step - loss: 0.4821 - accuracy: 0.8375 - val_loss: 0.6246 - val_accuracy: 0.7500\n",
            "Epoch 5/10\n",
            "3/3 [==============================] - ETA: 0s - loss: 0.4491 - accuracy: 0.8125"
          ]
        },
        {
          "name": "stderr",
          "output_type": "stream",
          "text": [
            "WARNING:absl:Found untraced functions such as _jit_compiled_convolution_op, _jit_compiled_convolution_op, _jit_compiled_convolution_op, _update_step_xla while saving (showing 4 of 4). These functions will not be directly callable after loading.\n"
          ]
        },
        {
          "name": "stdout",
          "output_type": "stream",
          "text": [
            "\b\b\b\b\b\b\b\b\b\b\b\b\b\b\b\b\b\b\b\b\b\b\b\b\b\b\b\b\b\b\b\b\b\b\b\b\b\b\b\b\b\b\b\b\b\b\b\b\b\b\b\b\b\b\b\b\b\b\b\b\b\b\b\b\b\b\b\b\b\b\b\b\b\b\b\b\b\b\b\b\r3/3 [==============================] - 3s 1s/step - loss: 0.4491 - accuracy: 0.8125 - val_loss: 0.6035 - val_accuracy: 0.7500\n",
            "Epoch 6/10\n",
            "3/3 [==============================] - ETA: 0s - loss: 0.4284 - accuracy: 0.8000"
          ]
        },
        {
          "name": "stderr",
          "output_type": "stream",
          "text": [
            "WARNING:absl:Found untraced functions such as _jit_compiled_convolution_op, _jit_compiled_convolution_op, _jit_compiled_convolution_op, _update_step_xla while saving (showing 4 of 4). These functions will not be directly callable after loading.\n"
          ]
        },
        {
          "name": "stdout",
          "output_type": "stream",
          "text": [
            "\b\b\b\b\b\b\b\b\b\b\b\b\b\b\b\b\b\b\b\b\b\b\b\b\b\b\b\b\b\b\b\b\b\b\b\b\b\b\b\b\b\b\b\b\b\b\b\b\b\b\b\b\b\b\b\b\b\b\b\b\b\b\b\b\b\b\b\b\b\b\b\b\b\b\b\b\b\b\b\b\r3/3 [==============================] - 3s 1s/step - loss: 0.4284 - accuracy: 0.8000 - val_loss: 0.5910 - val_accuracy: 0.7500\n",
            "Epoch 7/10\n",
            "3/3 [==============================] - ETA: 0s - loss: 0.4018 - accuracy: 0.8625"
          ]
        },
        {
          "name": "stderr",
          "output_type": "stream",
          "text": [
            "WARNING:absl:Found untraced functions such as _jit_compiled_convolution_op, _jit_compiled_convolution_op, _jit_compiled_convolution_op, _update_step_xla while saving (showing 4 of 4). These functions will not be directly callable after loading.\n"
          ]
        },
        {
          "name": "stdout",
          "output_type": "stream",
          "text": [
            "\b\b\b\b\b\b\b\b\b\b\b\b\b\b\b\b\b\b\b\b\b\b\b\b\b\b\b\b\b\b\b\b\b\b\b\b\b\b\b\b\b\b\b\b\b\b\b\b\b\b\b\b\b\b\b\b\b\b\b\b\b\b\b\b\b\b\b\b\b\b\b\b\b\b\b\b\b\b\b\b\r3/3 [==============================] - 5s 2s/step - loss: 0.4018 - accuracy: 0.8625 - val_loss: 0.5776 - val_accuracy: 0.7500\n",
            "Epoch 8/10\n",
            "3/3 [==============================] - ETA: 0s - loss: 0.3871 - accuracy: 0.8625"
          ]
        },
        {
          "name": "stderr",
          "output_type": "stream",
          "text": [
            "WARNING:absl:Found untraced functions such as _jit_compiled_convolution_op, _jit_compiled_convolution_op, _jit_compiled_convolution_op, _update_step_xla while saving (showing 4 of 4). These functions will not be directly callable after loading.\n"
          ]
        },
        {
          "name": "stdout",
          "output_type": "stream",
          "text": [
            "\b\b\b\b\b\b\b\b\b\b\b\b\b\b\b\b\b\b\b\b\b\b\b\b\b\b\b\b\b\b\b\b\b\b\b\b\b\b\b\b\b\b\b\b\b\b\b\b\b\b\b\b\b\b\b\b\b\b\b\b\b\b\b\b\b\b\b\b\b\b\b\b\b\b\b\b\b\b\b\b\r3/3 [==============================] - 3s 1s/step - loss: 0.3871 - accuracy: 0.8625 - val_loss: 0.5672 - val_accuracy: 0.7500\n",
            "Epoch 9/10\n",
            "3/3 [==============================] - ETA: 0s - loss: 0.3705 - accuracy: 0.8500"
          ]
        },
        {
          "name": "stderr",
          "output_type": "stream",
          "text": [
            "WARNING:absl:Found untraced functions such as _jit_compiled_convolution_op, _jit_compiled_convolution_op, _jit_compiled_convolution_op, _update_step_xla while saving (showing 4 of 4). These functions will not be directly callable after loading.\n"
          ]
        },
        {
          "name": "stdout",
          "output_type": "stream",
          "text": [
            "\b\b\b\b\b\b\b\b\b\b\b\b\b\b\b\b\b\b\b\b\b\b\b\b\b\b\b\b\b\b\b\b\b\b\b\b\b\b\b\b\b\b\b\b\b\b\b\b\b\b\b\b\b\b\b\b\b\b\b\b\b\b\b\b\b\b\b\b\b\b\b\b\b\b\b\b\b\b\b\b\r3/3 [==============================] - 3s 1s/step - loss: 0.3705 - accuracy: 0.8500 - val_loss: 0.5585 - val_accuracy: 0.7500\n",
            "Epoch 10/10\n",
            "3/3 [==============================] - ETA: 0s - loss: 0.3539 - accuracy: 0.9000"
          ]
        },
        {
          "name": "stderr",
          "output_type": "stream",
          "text": [
            "WARNING:absl:Found untraced functions such as _jit_compiled_convolution_op, _jit_compiled_convolution_op, _jit_compiled_convolution_op, _update_step_xla while saving (showing 4 of 4). These functions will not be directly callable after loading.\n"
          ]
        },
        {
          "name": "stdout",
          "output_type": "stream",
          "text": [
            "\b\b\b\b\b\b\b\b\b\b\b\b\b\b\b\b\b\b\b\b\b\b\b\b\b\b\b\b\b\b\b\b\b\b\b\b\b\b\b\b\b\b\b\b\b\b\b\b\b\b\b\b\b\b\b\b\b\b\b\b\b\b\b\b\b\b\b\b\b\b\b\b\b\b\b\b\b\b\b\b\r3/3 [==============================] - 3s 1s/step - loss: 0.3539 - accuracy: 0.9000 - val_loss: 0.5550 - val_accuracy: 0.7500\n"
          ]
        }
      ],
      "source": [
        "model_FConN = create_FConN((96,1), 2)\n",
        "history = model_FConN.fit(X_train_ECG, y_train_ECG_encoded, validation_split=0.2, epochs=10, callbacks=[early_stopping, checkpoint])"
      ]
    },
    {
      "cell_type": "code",
      "execution_count": null,
      "metadata": {
        "colab": {
          "base_uri": "https://localhost:8080/"
        },
        "id": "0B8wP0pJm1W1",
        "outputId": "d48c3bd3-b673-4334-8c3e-2977831e9751"
      },
      "outputs": [
        {
          "name": "stdout",
          "output_type": "stream",
          "text": [
            "4/4 [==============================] - 0s 26ms/step - loss: 0.6554 - accuracy: 0.6400\n"
          ]
        },
        {
          "data": {
            "text/plain": [
              "[0.6553900241851807, 0.6399999856948853]"
            ]
          },
          "execution_count": 139,
          "metadata": {},
          "output_type": "execute_result"
        }
      ],
      "source": [
        "model_FConN.evaluate(X_test_ECG, y_test_ECG_encoded)"
      ]
    },
    {
      "cell_type": "markdown",
      "metadata": {
        "id": "aYGxGXfnG1c6"
      },
      "source": [
        "### Task 3: Time series classification using deep learning 3"
      ]
    },
    {
      "attachments": {},
      "cell_type": "markdown",
      "metadata": {
        "id": "ZbqsQIicG_nb"
      },
      "source": [
        "Next, WE try to further improve your model by selecting one of the following ideas (or you can suggest your own ideas that are not trivial):\n",
        "- Use residual connection to your model (= implement **ResNet** in [this](https://arxiv.org/abs/1611.06455) paper). \n",
        "- Add transformer/attention layer to your model (you can choose any model from Tasks 1 and 2).\n",
        "- Use RNN and CNN networks separately, create two to three layers individually, and concatenate them. This means that until the third (or second) layer, you have two different networks handling the same dataset, and after that, you concatenate the output and finish with any FCN layer. Check [this post](https://stackoverflow.com/questions/59168306/how-to-combine-lstm-and-cnn-in-timeseries-classification) to get inspired.\n",
        "- Apply any sktime's transformer (not attention transformer) first to the dataset and run any deep learning model you already developed in Tasks 2 and 3. In this case, you need to choose at least two transformers and apply them together.\n",
        "- Train the model on multiple similar datasets and test it on one specific test set. Check if the model can be improved if it is trained on multiple datasets. However, for this, you may need to choose the similar datasets based on their classification (UCR repository has a specific dataset type such as **AUDIO** or **MOTION**).\n",
        "\n",
        "Choosing one model from the models you have developed in Tasks 1 and 2. Select one idea, implementing it, and checking if you can improve the performance. Note that we do not need to prove that the accuracy scores increase but must explain your trials. Report test scores on three datasets you chose."
      ]
    },
    {
      "cell_type": "code",
      "execution_count": null,
      "metadata": {
        "id": "a1lwUBQCZPGN"
      },
      "outputs": [],
      "source": [
        "# #fully connected network\n",
        "def create_FCN(input_shape, num_labels):\n",
        "    model = keras.models.Sequential([\n",
        "    keras.layers.Dense(300, input_shape=[input_shape], activation='relu', name='dense1'),\n",
        "    keras.layers.Dense(100, activation='relu', name='dense2'),\n",
        "    keras.layers.Dense(num_labels, activation='sigmoid', name='output')\n",
        "])\n",
        "    \n",
        "    model.compile(loss=\"categorical_crossentropy\", \n",
        "                  optimizer=\"sgd\", \n",
        "                  metrics=[\"accuracy\"])\n",
        "    return model\n"
      ]
    },
    {
      "cell_type": "code",
      "execution_count": null,
      "metadata": {
        "id": "A-P5-a3Tc6Oe"
      },
      "outputs": [],
      "source": [
        "from tensorflow.keras import layers\n",
        "\n",
        "def create_FCN_attention(input_shape, num_labels):\n",
        "    # Define input layers\n",
        "    inputs = layers.Input(shape=[input_shape], name='input')\n",
        "    \n",
        "    # Fully connected layers\n",
        "    x = layers.Dense(300, activation='relu', name='dense1')(inputs)\n",
        "    x = layers.Dense(100, activation='relu', name='dense2')(x)\n",
        "\n",
        "    # Attention layer\n",
        "    query = layers.Dense(64, activation='relu', name='query')(x)\n",
        "    value = layers.Dense(64, activation='relu', name='value')(x)\n",
        "    attention = layers.Attention()([query, value])\n",
        "\n",
        "    # Output layer\n",
        "    outputs = layers.Dense(num_labels, activation='sigmoid', name='output')(attention)\n",
        "    \n",
        "    # Create model\n",
        "    model = keras.Model(inputs=inputs, outputs=outputs)\n",
        "    \n",
        "    # Compile model\n",
        "    model.compile(loss=\"categorical_crossentropy\", optimizer=\"sgd\", metrics=[\"accuracy\"])\n",
        "    \n",
        "    return model\n"
      ]
    },
    {
      "cell_type": "code",
      "execution_count": null,
      "metadata": {
        "colab": {
          "base_uri": "https://localhost:8080/"
        },
        "id": "jer_QbG7hhMH",
        "outputId": "660fb8dd-c8e9-44b7-ccb9-f980f80766c5"
      },
      "outputs": [
        {
          "name": "stdout",
          "output_type": "stream",
          "text": [
            "Epoch 1/10\n",
            " 1/10 [==>...........................] - ETA: 8s - loss: 1.7948 - accuracy: 0.0938"
          ]
        },
        {
          "name": "stderr",
          "output_type": "stream",
          "text": [
            "WARNING:absl:Found untraced functions such as _update_step_xla while saving (showing 1 of 1). These functions will not be directly callable after loading.\n"
          ]
        },
        {
          "name": "stdout",
          "output_type": "stream",
          "text": [
            "\b\b\b\b\b\b\b\b\b\b\b\b\b\b\b\b\b\b\b\b\b\b\b\b\b\b\b\b\b\b\b\b\b\b\b\b\b\b\b\b\b\b\b\b\b\b\b\b\b\b\b\b\b\b\b\b\b\b\b\b\b\b\b\b\b\b\b\b\b\b\b\b\b\b\b\b\b\b\b\b\b\b\r10/10 [==============================] - 2s 138ms/step - loss: 1.6555 - accuracy: 0.4031 - val_loss: 1.4688 - val_accuracy: 0.4875\n",
            "Epoch 2/10\n",
            " 1/10 [==>...........................] - ETA: 0s - loss: 1.5751 - accuracy: 0.3750"
          ]
        },
        {
          "name": "stderr",
          "output_type": "stream",
          "text": [
            "WARNING:absl:Found untraced functions such as _update_step_xla while saving (showing 1 of 1). These functions will not be directly callable after loading.\n"
          ]
        },
        {
          "name": "stdout",
          "output_type": "stream",
          "text": [
            "\b\b\b\b\b\b\b\b\b\b\b\b\b\b\b\b\b\b\b\b\b\b\b\b\b\b\b\b\b\b\b\b\b\b\b\b\b\b\b\b\b\b\b\b\b\b\b\b\b\b\b\b\b\b\b\b\b\b\b\b\b\b\b\b\b\b\b\b\b\b\b\b\b\b\b\b\b\b\b\b\b\b\r10/10 [==============================] - 1s 145ms/step - loss: 1.5037 - accuracy: 0.4406 - val_loss: 1.4146 - val_accuracy: 0.4875\n",
            "Epoch 3/10\n",
            " 1/10 [==>...........................] - ETA: 0s - loss: 1.5177 - accuracy: 0.4375"
          ]
        },
        {
          "name": "stderr",
          "output_type": "stream",
          "text": [
            "WARNING:absl:Found untraced functions such as _update_step_xla while saving (showing 1 of 1). These functions will not be directly callable after loading.\n"
          ]
        },
        {
          "name": "stdout",
          "output_type": "stream",
          "text": [
            "\b\b\b\b\b\b\b\b\b\b\b\b\b\b\b\b\b\b\b\b\b\b\b\b\b\b\b\b\b\b\b\b\b\b\b\b\b\b\b\b\b\b\b\b\b\b\b\b\b\b\b\b\b\b\b\b\b\b\b\b\b\b\b\b\b\b\b\b\b\b\b\b\b\b\b\b\b\b\b\b\b\b\r10/10 [==============================] - 1s 108ms/step - loss: 1.4552 - accuracy: 0.4406 - val_loss: 1.4145 - val_accuracy: 0.4875\n",
            "Epoch 4/10\n",
            " 1/10 [==>...........................] - ETA: 0s - loss: 1.4454 - accuracy: 0.5312"
          ]
        },
        {
          "name": "stderr",
          "output_type": "stream",
          "text": [
            "WARNING:absl:Found untraced functions such as _update_step_xla while saving (showing 1 of 1). These functions will not be directly callable after loading.\n"
          ]
        },
        {
          "name": "stdout",
          "output_type": "stream",
          "text": [
            "\b\b\b\b\b\b\b\b\b\b\b\b\b\b\b\b\b\b\b\b\b\b\b\b\b\b\b\b\b\b\b\b\b\b\b\b\b\b\b\b\b\b\b\b\b\b\b\b\b\b\b\b\b\b\b\b\b\b\b\b\b\b\b\b\b\b\b\b\b\b\b\b\b\b\b\b\b\b\b\b\b\b\r10/10 [==============================] - 1s 110ms/step - loss: 1.4332 - accuracy: 0.4406 - val_loss: 1.4172 - val_accuracy: 0.4875\n",
            "Epoch 5/10\n",
            " 1/10 [==>...........................] - ETA: 0s - loss: 1.3960 - accuracy: 0.4375"
          ]
        },
        {
          "name": "stderr",
          "output_type": "stream",
          "text": [
            "WARNING:absl:Found untraced functions such as _update_step_xla while saving (showing 1 of 1). These functions will not be directly callable after loading.\n"
          ]
        },
        {
          "name": "stdout",
          "output_type": "stream",
          "text": [
            "\b\b\b\b\b\b\b\b\b\b\b\b\b\b\b\b\b\b\b\b\b\b\b\b\b\b\b\b\b\b\b\b\b\b\b\b\b\b\b\b\b\b\b\b\b\b\b\b\b\b\b\b\b\b\b\b\b\b\b\b\b\b\b\b\b\b\b\b\b\b\b\b\b\b\b\b\b\b\b\b\b\b\r10/10 [==============================] - 1s 115ms/step - loss: 1.4249 - accuracy: 0.4406 - val_loss: 1.4155 - val_accuracy: 0.4875\n",
            "Epoch 6/10\n",
            " 1/10 [==>...........................] - ETA: 0s - loss: 1.2105 - accuracy: 0.6250"
          ]
        },
        {
          "name": "stderr",
          "output_type": "stream",
          "text": [
            "WARNING:absl:Found untraced functions such as _update_step_xla while saving (showing 1 of 1). These functions will not be directly callable after loading.\n"
          ]
        },
        {
          "name": "stdout",
          "output_type": "stream",
          "text": [
            "\b\b\b\b\b\b\b\b\b\b\b\b\b\b\b\b\b\b\b\b\b\b\b\b\b\b\b\b\b\b\b\b\b\b\b\b\b\b\b\b\b\b\b\b\b\b\b\b\b\b\b\b\b\b\b\b\b\b\b\b\b\b\b\b\b\b\b\b\b\b\b\b\b\b\b\b\b\b\b\b\b\b\r10/10 [==============================] - 1s 165ms/step - loss: 1.4155 - accuracy: 0.4406 - val_loss: 1.4266 - val_accuracy: 0.4875\n",
            "Epoch 7/10\n",
            " 1/10 [==>...........................] - ETA: 0s - loss: 1.5660 - accuracy: 0.4062"
          ]
        },
        {
          "name": "stderr",
          "output_type": "stream",
          "text": [
            "WARNING:absl:Found untraced functions such as _update_step_xla while saving (showing 1 of 1). These functions will not be directly callable after loading.\n"
          ]
        },
        {
          "name": "stdout",
          "output_type": "stream",
          "text": [
            "\b\b\b\b\b\b\b\b\b\b\b\b\b\b\b\b\b\b\b\b\b\b\b\b\b\b\b\b\b\b\b\b\b\b\b\b\b\b\b\b\b\b\b\b\b\b\b\b\b\b\b\b\b\b\b\b\b\b\b\b\b\b\b\b\b\b\b\b\b\b\b\b\b\b\b\b\b\b\b\b\b\b\r10/10 [==============================] - 1s 158ms/step - loss: 1.4157 - accuracy: 0.4406 - val_loss: 1.4149 - val_accuracy: 0.4875\n",
            "Epoch 8/10\n",
            " 1/10 [==>...........................] - ETA: 0s - loss: 1.2981 - accuracy: 0.5000"
          ]
        },
        {
          "name": "stderr",
          "output_type": "stream",
          "text": [
            "WARNING:absl:Found untraced functions such as _update_step_xla while saving (showing 1 of 1). These functions will not be directly callable after loading.\n"
          ]
        },
        {
          "name": "stdout",
          "output_type": "stream",
          "text": [
            "\b\b\b\b\b\b\b\b\b\b\b\b\b\b\b\b\b\b\b\b\b\b\b\b\b\b\b\b\b\b\b\b\b\b\b\b\b\b\b\b\b\b\b\b\b\b\b\b\b\b\b\b\b\b\b\b\b\b\b\b\b\b\b\b\b\b\b\b\b\b\b\b\b\b\b\b\b\b\b\b\b\b\r10/10 [==============================] - 1s 153ms/step - loss: 1.4134 - accuracy: 0.4406 - val_loss: 1.4192 - val_accuracy: 0.4875\n",
            "Epoch 9/10\n",
            " 1/10 [==>...........................] - ETA: 0s - loss: 1.4687 - accuracy: 0.4375"
          ]
        },
        {
          "name": "stderr",
          "output_type": "stream",
          "text": [
            "WARNING:absl:Found untraced functions such as _update_step_xla while saving (showing 1 of 1). These functions will not be directly callable after loading.\n"
          ]
        },
        {
          "name": "stdout",
          "output_type": "stream",
          "text": [
            "\b\b\b\b\b\b\b\b\b\b\b\b\b\b\b\b\b\b\b\b\b\b\b\b\b\b\b\b\b\b\b\b\b\b\b\b\b\b\b\b\b\b\b\b\b\b\b\b\b\b\b\b\b\b\b\b\b\b\b\b\b\b\b\b\b\b\b\b\b\b\b\b\b\b\b\b\b\b\b\b\b\b\r10/10 [==============================] - 1s 108ms/step - loss: 1.4125 - accuracy: 0.4406 - val_loss: 1.4373 - val_accuracy: 0.4875\n",
            "Epoch 10/10\n",
            " 1/10 [==>...........................] - ETA: 0s - loss: 1.2839 - accuracy: 0.4375"
          ]
        },
        {
          "name": "stderr",
          "output_type": "stream",
          "text": [
            "WARNING:absl:Found untraced functions such as _update_step_xla while saving (showing 1 of 1). These functions will not be directly callable after loading.\n"
          ]
        },
        {
          "name": "stdout",
          "output_type": "stream",
          "text": [
            "\b\b\b\b\b\b\b\b\b\b\b\b\b\b\b\b\b\b\b\b\b\b\b\b\b\b\b\b\b\b\b\b\b\b\b\b\b\b\b\b\b\b\b\b\b\b\b\b\b\b\b\b\b\b\b\b\b\b\b\b\b\b\b\b\b\b\b\b\b\b\b\b\b\b\b\b\b\b\b\b\b\b\r10/10 [==============================] - 1s 108ms/step - loss: 1.4104 - accuracy: 0.4406 - val_loss: 1.4145 - val_accuracy: 0.4875\n"
          ]
        }
      ],
      "source": [
        "model_FCN_att = create_FCN_attention(80,6)\n",
        "history = model_FCN_att.fit(x= train_ds_Pro, validation_data= valid_ds_Pro, epochs=10, callbacks=[early_stopping, checkpoint])"
      ]
    },
    {
      "cell_type": "code",
      "execution_count": null,
      "metadata": {
        "colab": {
          "base_uri": "https://localhost:8080/"
        },
        "id": "TbUx8BEChhP-",
        "outputId": "9b9fe05e-a101-452f-b1ec-35f3d3f14f0f"
      },
      "outputs": [
        {
          "name": "stdout",
          "output_type": "stream",
          "text": [
            "7/7 [==============================] - 0s 3ms/step - loss: 1.4786 - accuracy: 0.3512\n"
          ]
        },
        {
          "data": {
            "text/plain": [
              "[1.4785864353179932, 0.35121950507164]"
            ]
          },
          "execution_count": 51,
          "metadata": {},
          "output_type": "execute_result"
        }
      ],
      "source": [
        "model_FCN_att.evaluate(test_ds_Pro)"
      ]
    },
    {
      "cell_type": "code",
      "execution_count": null,
      "metadata": {
        "colab": {
          "base_uri": "https://localhost:8080/"
        },
        "id": "G0HoJz0Wig0x",
        "outputId": "5259319a-8a6d-4b11-d34d-ed7f516ffffc"
      },
      "outputs": [
        {
          "name": "stdout",
          "output_type": "stream",
          "text": [
            "Epoch 1/10\n",
            "1/3 [=========>....................] - ETA: 1s - loss: 2.0428 - accuracy: 0.2188"
          ]
        },
        {
          "name": "stderr",
          "output_type": "stream",
          "text": [
            "WARNING:absl:Found untraced functions such as _update_step_xla while saving (showing 1 of 1). These functions will not be directly callable after loading.\n"
          ]
        },
        {
          "name": "stdout",
          "output_type": "stream",
          "text": [
            "\b\b\b\b\b\b\b\b\b\b\b\b\b\b\b\b\b\b\b\b\b\b\b\b\b\b\b\b\b\b\b\b\b\b\b\b\b\b\b\b\b\b\b\b\b\b\b\b\b\b\b\b\b\b\b\b\b\b\b\b\b\b\b\b\b\b\b\b\b\b\b\b\b\b\b\b\b\b\b\b\r3/3 [==============================] - 2s 561ms/step - loss: 2.0068 - accuracy: 0.1905 - val_loss: 1.9411 - val_accuracy: 0.1905\n",
            "Epoch 2/10\n",
            "1/3 [=========>....................] - ETA: 0s - loss: 1.9689 - accuracy: 0.1562"
          ]
        },
        {
          "name": "stderr",
          "output_type": "stream",
          "text": [
            "WARNING:absl:Found untraced functions such as _update_step_xla while saving (showing 1 of 1). These functions will not be directly callable after loading.\n"
          ]
        },
        {
          "name": "stdout",
          "output_type": "stream",
          "text": [
            "\b\b\b\b\b\b\b\b\b\b\b\b\b\b\b\b\b\b\b\b\b\b\b\b\b\b\b\b\b\b\b\b\b\b\b\b\b\b\b\b\b\b\b\b\b\b\b\b\b\b\b\b\b\b\b\b\b\b\b\b\b\b\b\b\b\b\b\b\b\b\b\b\b\b\b\b\b\b\b\b\r3/3 [==============================] - 1s 507ms/step - loss: 1.9532 - accuracy: 0.1905 - val_loss: 1.9390 - val_accuracy: 0.1905\n",
            "Epoch 3/10\n",
            "1/3 [=========>....................] - ETA: 0s - loss: 1.9134 - accuracy: 0.2500"
          ]
        },
        {
          "name": "stderr",
          "output_type": "stream",
          "text": [
            "WARNING:absl:Found untraced functions such as _update_step_xla while saving (showing 1 of 1). These functions will not be directly callable after loading.\n"
          ]
        },
        {
          "name": "stdout",
          "output_type": "stream",
          "text": [
            "\b\b\b\b\b\b\b\b\b\b\b\b\b\b\b\b\b\b\b\b\b\b\b\b\b\b\b\b\b\b\b\b\b\b\b\b\b\b\b\b\b\b\b\b\b\b\b\b\b\b\b\b\b\b\b\b\b\b\b\b\b\b\b\b\b\b\b\b\b\b\b\b\b\b\b\b\b\b\b\b\r3/3 [==============================] - 1s 485ms/step - loss: 1.9295 - accuracy: 0.1905 - val_loss: 1.9288 - val_accuracy: 0.1905\n",
            "Epoch 4/10\n",
            "1/3 [=========>....................] - ETA: 0s - loss: 1.9096 - accuracy: 0.1875"
          ]
        },
        {
          "name": "stderr",
          "output_type": "stream",
          "text": [
            "WARNING:absl:Found untraced functions such as _update_step_xla while saving (showing 1 of 1). These functions will not be directly callable after loading.\n"
          ]
        },
        {
          "name": "stdout",
          "output_type": "stream",
          "text": [
            "\b\b\b\b\b\b\b\b\b\b\b\b\b\b\b\b\b\b\b\b\b\b\b\b\b\b\b\b\b\b\b\b\b\b\b\b\b\b\b\b\b\b\b\b\b\b\b\b\b\b\b\b\b\b\b\b\b\b\b\b\b\b\b\b\b\b\b\b\b\b\b\b\b\b\b\b\b\b\b\b\r3/3 [==============================] - 1s 677ms/step - loss: 1.9143 - accuracy: 0.1905 - val_loss: 1.9127 - val_accuracy: 0.1905\n",
            "Epoch 5/10\n",
            "1/3 [=========>....................] - ETA: 0s - loss: 1.9468 - accuracy: 0.1250"
          ]
        },
        {
          "name": "stderr",
          "output_type": "stream",
          "text": [
            "WARNING:absl:Found untraced functions such as _update_step_xla while saving (showing 1 of 1). These functions will not be directly callable after loading.\n"
          ]
        },
        {
          "name": "stdout",
          "output_type": "stream",
          "text": [
            "\b\b\b\b\b\b\b\b\b\b\b\b\b\b\b\b\b\b\b\b\b\b\b\b\b\b\b\b\b\b\b\b\b\b\b\b\b\b\b\b\b\b\b\b\b\b\b\b\b\b\b\b\b\b\b\b\b\b\b\b\b\b\b\b\b\b\b\b\b\b\b\b\b\b\b\b\b\b\b\b\r3/3 [==============================] - 1s 663ms/step - loss: 1.9136 - accuracy: 0.1905 - val_loss: 1.8984 - val_accuracy: 0.1905\n",
            "Epoch 6/10\n",
            "1/3 [=========>....................] - ETA: 0s - loss: 1.8989 - accuracy: 0.1562"
          ]
        },
        {
          "name": "stderr",
          "output_type": "stream",
          "text": [
            "WARNING:absl:Found untraced functions such as _update_step_xla while saving (showing 1 of 1). These functions will not be directly callable after loading.\n"
          ]
        },
        {
          "name": "stdout",
          "output_type": "stream",
          "text": [
            "\b\b\b\b\b\b\b\b\b\b\b\b\b\b\b\b\b\b\b\b\b\b\b\b\b\b\b\b\b\b\b\b\b\b\b\b\b\b\b\b\b\b\b\b\b\b\b\b\b\b\b\b\b\b\b\b\b\b\b\b\b\b\b\b\b\b\b\b\b\b\b\b\b\b\b\b\b\b\b\b\r3/3 [==============================] - 1s 484ms/step - loss: 1.8813 - accuracy: 0.1905 - val_loss: 1.8974 - val_accuracy: 0.1905\n",
            "Epoch 7/10\n",
            "1/3 [=========>....................] - ETA: 0s - loss: 1.8542 - accuracy: 0.1875"
          ]
        },
        {
          "name": "stderr",
          "output_type": "stream",
          "text": [
            "WARNING:absl:Found untraced functions such as _update_step_xla while saving (showing 1 of 1). These functions will not be directly callable after loading.\n"
          ]
        },
        {
          "name": "stdout",
          "output_type": "stream",
          "text": [
            "\b\b\b\b\b\b\b\b\b\b\b\b\b\b\b\b\b\b\b\b\b\b\b\b\b\b\b\b\b\b\b\b\b\b\b\b\b\b\b\b\b\b\b\b\b\b\b\b\b\b\b\b\b\b\b\b\b\b\b\b\b\b\b\b\b\b\b\b\b\b\b\b\b\b\b\b\b\b\b\b\r3/3 [==============================] - 1s 480ms/step - loss: 1.8621 - accuracy: 0.1905 - val_loss: 1.8693 - val_accuracy: 0.1905\n",
            "Epoch 8/10\n",
            "1/3 [=========>....................] - ETA: 0s - loss: 1.8569 - accuracy: 0.1250"
          ]
        },
        {
          "name": "stderr",
          "output_type": "stream",
          "text": [
            "WARNING:absl:Found untraced functions such as _update_step_xla while saving (showing 1 of 1). These functions will not be directly callable after loading.\n"
          ]
        },
        {
          "name": "stdout",
          "output_type": "stream",
          "text": [
            "\b\b\b\b\b\b\b\b\b\b\b\b\b\b\b\b\b\b\b\b\b\b\b\b\b\b\b\b\b\b\b\b\b\b\b\b\b\b\b\b\b\b\b\b\b\b\b\b\b\b\b\b\b\b\b\b\b\b\b\b\b\b\b\b\b\b\b\b\b\b\b\b\b\b\b\b\b\b\b\b\r3/3 [==============================] - 1s 502ms/step - loss: 1.8299 - accuracy: 0.1905 - val_loss: 1.8464 - val_accuracy: 0.1905\n",
            "Epoch 9/10\n",
            "1/3 [=========>....................] - ETA: 0s - loss: 1.7748 - accuracy: 0.2188"
          ]
        },
        {
          "name": "stderr",
          "output_type": "stream",
          "text": [
            "WARNING:absl:Found untraced functions such as _update_step_xla while saving (showing 1 of 1). These functions will not be directly callable after loading.\n"
          ]
        },
        {
          "name": "stdout",
          "output_type": "stream",
          "text": [
            "\b\b\b\b\b\b\b\b\b\b\b\b\b\b\b\b\b\b\b\b\b\b\b\b\b\b\b\b\b\b\b\b\b\b\b\b\b\b\b\b\b\b\b\b\b\b\b\b\b\b\b\b\b\b\b\b\b\b\b\b\b\b\b\b\b\b\b\b\b\b\b\b\b\b\b\b\b\b\b\b\r3/3 [==============================] - 1s 478ms/step - loss: 1.7804 - accuracy: 0.2500 - val_loss: 1.8124 - val_accuracy: 0.1905\n",
            "Epoch 10/10\n",
            "1/3 [=========>....................] - ETA: 0s - loss: 1.7279 - accuracy: 0.3750"
          ]
        },
        {
          "name": "stderr",
          "output_type": "stream",
          "text": [
            "WARNING:absl:Found untraced functions such as _update_step_xla while saving (showing 1 of 1). These functions will not be directly callable after loading.\n"
          ]
        },
        {
          "name": "stdout",
          "output_type": "stream",
          "text": [
            "\b\b\b\b\b\b\b\b\b\b\b\b\b\b\b\b\b\b\b\b\b\b\b\b\b\b\b\b\b\b\b\b\b\b\b\b\b\b\b\b\b\b\b\b\b\b\b\b\b\b\b\b\b\b\b\b\b\b\b\b\b\b\b\b\b\b\b\b\b\b\b\b\b\b\b\b\b\b\b\b\r3/3 [==============================] - 1s 483ms/step - loss: 1.7202 - accuracy: 0.3214 - val_loss: 1.7534 - val_accuracy: 0.3333\n"
          ]
        }
      ],
      "source": [
        "model_FCN_att = create_FCN_attention(144,7)\n",
        "history = model_FCN_att.fit(x= train_ds_Plane, validation_data= valid_ds_Plane, epochs=10, callbacks=[early_stopping, checkpoint])"
      ]
    },
    {
      "cell_type": "code",
      "execution_count": null,
      "metadata": {
        "colab": {
          "base_uri": "https://localhost:8080/"
        },
        "id": "GqMF3b96ig5Z",
        "outputId": "f6406fff-5817-4d7d-cd42-371e0bc387de"
      },
      "outputs": [
        {
          "name": "stdout",
          "output_type": "stream",
          "text": [
            "4/4 [==============================] - 0s 4ms/step - loss: 1.7616 - accuracy: 0.2952\n"
          ]
        },
        {
          "data": {
            "text/plain": [
              "[1.7616060972213745, 0.29523810744285583]"
            ]
          },
          "execution_count": 53,
          "metadata": {},
          "output_type": "execute_result"
        }
      ],
      "source": [
        "model_FCN_att.evaluate(test_ds_Plane)"
      ]
    },
    {
      "cell_type": "code",
      "execution_count": null,
      "metadata": {
        "colab": {
          "base_uri": "https://localhost:8080/"
        },
        "id": "qL5KOtxYihAe",
        "outputId": "8c0362bb-a58a-4b63-b048-9ffdcad4484b"
      },
      "outputs": [
        {
          "name": "stdout",
          "output_type": "stream",
          "text": [
            "Epoch 1/10\n",
            "1/3 [=========>....................] - ETA: 2s - loss: 0.6588 - accuracy: 0.6562"
          ]
        },
        {
          "name": "stderr",
          "output_type": "stream",
          "text": [
            "WARNING:absl:Found untraced functions such as _update_step_xla while saving (showing 1 of 1). These functions will not be directly callable after loading.\n"
          ]
        },
        {
          "name": "stdout",
          "output_type": "stream",
          "text": [
            "\b\b\b\b\b\b\b\b\b\b\b\b\b\b\b\b\b\b\b\b\b\b\b\b\b\b\b\b\b\b\b\b\b\b\b\b\b\b\b\b\b\b\b\b\b\b\b\b\b\b\b\b\b\b\b\b\b\b\b\b\b\b\b\b\b\b\b\b\b\b\b\b\b\b\b\b\b\b\b\b\r3/3 [==============================] - 2s 583ms/step - loss: 0.6453 - accuracy: 0.6962 - val_loss: 0.6341 - val_accuracy: 0.6667\n",
            "Epoch 2/10\n",
            "1/3 [=========>....................] - ETA: 0s - loss: 0.6612 - accuracy: 0.6250"
          ]
        },
        {
          "name": "stderr",
          "output_type": "stream",
          "text": [
            "WARNING:absl:Found untraced functions such as _update_step_xla while saving (showing 1 of 1). These functions will not be directly callable after loading.\n"
          ]
        },
        {
          "name": "stdout",
          "output_type": "stream",
          "text": [
            "\b\b\b\b\b\b\b\b\b\b\b\b\b\b\b\b\b\b\b\b\b\b\b\b\b\b\b\b\b\b\b\b\b\b\b\b\b\b\b\b\b\b\b\b\b\b\b\b\b\b\b\b\b\b\b\b\b\b\b\b\b\b\b\b\b\b\b\b\b\b\b\b\b\b\b\b\b\b\b\b\r3/3 [==============================] - 1s 484ms/step - loss: 0.6202 - accuracy: 0.6962 - val_loss: 0.6362 - val_accuracy: 0.6667\n",
            "Epoch 3/10\n",
            "1/3 [=========>....................] - ETA: 0s - loss: 0.5940 - accuracy: 0.7188"
          ]
        },
        {
          "name": "stderr",
          "output_type": "stream",
          "text": [
            "WARNING:absl:Found untraced functions such as _update_step_xla while saving (showing 1 of 1). These functions will not be directly callable after loading.\n"
          ]
        },
        {
          "name": "stdout",
          "output_type": "stream",
          "text": [
            "\b\b\b\b\b\b\b\b\b\b\b\b\b\b\b\b\b\b\b\b\b\b\b\b\b\b\b\b\b\b\b\b\b\b\b\b\b\b\b\b\b\b\b\b\b\b\b\b\b\b\b\b\b\b\b\b\b\b\b\b\b\b\b\b\b\b\b\b\b\b\b\b\b\b\b\b\b\b\b\b\r3/3 [==============================] - 1s 487ms/step - loss: 0.6104 - accuracy: 0.6962 - val_loss: 0.6380 - val_accuracy: 0.6667\n",
            "Epoch 4/10\n",
            "1/3 [=========>....................] - ETA: 0s - loss: 0.5905 - accuracy: 0.7188"
          ]
        },
        {
          "name": "stderr",
          "output_type": "stream",
          "text": [
            "WARNING:absl:Found untraced functions such as _update_step_xla while saving (showing 1 of 1). These functions will not be directly callable after loading.\n"
          ]
        },
        {
          "name": "stdout",
          "output_type": "stream",
          "text": [
            "\b\b\b\b\b\b\b\b\b\b\b\b\b\b\b\b\b\b\b\b\b\b\b\b\b\b\b\b\b\b\b\b\b\b\b\b\b\b\b\b\b\b\b\b\b\b\b\b\b\b\b\b\b\b\b\b\b\b\b\b\b\b\b\b\b\b\b\b\b\b\b\b\b\b\b\b\b\b\b\b\r3/3 [==============================] - 1s 490ms/step - loss: 0.6087 - accuracy: 0.6962 - val_loss: 0.6358 - val_accuracy: 0.6667\n",
            "Epoch 5/10\n",
            "1/3 [=========>....................] - ETA: 0s - loss: 0.6628 - accuracy: 0.6250"
          ]
        },
        {
          "name": "stderr",
          "output_type": "stream",
          "text": [
            "WARNING:absl:Found untraced functions such as _update_step_xla while saving (showing 1 of 1). These functions will not be directly callable after loading.\n"
          ]
        },
        {
          "name": "stdout",
          "output_type": "stream",
          "text": [
            "\b\b\b\b\b\b\b\b\b\b\b\b\b\b\b\b\b\b\b\b\b\b\b\b\b\b\b\b\b\b\b\b\b\b\b\b\b\b\b\b\b\b\b\b\b\b\b\b\b\b\b\b\b\b\b\b\b\b\b\b\b\b\b\b\b\b\b\b\b\b\b\b\b\b\b\b\b\b\b\b\r3/3 [==============================] - 1s 480ms/step - loss: 0.6077 - accuracy: 0.6962 - val_loss: 0.6385 - val_accuracy: 0.6667\n",
            "Epoch 6/10\n",
            "1/3 [=========>....................] - ETA: 0s - loss: 0.6364 - accuracy: 0.6562"
          ]
        },
        {
          "name": "stderr",
          "output_type": "stream",
          "text": [
            "WARNING:absl:Found untraced functions such as _update_step_xla while saving (showing 1 of 1). These functions will not be directly callable after loading.\n"
          ]
        },
        {
          "name": "stdout",
          "output_type": "stream",
          "text": [
            "\b\b\b\b\b\b\b\b\b\b\b\b\b\b\b\b\b\b\b\b\b\b\b\b\b\b\b\b\b\b\b\b\b\b\b\b\b\b\b\b\b\b\b\b\b\b\b\b\b\b\b\b\b\b\b\b\b\b\b\b\b\b\b\b\b\b\b\b\b\b\b\b\b\b\b\b\b\b\b\b\r3/3 [==============================] - 1s 475ms/step - loss: 0.6069 - accuracy: 0.6962 - val_loss: 0.6304 - val_accuracy: 0.6667\n",
            "Epoch 7/10\n",
            "1/3 [=========>....................] - ETA: 0s - loss: 0.6138 - accuracy: 0.6875"
          ]
        },
        {
          "name": "stderr",
          "output_type": "stream",
          "text": [
            "WARNING:absl:Found untraced functions such as _update_step_xla while saving (showing 1 of 1). These functions will not be directly callable after loading.\n"
          ]
        },
        {
          "name": "stdout",
          "output_type": "stream",
          "text": [
            "\b\b\b\b\b\b\b\b\b\b\b\b\b\b\b\b\b\b\b\b\b\b\b\b\b\b\b\b\b\b\b\b\b\b\b\b\b\b\b\b\b\b\b\b\b\b\b\b\b\b\b\b\b\b\b\b\b\b\b\b\b\b\b\b\b\b\b\b\b\b\b\b\b\b\b\b\b\b\b\b\r3/3 [==============================] - 1s 497ms/step - loss: 0.6031 - accuracy: 0.6962 - val_loss: 0.6316 - val_accuracy: 0.6667\n",
            "Epoch 8/10\n",
            "1/3 [=========>....................] - ETA: 0s - loss: 0.5823 - accuracy: 0.7188"
          ]
        },
        {
          "name": "stderr",
          "output_type": "stream",
          "text": [
            "WARNING:absl:Found untraced functions such as _update_step_xla while saving (showing 1 of 1). These functions will not be directly callable after loading.\n"
          ]
        },
        {
          "name": "stdout",
          "output_type": "stream",
          "text": [
            "\b\b\b\b\b\b\b\b\b\b\b\b\b\b\b\b\b\b\b\b\b\b\b\b\b\b\b\b\b\b\b\b\b\b\b\b\b\b\b\b\b\b\b\b\b\b\b\b\b\b\b\b\b\b\b\b\b\b\b\b\b\b\b\b\b\b\b\b\b\b\b\b\b\b\b\b\b\b\b\b\r3/3 [==============================] - 1s 744ms/step - loss: 0.5908 - accuracy: 0.6962 - val_loss: 0.6371 - val_accuracy: 0.6667\n",
            "Epoch 9/10\n",
            "1/3 [=========>....................] - ETA: 0s - loss: 0.5412 - accuracy: 0.7500"
          ]
        },
        {
          "name": "stderr",
          "output_type": "stream",
          "text": [
            "WARNING:absl:Found untraced functions such as _update_step_xla while saving (showing 1 of 1). These functions will not be directly callable after loading.\n"
          ]
        },
        {
          "name": "stdout",
          "output_type": "stream",
          "text": [
            "\b\b\b\b\b\b\b\b\b\b\b\b\b\b\b\b\b\b\b\b\b\b\b\b\b\b\b\b\b\b\b\b\b\b\b\b\b\b\b\b\b\b\b\b\b\b\b\b\b\b\b\b\b\b\b\b\b\b\b\b\b\b\b\b\b\b\b\b\b\b\b\b\b\b\b\b\b\b\b\b\r3/3 [==============================] - 1s 688ms/step - loss: 0.5972 - accuracy: 0.6962 - val_loss: 0.6240 - val_accuracy: 0.6667\n",
            "Epoch 10/10\n",
            "1/3 [=========>....................] - ETA: 0s - loss: 0.6088 - accuracy: 0.6875"
          ]
        },
        {
          "name": "stderr",
          "output_type": "stream",
          "text": [
            "WARNING:absl:Found untraced functions such as _update_step_xla while saving (showing 1 of 1). These functions will not be directly callable after loading.\n"
          ]
        },
        {
          "name": "stdout",
          "output_type": "stream",
          "text": [
            "\b\b\b\b\b\b\b\b\b\b\b\b\b\b\b\b\b\b\b\b\b\b\b\b\b\b\b\b\b\b\b\b\b\b\b\b\b\b\b\b\b\b\b\b\b\b\b\b\b\b\b\b\b\b\b\b\b\b\b\b\b\b\b\b\b\b\b\b\b\b\b\b\b\b\b\b\b\b\b\b\r3/3 [==============================] - 1s 584ms/step - loss: 0.5895 - accuracy: 0.6962 - val_loss: 0.6192 - val_accuracy: 0.6667\n"
          ]
        }
      ],
      "source": [
        "model_FCN_att = create_FCN_attention(96,2)\n",
        "history = model_FCN_att.fit(x= train_ds_ECG, validation_data= valid_ds_ECG, epochs=10, callbacks=[early_stopping, checkpoint])"
      ]
    },
    {
      "cell_type": "code",
      "execution_count": null,
      "metadata": {
        "colab": {
          "base_uri": "https://localhost:8080/"
        },
        "id": "Bp8W5XFLi3x4",
        "outputId": "877de245-26b8-4ae3-fd12-949a6208c9e2"
      },
      "outputs": [
        {
          "name": "stdout",
          "output_type": "stream",
          "text": [
            "4/4 [==============================] - 0s 4ms/step - loss: 0.6323 - accuracy: 0.6400\n"
          ]
        },
        {
          "data": {
            "text/plain": [
              "[0.6322964429855347, 0.6399999856948853]"
            ]
          },
          "execution_count": 55,
          "metadata": {},
          "output_type": "execute_result"
        }
      ],
      "source": [
        "model_FCN_att.evaluate(test_ds_ECG)"
      ]
    },
    {
      "cell_type": "markdown",
      "metadata": {
        "id": "tYOXtHBTFZ_E"
      },
      "source": [
        "### Task 4: Time series classification using sktime"
      ]
    },
    {
      "attachments": {},
      "cell_type": "markdown",
      "metadata": {
        "id": "bkEhcRaAGwPW"
      },
      "source": [
        "As we saw above, we can use RandomizedSearch to find optimal parameter options. However, it does not support scikit-learn's classifiers such as DecisionTree or RandomForest. However, as we tried, it is also possible to use the output of the sktime transformer (e.g., catch22) to train scikit-learn models such as RandomForest. Sktime supports this with `SklearnClassifierPipeline` to put a  scikit-learn classifier and sktime's transformer together and you need to implement it.\n",
        "\n",
        "Picking one classifier from scikit-learn (that can be anything! e.g., Decision Tree or Logistic Regressor) and two transformers from sktime and create `SklearnClassifierPipeline.` As we tried in this lab, that can be **Rocket with RandomForest** or **Catch22 with DecisionTree**. Pick one parameter from each module (in total, three, one from the classifier and two from two transformers) and run a randomized search on the pipeline and report the test score of the best model found by the randomized Search. Comparing best score to the score from the same model with the default setting.\n",
        "\n",
        "Task 4 involves a time-consuming process, so choosing **one dataset** to perform the task above. Also, note that we do not need to perform better by conducting a randomized search for this task (but still good to try!)."
      ]
    },
    {
      "cell_type": "code",
      "execution_count": null,
      "metadata": {
        "id": "X7szQR258iAQ"
      },
      "outputs": [],
      "source": [
        "from sktime.transformations.panel.rocket import Rocket\n",
        "from sktime.transformations.panel.catch22 import Catch22\n",
        "from sktime.transformations.series.exponent import ExponentTransformer\n",
        "from sktime.classification.kernel_based import RocketClassifier\n",
        "from sklearn.ensemble import RandomForestClassifier\n",
        "from sktime.datatypes._panel._convert import from_2d_array_to_nested\n",
        "from sklearn.model_selection import RandomizedSearchCV\n",
        "from sktime.classification.compose import SklearnClassifierPipeline"
      ]
    },
    {
      "cell_type": "code",
      "execution_count": null,
      "metadata": {
        "id": "KccHsEFbFcPO"
      },
      "outputs": [],
      "source": [
        "X_train_Pro, y_train_Pro = load_UCR_UEA_dataset(name='ProximalPhalanxTW', split='train', return_type=\"numpy2D\")\n",
        "X_test_Pro , y_test_Pro = load_UCR_UEA_dataset(name='ProximalPhalanxTW', split='test', return_type=\"numpy2D\")\n",
        "\n",
        "#one_hot_encode the labels\n",
        "\n",
        "# Define the labels\n",
        "labels = np.unique(y_train_Pro).tolist()\n",
        "\n",
        "# # One-hot encode the labels\n",
        "label_map = {label: i for i, label in enumerate(labels)}\n",
        "\n",
        "# Convert the labels to integers using the label map\n",
        "y_train_Pro_encoded = [label_map[label] for label in y_train_Pro]\n",
        "y_test_Pro_encoded = [label_map[label] for label in y_test_Pro]\n",
        "\n",
        "# Perform one-hot encoding using TensorFlow\n",
        "y_train_Pro_encoded = tf.one_hot(y_train_Pro_encoded, len(labels))\n",
        "y_test_Pro_encoded = tf.one_hot(y_test_Pro_encoded, len(labels))\n",
        "\n",
        "y_train_Pro_encoded = y_train_Pro_encoded.numpy()\n",
        "y_test_Pro_encoded = y_test_Pro_encoded.numpy()\n",
        "\n"
      ]
    },
    {
      "cell_type": "code",
      "execution_count": null,
      "metadata": {
        "id": "2GSTDhSV8BFX"
      },
      "outputs": [],
      "source": [
        "X_train_Pro_df = from_2d_array_to_nested(X_train_Pro)\n",
        "X_test_Pro_df = from_2d_array_to_nested(X_test_Pro)\n"
      ]
    },
    {
      "cell_type": "code",
      "execution_count": null,
      "metadata": {
        "colab": {
          "base_uri": "https://localhost:8080/"
        },
        "id": "rpnz5M5RfCkV",
        "outputId": "03542124-bebe-47c2-ca67-d6d83142a792"
      },
      "outputs": [
        {
          "data": {
            "text/plain": [
              "0.7951219512195122"
            ]
          },
          "execution_count": 36,
          "metadata": {},
          "output_type": "execute_result"
        }
      ],
      "source": [
        "rf = RandomForestClassifier()\n",
        "rf.fit(X_train_Pro, y_train_Pro)\n",
        "rf.score(X_test_Pro, y_test_Pro)"
      ]
    },
    {
      "cell_type": "code",
      "execution_count": null,
      "metadata": {
        "id": "IEimNPPVF2wI"
      },
      "outputs": [],
      "source": [
        "pip = SklearnClassifierPipeline(classifier=RandomForestClassifier(), transformers=[Rocket(), ExponentTransformer()])\n",
        "\n",
        "param_grid = {\n",
        "    'classifier__n_estimators': [50, 100, 200],\n",
        "    'classifier__max_depth': [5, 10],\n",
        "    'Rocket__num_kernels': [100, 500, 1000],\n",
        "    'ExponentTransformer__power': [1, 2, 3]\n",
        "}\n",
        "grid = RandomizedSearchCV(pip, param_grid, n_iter = 3, verbose = 2)\n"
      ]
    },
    {
      "cell_type": "code",
      "execution_count": null,
      "metadata": {
        "colab": {
          "base_uri": "https://localhost:8080/",
          "height": 436
        },
        "id": "ESa4S9KqF2z4",
        "outputId": "16dafc90-2460-40af-d355-5b467eed659a"
      },
      "outputs": [
        {
          "name": "stdout",
          "output_type": "stream",
          "text": [
            "Fitting 5 folds for each of 3 candidates, totalling 15 fits\n",
            "[CV] END ExponentTransformer__power=1, Rocket__num_kernels=1000, classifier__max_depth=5, classifier__n_estimators=100; total time=   3.3s\n",
            "[CV] END ExponentTransformer__power=1, Rocket__num_kernels=1000, classifier__max_depth=5, classifier__n_estimators=100; total time=   2.8s\n",
            "[CV] END ExponentTransformer__power=1, Rocket__num_kernels=1000, classifier__max_depth=5, classifier__n_estimators=100; total time=   4.1s\n",
            "[CV] END ExponentTransformer__power=1, Rocket__num_kernels=1000, classifier__max_depth=5, classifier__n_estimators=100; total time=   2.9s\n",
            "[CV] END ExponentTransformer__power=1, Rocket__num_kernels=1000, classifier__max_depth=5, classifier__n_estimators=100; total time=   2.8s\n",
            "[CV] END ExponentTransformer__power=1, Rocket__num_kernels=500, classifier__max_depth=10, classifier__n_estimators=50; total time=   1.5s\n",
            "[CV] END ExponentTransformer__power=1, Rocket__num_kernels=500, classifier__max_depth=10, classifier__n_estimators=50; total time=   1.5s\n",
            "[CV] END ExponentTransformer__power=1, Rocket__num_kernels=500, classifier__max_depth=10, classifier__n_estimators=50; total time=   1.8s\n",
            "[CV] END ExponentTransformer__power=1, Rocket__num_kernels=500, classifier__max_depth=10, classifier__n_estimators=50; total time=   2.6s\n",
            "[CV] END ExponentTransformer__power=1, Rocket__num_kernels=500, classifier__max_depth=10, classifier__n_estimators=50; total time=   1.7s\n",
            "[CV] END ExponentTransformer__power=2, Rocket__num_kernels=100, classifier__max_depth=10, classifier__n_estimators=100; total time=   0.8s\n",
            "[CV] END ExponentTransformer__power=2, Rocket__num_kernels=100, classifier__max_depth=10, classifier__n_estimators=100; total time=   0.7s\n",
            "[CV] END ExponentTransformer__power=2, Rocket__num_kernels=100, classifier__max_depth=10, classifier__n_estimators=100; total time=   0.7s\n",
            "[CV] END ExponentTransformer__power=2, Rocket__num_kernels=100, classifier__max_depth=10, classifier__n_estimators=100; total time=   0.7s\n",
            "[CV] END ExponentTransformer__power=2, Rocket__num_kernels=100, classifier__max_depth=10, classifier__n_estimators=100; total time=   1.0s\n"
          ]
        },
        {
          "data": {
            "text/html": [
              "<style>#sk-container-id-4 {color: black;background-color: white;}#sk-container-id-4 pre{padding: 0;}#sk-container-id-4 div.sk-toggleable {background-color: white;}#sk-container-id-4 label.sk-toggleable__label {cursor: pointer;display: block;width: 100%;margin-bottom: 0;padding: 0.3em;box-sizing: border-box;text-align: center;}#sk-container-id-4 label.sk-toggleable__label-arrow:before {content: \"▸\";float: left;margin-right: 0.25em;color: #696969;}#sk-container-id-4 label.sk-toggleable__label-arrow:hover:before {color: black;}#sk-container-id-4 div.sk-estimator:hover label.sk-toggleable__label-arrow:before {color: black;}#sk-container-id-4 div.sk-toggleable__content {max-height: 0;max-width: 0;overflow: hidden;text-align: left;background-color: #f0f8ff;}#sk-container-id-4 div.sk-toggleable__content pre {margin: 0.2em;color: black;border-radius: 0.25em;background-color: #f0f8ff;}#sk-container-id-4 input.sk-toggleable__control:checked~div.sk-toggleable__content {max-height: 200px;max-width: 100%;overflow: auto;}#sk-container-id-4 input.sk-toggleable__control:checked~label.sk-toggleable__label-arrow:before {content: \"▾\";}#sk-container-id-4 div.sk-estimator input.sk-toggleable__control:checked~label.sk-toggleable__label {background-color: #d4ebff;}#sk-container-id-4 div.sk-label input.sk-toggleable__control:checked~label.sk-toggleable__label {background-color: #d4ebff;}#sk-container-id-4 input.sk-hidden--visually {border: 0;clip: rect(1px 1px 1px 1px);clip: rect(1px, 1px, 1px, 1px);height: 1px;margin: -1px;overflow: hidden;padding: 0;position: absolute;width: 1px;}#sk-container-id-4 div.sk-estimator {font-family: monospace;background-color: #f0f8ff;border: 1px dotted black;border-radius: 0.25em;box-sizing: border-box;margin-bottom: 0.5em;}#sk-container-id-4 div.sk-estimator:hover {background-color: #d4ebff;}#sk-container-id-4 div.sk-parallel-item::after {content: \"\";width: 100%;border-bottom: 1px solid gray;flex-grow: 1;}#sk-container-id-4 div.sk-label:hover label.sk-toggleable__label {background-color: #d4ebff;}#sk-container-id-4 div.sk-serial::before {content: \"\";position: absolute;border-left: 1px solid gray;box-sizing: border-box;top: 0;bottom: 0;left: 50%;z-index: 0;}#sk-container-id-4 div.sk-serial {display: flex;flex-direction: column;align-items: center;background-color: white;padding-right: 0.2em;padding-left: 0.2em;position: relative;}#sk-container-id-4 div.sk-item {position: relative;z-index: 1;}#sk-container-id-4 div.sk-parallel {display: flex;align-items: stretch;justify-content: center;background-color: white;position: relative;}#sk-container-id-4 div.sk-item::before, #sk-container-id-4 div.sk-parallel-item::before {content: \"\";position: absolute;border-left: 1px solid gray;box-sizing: border-box;top: 0;bottom: 0;left: 50%;z-index: -1;}#sk-container-id-4 div.sk-parallel-item {display: flex;flex-direction: column;z-index: 1;position: relative;background-color: white;}#sk-container-id-4 div.sk-parallel-item:first-child::after {align-self: flex-end;width: 50%;}#sk-container-id-4 div.sk-parallel-item:last-child::after {align-self: flex-start;width: 50%;}#sk-container-id-4 div.sk-parallel-item:only-child::after {width: 0;}#sk-container-id-4 div.sk-dashed-wrapped {border: 1px dashed gray;margin: 0 0.4em 0.5em 0.4em;box-sizing: border-box;padding-bottom: 0.4em;background-color: white;}#sk-container-id-4 div.sk-label label {font-family: monospace;font-weight: bold;display: inline-block;line-height: 1.2em;}#sk-container-id-4 div.sk-label-container {text-align: center;}#sk-container-id-4 div.sk-container {/* jupyter's `normalize.less` sets `[hidden] { display: none; }` but bootstrap.min.css set `[hidden] { display: none !important; }` so we also need the `!important` here to be able to override the default hidden behavior on the sphinx rendered scikit-learn.org. See: https://github.com/scikit-learn/scikit-learn/issues/21755 */display: inline-block !important;position: relative;}#sk-container-id-4 div.sk-text-repr-fallback {display: none;}</style><div id=\"sk-container-id-4\" class=\"sk-top-container\"><div class=\"sk-text-repr-fallback\"><pre>RandomizedSearchCV(estimator=SklearnClassifierPipeline(classifier=RandomForestClassifier(),\n",
              "                                                       transformers=[Rocket(),\n",
              "                                                                     ExponentTransformer()]),\n",
              "                   n_iter=3,\n",
              "                   param_distributions={&#x27;ExponentTransformer__power&#x27;: [1, 2, 3],\n",
              "                                        &#x27;Rocket__num_kernels&#x27;: [100, 500, 1000],\n",
              "                                        &#x27;classifier__max_depth&#x27;: [5, 10],\n",
              "                                        &#x27;classifier__n_estimators&#x27;: [50, 100,\n",
              "                                                                     200]},\n",
              "                   verbose=2)</pre><b>In a Jupyter environment, please rerun this cell to show the HTML representation or trust the notebook. <br />On GitHub, the HTML representation is unable to render, please try loading this page with nbviewer.org.</b></div><div class=\"sk-container\" hidden><div class=\"sk-item sk-dashed-wrapped\"><div class=\"sk-label-container\"><div class=\"sk-label sk-toggleable\"><input class=\"sk-toggleable__control sk-hidden--visually\" id=\"sk-estimator-id-7\" type=\"checkbox\" ><label for=\"sk-estimator-id-7\" class=\"sk-toggleable__label sk-toggleable__label-arrow\">RandomizedSearchCV</label><div class=\"sk-toggleable__content\"><pre>RandomizedSearchCV(estimator=SklearnClassifierPipeline(classifier=RandomForestClassifier(),\n",
              "                                                       transformers=[Rocket(),\n",
              "                                                                     ExponentTransformer()]),\n",
              "                   n_iter=3,\n",
              "                   param_distributions={&#x27;ExponentTransformer__power&#x27;: [1, 2, 3],\n",
              "                                        &#x27;Rocket__num_kernels&#x27;: [100, 500, 1000],\n",
              "                                        &#x27;classifier__max_depth&#x27;: [5, 10],\n",
              "                                        &#x27;classifier__n_estimators&#x27;: [50, 100,\n",
              "                                                                     200]},\n",
              "                   verbose=2)</pre></div></div></div><div class=\"sk-parallel\"><div class=\"sk-parallel-item\"><div class=\"sk-item\"><div class=\"sk-label-container\"><div class=\"sk-label sk-toggleable\"><input class=\"sk-toggleable__control sk-hidden--visually\" id=\"sk-estimator-id-8\" type=\"checkbox\" ><label for=\"sk-estimator-id-8\" class=\"sk-toggleable__label sk-toggleable__label-arrow\">estimator: SklearnClassifierPipeline</label><div class=\"sk-toggleable__content\"><pre>SklearnClassifierPipeline(classifier=RandomForestClassifier(),\n",
              "                          transformers=[Rocket(), ExponentTransformer()])</pre></div></div></div><div class=\"sk-serial\"><div class=\"sk-item sk-dashed-wrapped\"><div class=\"sk-parallel\"><div class=\"sk-parallel-item\"><div class=\"sk-item\"><div class=\"sk-label-container\"><div class=\"sk-label sk-toggleable\"><input class=\"sk-toggleable__control sk-hidden--visually\" id=\"sk-estimator-id-9\" type=\"checkbox\" ><label for=\"sk-estimator-id-9\" class=\"sk-toggleable__label sk-toggleable__label-arrow\">classifier: RandomForestClassifier</label><div class=\"sk-toggleable__content\"><pre>RandomForestClassifier()</pre></div></div></div><div class=\"sk-serial\"><div class=\"sk-item\"><div class=\"sk-estimator sk-toggleable\"><input class=\"sk-toggleable__control sk-hidden--visually\" id=\"sk-estimator-id-10\" type=\"checkbox\" ><label for=\"sk-estimator-id-10\" class=\"sk-toggleable__label sk-toggleable__label-arrow\">RandomForestClassifier</label><div class=\"sk-toggleable__content\"><pre>RandomForestClassifier()</pre></div></div></div></div></div></div></div></div></div></div></div></div></div></div></div>"
            ],
            "text/plain": [
              "RandomizedSearchCV(estimator=SklearnClassifierPipeline(classifier=RandomForestClassifier(),\n",
              "                                                       transformers=[Rocket(),\n",
              "                                                                     ExponentTransformer()]),\n",
              "                   n_iter=3,\n",
              "                   param_distributions={'ExponentTransformer__power': [1, 2, 3],\n",
              "                                        'Rocket__num_kernels': [100, 500, 1000],\n",
              "                                        'classifier__max_depth': [5, 10],\n",
              "                                        'classifier__n_estimators': [50, 100,\n",
              "                                                                     200]},\n",
              "                   verbose=2)"
            ]
          },
          "execution_count": 38,
          "metadata": {},
          "output_type": "execute_result"
        }
      ],
      "source": [
        "grid.fit(X_train_Pro_df, y_train_Pro)"
      ]
    },
    {
      "cell_type": "code",
      "execution_count": null,
      "metadata": {
        "colab": {
          "base_uri": "https://localhost:8080/"
        },
        "id": "fFp4u302HzlC",
        "outputId": "bdb8f3e2-221c-48e4-f441-5b76923ad78d"
      },
      "outputs": [
        {
          "data": {
            "text/plain": [
              "(SklearnClassifierPipeline(classifier=RandomForestClassifier(max_depth=10),\n",
              "                           transformers=[Rocket(num_kernels=100),\n",
              "                                         ExponentTransformer(power=2)]),\n",
              " 0.8299999999999998)"
            ]
          },
          "execution_count": 39,
          "metadata": {},
          "output_type": "execute_result"
        }
      ],
      "source": [
        "grid.best_estimator_, grid.best_score_"
      ]
    },
    {
      "cell_type": "markdown",
      "metadata": {
        "id": "0od-gD76TlmO"
      },
      "source": [
        "### Task 5: Multivariate time series classification"
      ]
    },
    {
      "attachments": {},
      "cell_type": "markdown",
      "metadata": {
        "id": "Pe_XHdDJeMVo"
      },
      "source": [
        "Time series can be **multivariate**, which means there can be many values (= data points) describing one time point. In this task,we will use one **multivariate** dataset (**BasicMotions**) and try to run one deep learning model and one sktime model to see if those models work well on multivariate time series.\n",
        "\n",
        "- Use [BasicMotions](https://timeseriesclassification.com/description.php?Dataset=BasicMotions) dataset in the UCR/UEA repository.\n",
        "- Run **ROCKET** and **the best tensorflow deep learning model from the previous tasks** on BasicMotions. We need to adjust the deep learning model's input layer to handle this multivariate dataset.\n",
        "- Use sktime's `load_UCR_UEA_dataset` function to perform. We should use each dataset's original train/test splits.\n",
        "- For the deep learning model, we should transform it using TensorFlow data API (`tf.data`) to manage the dataset and use `shuffle`, `batch`, and `prefetch` functions. This means that we need to create the validation set first. \n",
        "- For training, we need to run at least 10 epochs for your deep learning model. For ROCKET, we can keep the default parameter options. \n",
        "- Report the test scores of both models on the predefined test set."
      ]
    },
    {
      "cell_type": "code",
      "execution_count": null,
      "metadata": {
        "colab": {
          "base_uri": "https://localhost:8080/",
          "height": 75
        },
        "id": "5b5GKY28A91A",
        "outputId": "edaf4c43-e002-49e8-d865-35d884797d5a"
      },
      "outputs": [
        {
          "data": {
            "text/html": [
              "<style>#sk-container-id-1 {color: black;background-color: white;}#sk-container-id-1 pre{padding: 0;}#sk-container-id-1 div.sk-toggleable {background-color: white;}#sk-container-id-1 label.sk-toggleable__label {cursor: pointer;display: block;width: 100%;margin-bottom: 0;padding: 0.3em;box-sizing: border-box;text-align: center;}#sk-container-id-1 label.sk-toggleable__label-arrow:before {content: \"▸\";float: left;margin-right: 0.25em;color: #696969;}#sk-container-id-1 label.sk-toggleable__label-arrow:hover:before {color: black;}#sk-container-id-1 div.sk-estimator:hover label.sk-toggleable__label-arrow:before {color: black;}#sk-container-id-1 div.sk-toggleable__content {max-height: 0;max-width: 0;overflow: hidden;text-align: left;background-color: #f0f8ff;}#sk-container-id-1 div.sk-toggleable__content pre {margin: 0.2em;color: black;border-radius: 0.25em;background-color: #f0f8ff;}#sk-container-id-1 input.sk-toggleable__control:checked~div.sk-toggleable__content {max-height: 200px;max-width: 100%;overflow: auto;}#sk-container-id-1 input.sk-toggleable__control:checked~label.sk-toggleable__label-arrow:before {content: \"▾\";}#sk-container-id-1 div.sk-estimator input.sk-toggleable__control:checked~label.sk-toggleable__label {background-color: #d4ebff;}#sk-container-id-1 div.sk-label input.sk-toggleable__control:checked~label.sk-toggleable__label {background-color: #d4ebff;}#sk-container-id-1 input.sk-hidden--visually {border: 0;clip: rect(1px 1px 1px 1px);clip: rect(1px, 1px, 1px, 1px);height: 1px;margin: -1px;overflow: hidden;padding: 0;position: absolute;width: 1px;}#sk-container-id-1 div.sk-estimator {font-family: monospace;background-color: #f0f8ff;border: 1px dotted black;border-radius: 0.25em;box-sizing: border-box;margin-bottom: 0.5em;}#sk-container-id-1 div.sk-estimator:hover {background-color: #d4ebff;}#sk-container-id-1 div.sk-parallel-item::after {content: \"\";width: 100%;border-bottom: 1px solid gray;flex-grow: 1;}#sk-container-id-1 div.sk-label:hover label.sk-toggleable__label {background-color: #d4ebff;}#sk-container-id-1 div.sk-serial::before {content: \"\";position: absolute;border-left: 1px solid gray;box-sizing: border-box;top: 0;bottom: 0;left: 50%;z-index: 0;}#sk-container-id-1 div.sk-serial {display: flex;flex-direction: column;align-items: center;background-color: white;padding-right: 0.2em;padding-left: 0.2em;position: relative;}#sk-container-id-1 div.sk-item {position: relative;z-index: 1;}#sk-container-id-1 div.sk-parallel {display: flex;align-items: stretch;justify-content: center;background-color: white;position: relative;}#sk-container-id-1 div.sk-item::before, #sk-container-id-1 div.sk-parallel-item::before {content: \"\";position: absolute;border-left: 1px solid gray;box-sizing: border-box;top: 0;bottom: 0;left: 50%;z-index: -1;}#sk-container-id-1 div.sk-parallel-item {display: flex;flex-direction: column;z-index: 1;position: relative;background-color: white;}#sk-container-id-1 div.sk-parallel-item:first-child::after {align-self: flex-end;width: 50%;}#sk-container-id-1 div.sk-parallel-item:last-child::after {align-self: flex-start;width: 50%;}#sk-container-id-1 div.sk-parallel-item:only-child::after {width: 0;}#sk-container-id-1 div.sk-dashed-wrapped {border: 1px dashed gray;margin: 0 0.4em 0.5em 0.4em;box-sizing: border-box;padding-bottom: 0.4em;background-color: white;}#sk-container-id-1 div.sk-label label {font-family: monospace;font-weight: bold;display: inline-block;line-height: 1.2em;}#sk-container-id-1 div.sk-label-container {text-align: center;}#sk-container-id-1 div.sk-container {/* jupyter's `normalize.less` sets `[hidden] { display: none; }` but bootstrap.min.css set `[hidden] { display: none !important; }` so we also need the `!important` here to be able to override the default hidden behavior on the sphinx rendered scikit-learn.org. See: https://github.com/scikit-learn/scikit-learn/issues/21755 */display: inline-block !important;position: relative;}#sk-container-id-1 div.sk-text-repr-fallback {display: none;}</style><div id=\"sk-container-id-1\" class=\"sk-top-container\"><div class=\"sk-text-repr-fallback\"><pre>RocketClassifier()</pre><b>In a Jupyter environment, please rerun this cell to show the HTML representation or trust the notebook. <br />On GitHub, the HTML representation is unable to render, please try loading this page with nbviewer.org.</b></div><div class=\"sk-container\" hidden><div class=\"sk-item\"><div class=\"sk-estimator sk-toggleable\"><input class=\"sk-toggleable__control sk-hidden--visually\" id=\"sk-estimator-id-1\" type=\"checkbox\" checked><label for=\"sk-estimator-id-1\" class=\"sk-toggleable__label sk-toggleable__label-arrow\">RocketClassifier</label><div class=\"sk-toggleable__content\"><pre>RocketClassifier()</pre></div></div></div></div></div>"
            ],
            "text/plain": [
              "RocketClassifier()"
            ]
          },
          "execution_count": 11,
          "metadata": {},
          "output_type": "execute_result"
        }
      ],
      "source": [
        "from sktime.classification.kernel_based import RocketClassifier\n",
        "#import dataset\n",
        "X_train_BM, y_train_BM = load_UCR_UEA_dataset(name='BasicMotions', split='train')\n",
        "X_test_BM , y_test_BM = load_UCR_UEA_dataset(name='BasicMotions', split='test')\n",
        "\n",
        "rocket = RocketClassifier() # SLOW!!!\n",
        "rocket.fit(X_train_BM, y_train_BM)"
      ]
    },
    {
      "cell_type": "code",
      "execution_count": null,
      "metadata": {
        "colab": {
          "base_uri": "https://localhost:8080/"
        },
        "id": "XM12Dnl1A-AT",
        "outputId": "53fd7973-b456-4ec5-bb08-cd1def6838e2"
      },
      "outputs": [
        {
          "data": {
            "text/plain": [
              "1.0"
            ]
          },
          "execution_count": 41,
          "metadata": {},
          "output_type": "execute_result"
        }
      ],
      "source": [
        "rocket.score(X_test_BM, y_test_BM)"
      ]
    },
    {
      "cell_type": "code",
      "execution_count": null,
      "metadata": {
        "id": "UVXhy9vEuDbK"
      },
      "outputs": [],
      "source": [
        "#import dataset\n",
        "X_train_BM, y_train_BM = load_UCR_UEA_dataset(name='BasicMotions', split='train', return_type = 'numpy3D')\n",
        "X_test_BM , y_test_BM = load_UCR_UEA_dataset(name='BasicMotions', split='test', return_type = 'numpy3D')\n",
        "\n",
        "#one_hot_encode the labels\n",
        "\n",
        "# Define the labels\n",
        "labels = np.unique(y_train_BM).tolist()\n",
        "# One-hot encode the labels\n",
        "label_map = {label: i for i, label in enumerate(labels)}\n",
        "# Convert the labels to integers using the label map\n",
        "y_train_BM_encoded = [label_map[label] for label in y_train_BM]\n",
        "y_test_BM_encoded = [label_map[label] for label in y_test_BM]\n",
        "# Perform one-hot encoding using TensorFlow\n",
        "y_train_BM_encoded = tf.one_hot(y_train_BM_encoded, len(labels))\n",
        "y_test_BM_encoded = tf.one_hot(y_test_BM_encoded, len(labels))\n",
        "\n",
        "y_train_BM_encoded = y_train_BM_encoded.numpy()\n",
        "y_test_BM_encoded = y_test_BM_encoded.numpy()\n"
      ]
    },
    {
      "cell_type": "code",
      "execution_count": null,
      "metadata": {
        "colab": {
          "base_uri": "https://localhost:8080/"
        },
        "id": "7Jz1qLOqgytF",
        "outputId": "0a779624-94e0-4d07-ebe7-7b30f98d34df"
      },
      "outputs": [
        {
          "data": {
            "text/plain": [
              "(['badminton', 'running', 'standing', 'walking'],\n",
              " {'badminton': 0, 'running': 1, 'standing': 2, 'walking': 3},\n",
              " numpy.ndarray)"
            ]
          },
          "execution_count": 16,
          "metadata": {},
          "output_type": "execute_result"
        }
      ],
      "source": [
        "labels, label_map, type(y_train_BM_encoded)"
      ]
    },
    {
      "cell_type": "code",
      "execution_count": null,
      "metadata": {
        "id": "rzmkZU_bo_MY"
      },
      "outputs": [],
      "source": [
        "#create test,valid,train datasets using from_tensor_slice \n",
        "train_ds_BM = tf.data.Dataset.from_tensor_slices((X_train_BM, y_train_BM_encoded))\n",
        "# Shuffle the training data\n",
        "idx = np.random.permutation(len(X_train_BM))\n",
        "X_train_BM, y_train_BM_encoded = X_train_BM[idx], y_train_BM_encoded[idx]\n",
        "train_ds_BM = train_ds_BM.map(lambda x, y: (tf.cast(x, tf.float32), y))\n",
        "# create train and valid datasets\n",
        "valid_split = 0.2\n",
        "valid_size = int(valid_split * len(X_train_BM))\n",
        "train_ds_BM = tf.data.Dataset.from_tensor_slices((X_train_BM[valid_size:], y_train_BM_encoded[valid_size:]))\n",
        "valid_ds_BM = tf.data.Dataset.from_tensor_slices((X_train_BM[:valid_size], y_train_BM_encoded[:valid_size]))\n",
        "#create test dataset\n",
        "test_ds_BM = tf.data.Dataset.from_tensor_slices((X_test_BM, y_test_BM_encoded))\n",
        "test_ds_BM = test_ds_BM.map(lambda x, y: (tf.cast(x, tf.float32), y))\n",
        "\n",
        "#manage dataset and use shuffle, batch, and prefetch functions\n",
        "train_ds_BM = train_ds_BM.shuffle(buffer_size=10000).batch(32).prefetch(tf.data.AUTOTUNE)\n",
        "valid_ds_BM = valid_ds_BM.shuffle(buffer_size=10000).batch(32).prefetch(tf.data.AUTOTUNE)\n",
        "test_ds_BM = test_ds_BM.shuffle(buffer_size=10000).batch(32).prefetch(tf.data.AUTOTUNE)"
      ]
    },
    {
      "cell_type": "code",
      "execution_count": null,
      "metadata": {
        "colab": {
          "base_uri": "https://localhost:8080/"
        },
        "id": "aApEwp02BQdj",
        "outputId": "fa323ec6-707c-4ab5-c9f6-c24c5c007eff"
      },
      "outputs": [
        {
          "data": {
            "text/plain": [
              "((40,),\n",
              " (40, 4),\n",
              " (40, 6, 100),\n",
              " tensorflow.python.data.ops.prefetch_op._PrefetchDataset,\n",
              " <tf.Tensor: shape=(), dtype=int64, numpy=1>)"
            ]
          },
          "execution_count": 18,
          "metadata": {},
          "output_type": "execute_result"
        }
      ],
      "source": [
        "y_train_BM.shape, y_train_BM_encoded.shape, X_train_BM.shape,type(train_ds_BM), train_ds_BM.cardinality()"
      ]
    },
    {
      "cell_type": "code",
      "execution_count": null,
      "metadata": {
        "id": "82ckwU9TGXjn"
      },
      "outputs": [],
      "source": [
        "def create_MLP(input_shape, num_label):\n",
        "    model = keras.models.Sequential([\n",
        "        keras.layers.InputLayer(input_shape=input_shape),\n",
        "        keras.layers.Dropout(0.1),\n",
        "        keras.layers.Dense(500, activation='relu'),\n",
        "        keras.layers.Dropout(0.2),\n",
        "        keras.layers.Dense(500, activation='relu'),\n",
        "        keras.layers.Dropout(0.3),\n",
        "        keras.layers.Dense(500, activation='relu'),\n",
        "        keras.layers.GlobalAveragePooling1D(),\n",
        "        keras.layers.Dense(num_label, activation='softmax')\n",
        "    ])\n",
        "    model.compile(optimizer='adam', loss='categorical_crossentropy', metrics=['accuracy'])\n",
        "    return model\n",
        "\n"
      ]
    },
    {
      "cell_type": "code",
      "execution_count": null,
      "metadata": {
        "colab": {
          "base_uri": "https://localhost:8080/"
        },
        "id": "hlrSNSkEmjuu",
        "outputId": "5b7fda26-181d-4b2c-923f-192133e40e53"
      },
      "outputs": [
        {
          "name": "stdout",
          "output_type": "stream",
          "text": [
            "Epoch 1/10\n",
            "1/1 [==============================] - ETA: 0s - loss: 1.9896 - accuracy: 0.2188"
          ]
        },
        {
          "name": "stderr",
          "output_type": "stream",
          "text": [
            "WARNING:absl:Found untraced functions such as _update_step_xla while saving (showing 1 of 1). These functions will not be directly callable after loading.\n"
          ]
        },
        {
          "name": "stdout",
          "output_type": "stream",
          "text": [
            "\b\b\b\b\b\b\b\b\b\b\b\b\b\b\b\b\b\b\b\b\b\b\b\b\b\b\b\b\b\b\b\b\b\b\b\b\b\b\b\b\b\b\b\b\b\b\b\b\b\b\b\b\b\b\b\b\b\b\b\b\b\b\b\b\b\b\b\b\b\b\b\b\b\b\b\b\b\b\b\b\r1/1 [==============================] - 7s 7s/step - loss: 1.9896 - accuracy: 0.2188 - val_loss: 5.2887 - val_accuracy: 0.3750\n",
            "Epoch 2/10\n",
            "1/1 [==============================] - ETA: 0s - loss: 3.4996 - accuracy: 0.2188"
          ]
        },
        {
          "name": "stderr",
          "output_type": "stream",
          "text": [
            "WARNING:absl:Found untraced functions such as _update_step_xla while saving (showing 1 of 1). These functions will not be directly callable after loading.\n"
          ]
        },
        {
          "name": "stdout",
          "output_type": "stream",
          "text": [
            "\b\b\b\b\b\b\b\b\b\b\b\b\b\b\b\b\b\b\b\b\b\b\b\b\b\b\b\b\b\b\b\b\b\b\b\b\b\b\b\b\b\b\b\b\b\b\b\b\b\b\b\b\b\b\b\b\b\b\b\b\b\b\b\b\b\b\b\b\b\b\b\b\b\b\b\b\b\b\b\b\r1/1 [==============================] - 1s 1s/step - loss: 3.4996 - accuracy: 0.2188 - val_loss: 4.7106 - val_accuracy: 0.3750\n",
            "Epoch 3/10\n",
            "1/1 [==============================] - ETA: 0s - loss: 2.9018 - accuracy: 0.4062"
          ]
        },
        {
          "name": "stderr",
          "output_type": "stream",
          "text": [
            "WARNING:absl:Found untraced functions such as _update_step_xla while saving (showing 1 of 1). These functions will not be directly callable after loading.\n"
          ]
        },
        {
          "name": "stdout",
          "output_type": "stream",
          "text": [
            "\b\b\b\b\b\b\b\b\b\b\b\b\b\b\b\b\b\b\b\b\b\b\b\b\b\b\b\b\b\b\b\b\b\b\b\b\b\b\b\b\b\b\b\b\b\b\b\b\b\b\b\b\b\b\b\b\b\b\b\b\b\b\b\b\b\b\b\b\b\b\b\b\b\b\b\b\b\b\b\b\r1/1 [==============================] - 1s 1s/step - loss: 2.9018 - accuracy: 0.4062 - val_loss: 3.4540 - val_accuracy: 0.2500\n",
            "Epoch 4/10\n",
            "1/1 [==============================] - ETA: 0s - loss: 2.1235 - accuracy: 0.4375"
          ]
        },
        {
          "name": "stderr",
          "output_type": "stream",
          "text": [
            "WARNING:absl:Found untraced functions such as _update_step_xla while saving (showing 1 of 1). These functions will not be directly callable after loading.\n"
          ]
        },
        {
          "name": "stdout",
          "output_type": "stream",
          "text": [
            "\b\b\b\b\b\b\b\b\b\b\b\b\b\b\b\b\b\b\b\b\b\b\b\b\b\b\b\b\b\b\b\b\b\b\b\b\b\b\b\b\b\b\b\b\b\b\b\b\b\b\b\b\b\b\b\b\b\b\b\b\b\b\b\b\b\b\b\b\b\b\b\b\b\b\b\b\b\b\b\b\r1/1 [==============================] - 1s 1s/step - loss: 2.1235 - accuracy: 0.4375 - val_loss: 1.6651 - val_accuracy: 0.5000\n",
            "Epoch 5/10\n",
            "1/1 [==============================] - ETA: 0s - loss: 1.1119 - accuracy: 0.5625"
          ]
        },
        {
          "name": "stderr",
          "output_type": "stream",
          "text": [
            "WARNING:absl:Found untraced functions such as _update_step_xla while saving (showing 1 of 1). These functions will not be directly callable after loading.\n"
          ]
        },
        {
          "name": "stdout",
          "output_type": "stream",
          "text": [
            "\b\b\b\b\b\b\b\b\b\b\b\b\b\b\b\b\b\b\b\b\b\b\b\b\b\b\b\b\b\b\b\b\b\b\b\b\b\b\b\b\b\b\b\b\b\b\b\b\b\b\b\b\b\b\b\b\b\b\b\b\b\b\b\b\b\b\b\b\b\b\b\b\b\b\b\b\b\b\b\b\r1/1 [==============================] - 1s 1s/step - loss: 1.1119 - accuracy: 0.5625 - val_loss: 0.7039 - val_accuracy: 0.8750\n",
            "Epoch 6/10\n",
            "1/1 [==============================] - ETA: 0s - loss: 0.8367 - accuracy: 0.6250"
          ]
        },
        {
          "name": "stderr",
          "output_type": "stream",
          "text": [
            "WARNING:absl:Found untraced functions such as _update_step_xla while saving (showing 1 of 1). These functions will not be directly callable after loading.\n"
          ]
        },
        {
          "name": "stdout",
          "output_type": "stream",
          "text": [
            "\b\b\b\b\b\b\b\b\b\b\b\b\b\b\b\b\b\b\b\b\b\b\b\b\b\b\b\b\b\b\b\b\b\b\b\b\b\b\b\b\b\b\b\b\b\b\b\b\b\b\b\b\b\b\b\b\b\b\b\b\b\b\b\b\b\b\b\b\b\b\b\b\b\b\b\b\b\b\b\b\r1/1 [==============================] - 2s 2s/step - loss: 0.8367 - accuracy: 0.6250 - val_loss: 0.9163 - val_accuracy: 0.3750\n",
            "Epoch 7/10\n",
            "1/1 [==============================] - ETA: 0s - loss: 1.0136 - accuracy: 0.3125"
          ]
        },
        {
          "name": "stderr",
          "output_type": "stream",
          "text": [
            "WARNING:absl:Found untraced functions such as _update_step_xla while saving (showing 1 of 1). These functions will not be directly callable after loading.\n"
          ]
        },
        {
          "name": "stdout",
          "output_type": "stream",
          "text": [
            "\b\b\b\b\b\b\b\b\b\b\b\b\b\b\b\b\b\b\b\b\b\b\b\b\b\b\b\b\b\b\b\b\b\b\b\b\b\b\b\b\b\b\b\b\b\b\b\b\b\b\b\b\b\b\b\b\b\b\b\b\b\b\b\b\b\b\b\b\b\b\b\b\b\b\b\b\b\b\b\b\r1/1 [==============================] - 2s 2s/step - loss: 1.0136 - accuracy: 0.3125 - val_loss: 0.9632 - val_accuracy: 0.3750\n",
            "Epoch 8/10\n",
            "1/1 [==============================] - ETA: 0s - loss: 1.0736 - accuracy: 0.3125"
          ]
        },
        {
          "name": "stderr",
          "output_type": "stream",
          "text": [
            "WARNING:absl:Found untraced functions such as _update_step_xla while saving (showing 1 of 1). These functions will not be directly callable after loading.\n"
          ]
        },
        {
          "name": "stdout",
          "output_type": "stream",
          "text": [
            "\b\b\b\b\b\b\b\b\b\b\b\b\b\b\b\b\b\b\b\b\b\b\b\b\b\b\b\b\b\b\b\b\b\b\b\b\b\b\b\b\b\b\b\b\b\b\b\b\b\b\b\b\b\b\b\b\b\b\b\b\b\b\b\b\b\b\b\b\b\b\b\b\b\b\b\b\b\b\b\b\r1/1 [==============================] - 1s 1s/step - loss: 1.0736 - accuracy: 0.3125 - val_loss: 0.7016 - val_accuracy: 0.5000\n",
            "Epoch 9/10\n",
            "1/1 [==============================] - ETA: 0s - loss: 1.0162 - accuracy: 0.3125"
          ]
        },
        {
          "name": "stderr",
          "output_type": "stream",
          "text": [
            "WARNING:absl:Found untraced functions such as _update_step_xla while saving (showing 1 of 1). These functions will not be directly callable after loading.\n"
          ]
        },
        {
          "name": "stdout",
          "output_type": "stream",
          "text": [
            "\b\b\b\b\b\b\b\b\b\b\b\b\b\b\b\b\b\b\b\b\b\b\b\b\b\b\b\b\b\b\b\b\b\b\b\b\b\b\b\b\b\b\b\b\b\b\b\b\b\b\b\b\b\b\b\b\b\b\b\b\b\b\b\b\b\b\b\b\b\b\b\b\b\b\b\b\b\b\b\b\r1/1 [==============================] - 1s 1s/step - loss: 1.0162 - accuracy: 0.3125 - val_loss: 0.5192 - val_accuracy: 0.7500\n",
            "Epoch 10/10\n",
            "1/1 [==============================] - ETA: 0s - loss: 0.8445 - accuracy: 0.4375"
          ]
        },
        {
          "name": "stderr",
          "output_type": "stream",
          "text": [
            "WARNING:absl:Found untraced functions such as _update_step_xla while saving (showing 1 of 1). These functions will not be directly callable after loading.\n"
          ]
        },
        {
          "name": "stdout",
          "output_type": "stream",
          "text": [
            "\b\b\b\b\b\b\b\b\b\b\b\b\b\b\b\b\b\b\b\b\b\b\b\b\b\b\b\b\b\b\b\b\b\b\b\b\b\b\b\b\b\b\b\b\b\b\b\b\b\b\b\b\b\b\b\b\b\b\b\b\b\b\b\b\b\b\b\b\b\b\b\b\b\b\b\b\b\b\b\b\r1/1 [==============================] - 1s 1s/step - loss: 0.8445 - accuracy: 0.4375 - val_loss: 0.6007 - val_accuracy: 0.7500\n"
          ]
        }
      ],
      "source": [
        "input_shape = (6, 100)\n",
        "num_label = 4\n",
        "model_MLP = create_MLP(input_shape, num_label)\n",
        "#model_MLP.summary()\n",
        "\n",
        "history = model_MLP.fit(train_ds_BM, validation_data= valid_ds_BM, epochs=10, callbacks=[early_stopping, checkpoint])"
      ]
    },
    {
      "cell_type": "code",
      "execution_count": null,
      "metadata": {
        "colab": {
          "base_uri": "https://localhost:8080/"
        },
        "id": "bUukLoTlqDfC",
        "outputId": "302d3603-74be-4b04-d664-6e3ffbafd412"
      },
      "outputs": [
        {
          "name": "stdout",
          "output_type": "stream",
          "text": [
            "2/2 [==============================] - 0s 10ms/step - loss: 0.9350 - accuracy: 0.7750\n"
          ]
        },
        {
          "data": {
            "text/plain": [
              "[0.9349850416183472, 0.7749999761581421]"
            ]
          },
          "execution_count": 49,
          "metadata": {},
          "output_type": "execute_result"
        }
      ],
      "source": [
        "#model_MLP.evaluate(test_ds_BM)\n",
        "model_MLP.evaluate(X_test_BM, y_test_BM_encoded)"
      ]
    }
  ],
  "metadata": {
    "colab": {
      "provenance": []
    },
    "kernelspec": {
      "display_name": "Python 3",
      "name": "python3"
    },
    "language_info": {
      "name": "python"
    }
  },
  "nbformat": 4,
  "nbformat_minor": 0
}
